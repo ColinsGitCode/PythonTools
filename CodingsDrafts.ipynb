{
 "cells": [
  {
   "cell_type": "code",
   "id": "initial_id",
   "metadata": {
    "collapsed": true,
    "ExecuteTime": {
     "end_time": "2024-05-28T06:13:01.985276Z",
     "start_time": "2024-05-28T06:13:00.487049Z"
    }
   },
   "source": [
    "%run AccessLogAnalysis.py\n",
    "from AccessLogAnalysis import LogAnalysis"
   ],
   "outputs": [],
   "execution_count": 1
  },
  {
   "metadata": {
    "ExecuteTime": {
     "end_time": "2024-05-28T06:14:21.766376Z",
     "start_time": "2024-05-28T06:13:01.985276Z"
    }
   },
   "cell_type": "code",
   "source": [
    "the_log_name = \"LogPlainTxt\\\\message_179.170.130.210.bn.2iij.net_20240527.log\"\n",
    "log_date = \"LogAnalysis_\" + the_log_name.split('_')[-1].split('.')[0]\n",
    "\n",
    "all_logs_df = LogAnalysis.log_reader(the_log_name)\n",
    "hundred_one_df = all_logs_df.sample(frac=0.01, random_state=42)\n",
    "hundred_one_df.to_csv(log_date + '_Samples.csv')\n",
    "\n",
    "log_id = hundred_one_df.iloc[200]['logid']\n",
    "print(log_id)\n",
    "\n",
    "all_df_mem = all_logs_df.memory_usage(deep=True).sum()\n",
    "hundred_one_df_mem = hundred_one_df.memory_usage(deep=True).sum()\n",
    "\n",
    "print(f\"all_logs_df memory usage: {all_df_mem} bytes\")\n",
    "print(f\"hundred_one_df memory usage: {hundred_one_df_mem} bytes\")"
   ],
   "id": "8c88932fdfa14c32",
   "outputs": [
    {
     "name": "stderr",
     "output_type": "stream",
     "text": [
      "Reading logs by lines:: 100%|██████████| 939117/939117 [00:12<00:00, 73022.38it/s]\n",
      "2024-05-28 15:13:21,253\tINFO worker.py:1749 -- Started a local Ray instance.\n",
      "UserWarning: Distributing <class 'list'> object. This may take some time.\n"
     ]
    },
    {
     "name": "stdout",
     "output_type": "stream",
     "text": [
      "0000000013\n",
      "all_logs_df memory usage: 3983416864 bytes\n",
      "hundred_one_df memory usage: 39919554 bytes\n"
     ]
    }
   ],
   "execution_count": 2
  },
  {
   "metadata": {
    "ExecuteTime": {
     "end_time": "2024-05-28T06:15:09.172864Z",
     "start_time": "2024-05-28T06:15:09.142210Z"
    }
   },
   "cell_type": "code",
   "source": "3983416864 / 1024 / 1024 / 1024",
   "id": "349f38f6408ab67b",
   "outputs": [
    {
     "data": {
      "text/plain": [
       "3.7098460495471954"
      ]
     },
     "execution_count": 4,
     "metadata": {},
     "output_type": "execute_result"
    }
   ],
   "execution_count": 4
  },
  {
   "metadata": {
    "ExecuteTime": {
     "end_time": "2024-05-28T06:15:21.813107Z",
     "start_time": "2024-05-28T06:15:21.781921Z"
    }
   },
   "cell_type": "code",
   "source": "39919554 / 1024 / 1024 / 1024",
   "id": "86822f45ee1278a0",
   "outputs": [
    {
     "data": {
      "text/plain": [
       "0.037177981808781624"
      ]
     },
     "execution_count": 5,
     "metadata": {},
     "output_type": "execute_result"
    }
   ],
   "execution_count": 5
  },
  {
   "metadata": {},
   "cell_type": "code",
   "outputs": [],
   "execution_count": null,
   "source": "",
   "id": "23b18878c18c12f"
  }
 ],
 "metadata": {
  "kernelspec": {
   "display_name": "Python 3",
   "language": "python",
   "name": "python3"
  },
  "language_info": {
   "codemirror_mode": {
    "name": "ipython",
    "version": 2
   },
   "file_extension": ".py",
   "mimetype": "text/x-python",
   "name": "python",
   "nbconvert_exporter": "python",
   "pygments_lexer": "ipython2",
   "version": "2.7.6"
  }
 },
 "nbformat": 4,
 "nbformat_minor": 5
}
