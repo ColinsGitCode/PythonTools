{
 "cells": [
  {
   "cell_type": "code",
   "id": "initial_id",
   "metadata": {
    "collapsed": true,
    "ExecuteTime": {
     "end_time": "2024-05-28T05:32:17.682578Z",
     "start_time": "2024-05-28T05:32:16.857783Z"
    }
   },
   "source": [
    "%run AccessLogAnalysis.py\n",
    "from AccessLogAnalysis import LogAnalysis"
   ],
   "outputs": [],
   "execution_count": 1
  },
  {
   "metadata": {
    "ExecuteTime": {
     "end_time": "2024-05-28T05:34:54.520316Z",
     "start_time": "2024-05-28T05:32:17.682578Z"
    }
   },
   "cell_type": "code",
   "source": [
    "the_log_name = \"LogPlainTxt\\\\message_179.170.130.210.bn.2iij.net_20240527.log\"\n",
    "log_date = \"LogAnalysis_\" + the_log_name.split('_')[-1].split('.')[0]\n",
    "print(log_date)\n",
    "\n",
    "\n",
    "all_logs_df = LogAnalysis.log_reader(the_log_name)\n",
    "\n",
    "# print(\"index = 0 value = \" + all_logs_df.iloc[0]['logid'])\n",
    "# print(\"index = 1 value = \" + all_logs_df.iloc[1]['logid'])\n",
    "# print(\"index = 2 value = \" + all_logs_df.iloc[2]['logid'])\n",
    "# print(\"index = 220 value = \" + all_logs_df.iloc[220]['logid'])\n",
    "\n",
    "# LogAnalysis.statics_all_logid_ratio(all_logs_df, logdate)\n",
    "# LogAnalysis.statics_for_log_levels(all_logs_df, logdate)\n",
    "# LogAnalysis.detail_analysis_by_column_and_value(all_logs_df, 'logid', all_logs_df.iloc[0]['logid'], logdate)\n",
    "# LogAnalysis.detail_analysis_by_column_and_value(all_logs_df, 'logid', all_logs_df.iloc[1]['logid'], logdate)\n",
    "# LogAnalysis.detail_analysis_by_column_and_value(all_logs_df, 'logid', all_logs_df.iloc[2]['logid'], logdate)\n",
    "# LogAnalysis.detail_analysis_by_column_and_value(all_logs_df, 'logid', all_logs_df.iloc[220]['logid'], logdate)"
   ],
   "id": "8c88932fdfa14c32",
   "outputs": [
    {
     "name": "stdout",
     "output_type": "stream",
     "text": [
      "LogAnalysis_20240527\n"
     ]
    },
    {
     "name": "stderr",
     "output_type": "stream",
     "text": [
      "Reading logs by lines:: 100%|██████████| 939117/939117 [00:15<00:00, 61590.07it/s]\n",
      "2024-05-28 14:32:39,745\tINFO worker.py:1749 -- Started a local Ray instance.\n",
      "UserWarning: Distributing <class 'list'> object. This may take some time.\n"
     ]
    }
   ],
   "execution_count": 2
  },
  {
   "metadata": {
    "ExecuteTime": {
     "end_time": "2024-05-28T05:35:00.662846Z",
     "start_time": "2024-05-28T05:34:54.523311Z"
    }
   },
   "cell_type": "code",
   "source": [
    "hundred_one_df = all_logs_df.sample(frac=0.01, random_state=42)\n",
    "hundred_one_df.to_csv(log_date + '_Samples.csv')"
   ],
   "id": "2822700d59c183d",
   "outputs": [],
   "execution_count": 3
  },
  {
   "metadata": {
    "ExecuteTime": {
     "end_time": "2024-05-28T05:35:00.741916Z",
     "start_time": "2024-05-28T05:35:00.667884Z"
    }
   },
   "cell_type": "code",
   "source": [
    "log_id = hundred_one_df.iloc[200]['logid']\n",
    "print(log_id)"
   ],
   "id": "31f33ac3c3f454e0",
   "outputs": [
    {
     "name": "stdout",
     "output_type": "stream",
     "text": [
      "0000000013\n"
     ]
    }
   ],
   "execution_count": 4
  },
  {
   "metadata": {
    "ExecuteTime": {
     "end_time": "2024-05-28T05:35:00.757944Z",
     "start_time": "2024-05-28T05:35:00.741916Z"
    }
   },
   "cell_type": "code",
   "source": [
    "import re\n",
    "print(re.sub(r'\\D', '', log_id) == '0000000013')"
   ],
   "id": "218db6d9580dc4a6",
   "outputs": [
    {
     "name": "stdout",
     "output_type": "stream",
     "text": [
      "True\n"
     ]
    }
   ],
   "execution_count": 5
  },
  {
   "metadata": {
    "ExecuteTime": {
     "end_time": "2024-05-28T05:35:00.790156Z",
     "start_time": "2024-05-28T05:35:00.759015Z"
    }
   },
   "cell_type": "code",
   "source": "",
   "id": "111e85f67e234b25",
   "outputs": [],
   "execution_count": 5
  }
 ],
 "metadata": {
  "kernelspec": {
   "display_name": "Python 3",
   "language": "python",
   "name": "python3"
  },
  "language_info": {
   "codemirror_mode": {
    "name": "ipython",
    "version": 2
   },
   "file_extension": ".py",
   "mimetype": "text/x-python",
   "name": "python",
   "nbconvert_exporter": "python",
   "pygments_lexer": "ipython2",
   "version": "2.7.6"
  }
 },
 "nbformat": 4,
 "nbformat_minor": 5
}
