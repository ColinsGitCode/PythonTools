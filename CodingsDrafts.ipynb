{
 "cells": [
  {
   "cell_type": "code",
   "id": "initial_id",
   "metadata": {
    "collapsed": true,
    "ExecuteTime": {
     "end_time": "2024-05-29T05:41:30.856946Z",
     "start_time": "2024-05-29T05:41:08.621967Z"
    }
   },
   "source": [
    "%run AccessLogAnalysis.py\n",
    "from AccessLogAnalysis import LogAnalysis, Utils, Const\n",
    "\n",
    "logs_dir = 'LogPlainTxt'\n",
    "id_df, level_df = LogAnalysis.analysis_logs_monthly(logs_dir, '202405')"
   ],
   "outputs": [
    {
     "name": "stderr",
     "output_type": "stream",
     "text": [
      "Reading logs on 20240525 by lines: 100%|██████████| 310997/310997 [00:03<00:00, 87319.77it/s]\n",
      "Reading logs on 20240526 by lines: 100%|██████████| 342219/342219 [00:03<00:00, 87634.97it/s]\n",
      "Reading logs on 20240527 by lines: 100%|██████████| 939117/939117 [00:10<00:00, 86153.61it/s]\n"
     ]
    },
    {
     "name": "stdout",
     "output_type": "stream",
     "text": [
      "DataFrame saved to Monthly_Logs_ID_Stats_202405.xlsx\n",
      "DataFrame saved to Monthly_Logs_Level_Stats_202405.xlsx\n"
     ]
    }
   ],
   "execution_count": 1
  },
  {
   "metadata": {
    "ExecuteTime": {
     "end_time": "2024-05-29T05:43:19.029719Z",
     "start_time": "2024-05-29T05:43:19.006012Z"
    }
   },
   "cell_type": "code",
   "source": "id_df",
   "id": "20440f68dad375c7",
   "outputs": [
    {
     "data": {
      "text/plain": [
       "         logid  logid_count  %(percentage)\n",
       "2   0000000013      1157520      72.693383\n",
       "1   0000000020       217548      13.662226\n",
       "4   0001000014       113353       7.118679\n",
       "3   0000000011        92225       5.791820\n",
       "5   0101039943         3778       0.237262\n",
       "9   0101039944         3079       0.193364\n",
       "6   0101039426         3011       0.189094\n",
       "7   0100040704          762       0.047854\n",
       "11  0100026001          538       0.033787\n",
       "8   0100041000          127       0.007976\n",
       "15  0100026003          126       0.007913\n",
       "10  0100022813          100       0.006280\n",
       "14  0101039946           90       0.005652\n",
       "12  0110052000           48       0.003014\n",
       "13  0100046600           16       0.001005\n",
       "16  0112053203            8       0.000502\n",
       "0   0102038012            3       0.000188"
      ],
      "text/html": [
       "<div>\n",
       "<style scoped>\n",
       "    .dataframe tbody tr th:only-of-type {\n",
       "        vertical-align: middle;\n",
       "    }\n",
       "\n",
       "    .dataframe tbody tr th {\n",
       "        vertical-align: top;\n",
       "    }\n",
       "\n",
       "    .dataframe thead th {\n",
       "        text-align: right;\n",
       "    }\n",
       "</style>\n",
       "<table border=\"1\" class=\"dataframe\">\n",
       "  <thead>\n",
       "    <tr style=\"text-align: right;\">\n",
       "      <th></th>\n",
       "      <th>logid</th>\n",
       "      <th>logid_count</th>\n",
       "      <th>%(percentage)</th>\n",
       "    </tr>\n",
       "  </thead>\n",
       "  <tbody>\n",
       "    <tr>\n",
       "      <th>2</th>\n",
       "      <td>0000000013</td>\n",
       "      <td>1157520</td>\n",
       "      <td>72.693383</td>\n",
       "    </tr>\n",
       "    <tr>\n",
       "      <th>1</th>\n",
       "      <td>0000000020</td>\n",
       "      <td>217548</td>\n",
       "      <td>13.662226</td>\n",
       "    </tr>\n",
       "    <tr>\n",
       "      <th>4</th>\n",
       "      <td>0001000014</td>\n",
       "      <td>113353</td>\n",
       "      <td>7.118679</td>\n",
       "    </tr>\n",
       "    <tr>\n",
       "      <th>3</th>\n",
       "      <td>0000000011</td>\n",
       "      <td>92225</td>\n",
       "      <td>5.791820</td>\n",
       "    </tr>\n",
       "    <tr>\n",
       "      <th>5</th>\n",
       "      <td>0101039943</td>\n",
       "      <td>3778</td>\n",
       "      <td>0.237262</td>\n",
       "    </tr>\n",
       "    <tr>\n",
       "      <th>9</th>\n",
       "      <td>0101039944</td>\n",
       "      <td>3079</td>\n",
       "      <td>0.193364</td>\n",
       "    </tr>\n",
       "    <tr>\n",
       "      <th>6</th>\n",
       "      <td>0101039426</td>\n",
       "      <td>3011</td>\n",
       "      <td>0.189094</td>\n",
       "    </tr>\n",
       "    <tr>\n",
       "      <th>7</th>\n",
       "      <td>0100040704</td>\n",
       "      <td>762</td>\n",
       "      <td>0.047854</td>\n",
       "    </tr>\n",
       "    <tr>\n",
       "      <th>11</th>\n",
       "      <td>0100026001</td>\n",
       "      <td>538</td>\n",
       "      <td>0.033787</td>\n",
       "    </tr>\n",
       "    <tr>\n",
       "      <th>8</th>\n",
       "      <td>0100041000</td>\n",
       "      <td>127</td>\n",
       "      <td>0.007976</td>\n",
       "    </tr>\n",
       "    <tr>\n",
       "      <th>15</th>\n",
       "      <td>0100026003</td>\n",
       "      <td>126</td>\n",
       "      <td>0.007913</td>\n",
       "    </tr>\n",
       "    <tr>\n",
       "      <th>10</th>\n",
       "      <td>0100022813</td>\n",
       "      <td>100</td>\n",
       "      <td>0.006280</td>\n",
       "    </tr>\n",
       "    <tr>\n",
       "      <th>14</th>\n",
       "      <td>0101039946</td>\n",
       "      <td>90</td>\n",
       "      <td>0.005652</td>\n",
       "    </tr>\n",
       "    <tr>\n",
       "      <th>12</th>\n",
       "      <td>0110052000</td>\n",
       "      <td>48</td>\n",
       "      <td>0.003014</td>\n",
       "    </tr>\n",
       "    <tr>\n",
       "      <th>13</th>\n",
       "      <td>0100046600</td>\n",
       "      <td>16</td>\n",
       "      <td>0.001005</td>\n",
       "    </tr>\n",
       "    <tr>\n",
       "      <th>16</th>\n",
       "      <td>0112053203</td>\n",
       "      <td>8</td>\n",
       "      <td>0.000502</td>\n",
       "    </tr>\n",
       "    <tr>\n",
       "      <th>0</th>\n",
       "      <td>0102038012</td>\n",
       "      <td>3</td>\n",
       "      <td>0.000188</td>\n",
       "    </tr>\n",
       "  </tbody>\n",
       "</table>\n",
       "</div>"
      ]
     },
     "execution_count": 2,
     "metadata": {},
     "output_type": "execute_result"
    }
   ],
   "execution_count": 2
  },
  {
   "metadata": {
    "ExecuteTime": {
     "end_time": "2024-05-29T05:43:20.896830Z",
     "start_time": "2024-05-29T05:43:20.882051Z"
    }
   },
   "cell_type": "code",
   "source": "level_df",
   "id": "7f63b6c9bdfaf440",
   "outputs": [
    {
     "data": {
      "text/plain": [
       "           level  level_count  %(percentage)\n",
       "0       \"notice\"      1489477      93.540606\n",
       "1      \"warning\"        92225       5.791820\n",
       "2  \"information\"         4450       0.279464\n",
       "4        \"error\"         3169       0.199016\n",
       "3        \"alert\"         3011       0.189094"
      ],
      "text/html": [
       "<div>\n",
       "<style scoped>\n",
       "    .dataframe tbody tr th:only-of-type {\n",
       "        vertical-align: middle;\n",
       "    }\n",
       "\n",
       "    .dataframe tbody tr th {\n",
       "        vertical-align: top;\n",
       "    }\n",
       "\n",
       "    .dataframe thead th {\n",
       "        text-align: right;\n",
       "    }\n",
       "</style>\n",
       "<table border=\"1\" class=\"dataframe\">\n",
       "  <thead>\n",
       "    <tr style=\"text-align: right;\">\n",
       "      <th></th>\n",
       "      <th>level</th>\n",
       "      <th>level_count</th>\n",
       "      <th>%(percentage)</th>\n",
       "    </tr>\n",
       "  </thead>\n",
       "  <tbody>\n",
       "    <tr>\n",
       "      <th>0</th>\n",
       "      <td>\"notice\"</td>\n",
       "      <td>1489477</td>\n",
       "      <td>93.540606</td>\n",
       "    </tr>\n",
       "    <tr>\n",
       "      <th>1</th>\n",
       "      <td>\"warning\"</td>\n",
       "      <td>92225</td>\n",
       "      <td>5.791820</td>\n",
       "    </tr>\n",
       "    <tr>\n",
       "      <th>2</th>\n",
       "      <td>\"information\"</td>\n",
       "      <td>4450</td>\n",
       "      <td>0.279464</td>\n",
       "    </tr>\n",
       "    <tr>\n",
       "      <th>4</th>\n",
       "      <td>\"error\"</td>\n",
       "      <td>3169</td>\n",
       "      <td>0.199016</td>\n",
       "    </tr>\n",
       "    <tr>\n",
       "      <th>3</th>\n",
       "      <td>\"alert\"</td>\n",
       "      <td>3011</td>\n",
       "      <td>0.189094</td>\n",
       "    </tr>\n",
       "  </tbody>\n",
       "</table>\n",
       "</div>"
      ]
     },
     "execution_count": 3,
     "metadata": {},
     "output_type": "execute_result"
    }
   ],
   "execution_count": 3
  },
  {
   "metadata": {
    "ExecuteTime": {
     "end_time": "2024-05-29T02:18:44.207683Z",
     "start_time": "2024-05-29T02:18:25.244754Z"
    }
   },
   "cell_type": "code",
   "source": [
    "the_log_name = \"LogPlainTxt/message_179.170.130.210.bn.2iij.net_20240527.log\"\n",
    "daily_log_stats_execl_prefix = \"LogAnalysis_\" + the_log_name.split('_')[-1].split('.')[0]\n",
    "\n",
    "Utils.creat_dirs(daily_log_stats_execl_prefix)\n",
    "\n",
    "all_logs_df = LogAnalysis.log_reader(the_log_name)\n",
    "\n",
    "log_id_stats_df_27 = LogAnalysis.statics_all_logid_ratio(\n",
    "    total_logs_df=all_logs_df,\n",
    "    output_execl_name_prefix=daily_log_stats_execl_prefix\n",
    ")\n",
    "log_level_df_27 = LogAnalysis.statics_for_log_levels(\n",
    "    total_logs_df=all_logs_df,\n",
    "    output_execl_name_prefix=daily_log_stats_execl_prefix\n",
    ")"
   ],
   "id": "a48c63f806753c61",
   "outputs": [
    {
     "name": "stderr",
     "output_type": "stream",
     "text": [
      "Reading logs by lines:: 100%|██████████| 939117/939117 [00:14<00:00, 63053.25it/s]\n"
     ]
    }
   ],
   "execution_count": 2
  },
  {
   "metadata": {
    "ExecuteTime": {
     "end_time": "2024-05-29T02:18:56.338799Z",
     "start_time": "2024-05-29T02:18:48.434914Z"
    }
   },
   "cell_type": "code",
   "source": [
    "the_log_name = \"LogPlainTxt/message_179.170.130.210.bn.2iij.net_20240526.log\"\n",
    "daily_log_stats_execl_prefix = \"LogAnalysis_\" + the_log_name.split('_')[-1].split('.')[0]\n",
    "\n",
    "Utils.creat_dirs(daily_log_stats_execl_prefix)\n",
    "\n",
    "all_logs_df = LogAnalysis.log_reader(the_log_name)\n",
    "\n",
    "log_id_stats_df_26 = LogAnalysis.statics_all_logid_ratio(\n",
    "    total_logs_df=all_logs_df,\n",
    "    output_execl_name_prefix=daily_log_stats_execl_prefix\n",
    ")\n",
    "log_level_df_26 = LogAnalysis.statics_for_log_levels(\n",
    "    total_logs_df=all_logs_df,\n",
    "    output_execl_name_prefix=daily_log_stats_execl_prefix\n",
    ")"
   ],
   "id": "394f69be24f38f7a",
   "outputs": [
    {
     "name": "stderr",
     "output_type": "stream",
     "text": [
      "Reading logs by lines:: 100%|██████████| 342219/342219 [00:05<00:00, 60067.95it/s]\n"
     ]
    }
   ],
   "execution_count": 3
  },
  {
   "metadata": {
    "ExecuteTime": {
     "end_time": "2024-05-29T02:18:59.351605Z",
     "start_time": "2024-05-29T02:18:59.325446Z"
    }
   },
   "cell_type": "code",
   "source": "log_id_stats_df_27",
   "id": "45e3af52fd9a573b",
   "outputs": [
    {
     "data": {
      "text/plain": [
       "         logid  logid Counts  logid %\n",
       "1   0000000013        681944    72.62\n",
       "2   0000000020        128869    13.72\n",
       "0   0000000011         65875     7.01\n",
       "3   0001000014         60055     6.39\n",
       "10  0101039426           629     0.07\n",
       "11  0101039943           516     0.05\n",
       "12  0101039944           480     0.05\n",
       "5   0100026001           441     0.05\n",
       "7   0100040704           186     0.02\n",
       "8   0100041000            31     0.00\n",
       "6   0100026003            30     0.00\n",
       "4   0100022813            24     0.00\n",
       "13  0101039946            19     0.00\n",
       "15  0110052000            12     0.00\n",
       "9   0100046600             4     0.00\n",
       "14  0102038012             1     0.00"
      ],
      "text/html": [
       "<div>\n",
       "<style scoped>\n",
       "    .dataframe tbody tr th:only-of-type {\n",
       "        vertical-align: middle;\n",
       "    }\n",
       "\n",
       "    .dataframe tbody tr th {\n",
       "        vertical-align: top;\n",
       "    }\n",
       "\n",
       "    .dataframe thead th {\n",
       "        text-align: right;\n",
       "    }\n",
       "</style>\n",
       "<table border=\"1\" class=\"dataframe\">\n",
       "  <thead>\n",
       "    <tr style=\"text-align: right;\">\n",
       "      <th></th>\n",
       "      <th>logid</th>\n",
       "      <th>logid Counts</th>\n",
       "      <th>logid %</th>\n",
       "    </tr>\n",
       "  </thead>\n",
       "  <tbody>\n",
       "    <tr>\n",
       "      <th>1</th>\n",
       "      <td>0000000013</td>\n",
       "      <td>681944</td>\n",
       "      <td>72.62</td>\n",
       "    </tr>\n",
       "    <tr>\n",
       "      <th>2</th>\n",
       "      <td>0000000020</td>\n",
       "      <td>128869</td>\n",
       "      <td>13.72</td>\n",
       "    </tr>\n",
       "    <tr>\n",
       "      <th>0</th>\n",
       "      <td>0000000011</td>\n",
       "      <td>65875</td>\n",
       "      <td>7.01</td>\n",
       "    </tr>\n",
       "    <tr>\n",
       "      <th>3</th>\n",
       "      <td>0001000014</td>\n",
       "      <td>60055</td>\n",
       "      <td>6.39</td>\n",
       "    </tr>\n",
       "    <tr>\n",
       "      <th>10</th>\n",
       "      <td>0101039426</td>\n",
       "      <td>629</td>\n",
       "      <td>0.07</td>\n",
       "    </tr>\n",
       "    <tr>\n",
       "      <th>11</th>\n",
       "      <td>0101039943</td>\n",
       "      <td>516</td>\n",
       "      <td>0.05</td>\n",
       "    </tr>\n",
       "    <tr>\n",
       "      <th>12</th>\n",
       "      <td>0101039944</td>\n",
       "      <td>480</td>\n",
       "      <td>0.05</td>\n",
       "    </tr>\n",
       "    <tr>\n",
       "      <th>5</th>\n",
       "      <td>0100026001</td>\n",
       "      <td>441</td>\n",
       "      <td>0.05</td>\n",
       "    </tr>\n",
       "    <tr>\n",
       "      <th>7</th>\n",
       "      <td>0100040704</td>\n",
       "      <td>186</td>\n",
       "      <td>0.02</td>\n",
       "    </tr>\n",
       "    <tr>\n",
       "      <th>8</th>\n",
       "      <td>0100041000</td>\n",
       "      <td>31</td>\n",
       "      <td>0.00</td>\n",
       "    </tr>\n",
       "    <tr>\n",
       "      <th>6</th>\n",
       "      <td>0100026003</td>\n",
       "      <td>30</td>\n",
       "      <td>0.00</td>\n",
       "    </tr>\n",
       "    <tr>\n",
       "      <th>4</th>\n",
       "      <td>0100022813</td>\n",
       "      <td>24</td>\n",
       "      <td>0.00</td>\n",
       "    </tr>\n",
       "    <tr>\n",
       "      <th>13</th>\n",
       "      <td>0101039946</td>\n",
       "      <td>19</td>\n",
       "      <td>0.00</td>\n",
       "    </tr>\n",
       "    <tr>\n",
       "      <th>15</th>\n",
       "      <td>0110052000</td>\n",
       "      <td>12</td>\n",
       "      <td>0.00</td>\n",
       "    </tr>\n",
       "    <tr>\n",
       "      <th>9</th>\n",
       "      <td>0100046600</td>\n",
       "      <td>4</td>\n",
       "      <td>0.00</td>\n",
       "    </tr>\n",
       "    <tr>\n",
       "      <th>14</th>\n",
       "      <td>0102038012</td>\n",
       "      <td>1</td>\n",
       "      <td>0.00</td>\n",
       "    </tr>\n",
       "  </tbody>\n",
       "</table>\n",
       "</div>"
      ]
     },
     "execution_count": 4,
     "metadata": {},
     "output_type": "execute_result"
    }
   ],
   "execution_count": 4
  },
  {
   "metadata": {
    "ExecuteTime": {
     "end_time": "2024-05-29T02:19:01.798915Z",
     "start_time": "2024-05-29T02:19:01.784632Z"
    }
   },
   "cell_type": "code",
   "source": "log_id_stats_df_26",
   "id": "422d53814a4fdccb",
   "outputs": [
    {
     "data": {
      "text/plain": [
       "         logid  logid Counts  logid %\n",
       "1   0000000013        246512    72.03\n",
       "2   0000000020         46372    13.55\n",
       "3   0001000014         28688     8.38\n",
       "0   0000000011         14436     4.22\n",
       "11  0101039943          2377     0.69\n",
       "12  0101039944          1930     0.56\n",
       "10  0101039426          1343     0.39\n",
       "7   0100040704           288     0.08\n",
       "5   0100026001            68     0.02\n",
       "8   0100041000            48     0.01\n",
       "6   0100026003            48     0.01\n",
       "4   0100022813            39     0.01\n",
       "13  0101039946            37     0.01\n",
       "15  0110052000            18     0.01\n",
       "16  0112053203             8     0.00\n",
       "9   0100046600             6     0.00\n",
       "14  0102038012             1     0.00"
      ],
      "text/html": [
       "<div>\n",
       "<style scoped>\n",
       "    .dataframe tbody tr th:only-of-type {\n",
       "        vertical-align: middle;\n",
       "    }\n",
       "\n",
       "    .dataframe tbody tr th {\n",
       "        vertical-align: top;\n",
       "    }\n",
       "\n",
       "    .dataframe thead th {\n",
       "        text-align: right;\n",
       "    }\n",
       "</style>\n",
       "<table border=\"1\" class=\"dataframe\">\n",
       "  <thead>\n",
       "    <tr style=\"text-align: right;\">\n",
       "      <th></th>\n",
       "      <th>logid</th>\n",
       "      <th>logid Counts</th>\n",
       "      <th>logid %</th>\n",
       "    </tr>\n",
       "  </thead>\n",
       "  <tbody>\n",
       "    <tr>\n",
       "      <th>1</th>\n",
       "      <td>0000000013</td>\n",
       "      <td>246512</td>\n",
       "      <td>72.03</td>\n",
       "    </tr>\n",
       "    <tr>\n",
       "      <th>2</th>\n",
       "      <td>0000000020</td>\n",
       "      <td>46372</td>\n",
       "      <td>13.55</td>\n",
       "    </tr>\n",
       "    <tr>\n",
       "      <th>3</th>\n",
       "      <td>0001000014</td>\n",
       "      <td>28688</td>\n",
       "      <td>8.38</td>\n",
       "    </tr>\n",
       "    <tr>\n",
       "      <th>0</th>\n",
       "      <td>0000000011</td>\n",
       "      <td>14436</td>\n",
       "      <td>4.22</td>\n",
       "    </tr>\n",
       "    <tr>\n",
       "      <th>11</th>\n",
       "      <td>0101039943</td>\n",
       "      <td>2377</td>\n",
       "      <td>0.69</td>\n",
       "    </tr>\n",
       "    <tr>\n",
       "      <th>12</th>\n",
       "      <td>0101039944</td>\n",
       "      <td>1930</td>\n",
       "      <td>0.56</td>\n",
       "    </tr>\n",
       "    <tr>\n",
       "      <th>10</th>\n",
       "      <td>0101039426</td>\n",
       "      <td>1343</td>\n",
       "      <td>0.39</td>\n",
       "    </tr>\n",
       "    <tr>\n",
       "      <th>7</th>\n",
       "      <td>0100040704</td>\n",
       "      <td>288</td>\n",
       "      <td>0.08</td>\n",
       "    </tr>\n",
       "    <tr>\n",
       "      <th>5</th>\n",
       "      <td>0100026001</td>\n",
       "      <td>68</td>\n",
       "      <td>0.02</td>\n",
       "    </tr>\n",
       "    <tr>\n",
       "      <th>8</th>\n",
       "      <td>0100041000</td>\n",
       "      <td>48</td>\n",
       "      <td>0.01</td>\n",
       "    </tr>\n",
       "    <tr>\n",
       "      <th>6</th>\n",
       "      <td>0100026003</td>\n",
       "      <td>48</td>\n",
       "      <td>0.01</td>\n",
       "    </tr>\n",
       "    <tr>\n",
       "      <th>4</th>\n",
       "      <td>0100022813</td>\n",
       "      <td>39</td>\n",
       "      <td>0.01</td>\n",
       "    </tr>\n",
       "    <tr>\n",
       "      <th>13</th>\n",
       "      <td>0101039946</td>\n",
       "      <td>37</td>\n",
       "      <td>0.01</td>\n",
       "    </tr>\n",
       "    <tr>\n",
       "      <th>15</th>\n",
       "      <td>0110052000</td>\n",
       "      <td>18</td>\n",
       "      <td>0.01</td>\n",
       "    </tr>\n",
       "    <tr>\n",
       "      <th>16</th>\n",
       "      <td>0112053203</td>\n",
       "      <td>8</td>\n",
       "      <td>0.00</td>\n",
       "    </tr>\n",
       "    <tr>\n",
       "      <th>9</th>\n",
       "      <td>0100046600</td>\n",
       "      <td>6</td>\n",
       "      <td>0.00</td>\n",
       "    </tr>\n",
       "    <tr>\n",
       "      <th>14</th>\n",
       "      <td>0102038012</td>\n",
       "      <td>1</td>\n",
       "      <td>0.00</td>\n",
       "    </tr>\n",
       "  </tbody>\n",
       "</table>\n",
       "</div>"
      ]
     },
     "execution_count": 5,
     "metadata": {},
     "output_type": "execute_result"
    }
   ],
   "execution_count": 5
  },
  {
   "metadata": {
    "ExecuteTime": {
     "end_time": "2024-05-29T02:42:09.741234Z",
     "start_time": "2024-05-29T02:42:09.725076Z"
    }
   },
   "cell_type": "code",
   "source": [
    "import pandas as pd\n",
    "def combine_dataframe_by_set_index(df1: pd.DataFrame, df2: pd.DataFrame, index_col: str, count_col: str):\n",
    "    select_columns = [index_col, count_col]\n",
    "    df1 = df1[select_columns].set_index(index_col)\n",
    "    df2 = df2[select_columns].set_index(index_col)\n",
    "    \n",
    "    # 确保索引列为字符串\n",
    "    df1.index = df1.index.astype(str)\n",
    "    df2.index = df2.index.astype(str)\n",
    "    \n",
    "    # 合并两个DataFrame，按索引列处理，缺失值填充为0\n",
    "    df1 = df1.apply(pd.to_numeric, errors='coerce').fillna(0)\n",
    "    df2 = df2.apply(pd.to_numeric, errors='coerce').fillna(0)\n",
    "    # 按索引合并并将相同列相加\n",
    "    add_df = df1.add(df2, fill_value=0).fillna(0)\n",
    "    sorted_df = add_df.sort_values(by=count_col, ascending=False)\n",
    "    # sorted_df = sorted_df[count_col].astype(int)\n",
    "    total_counts = sorted_df[count_col].sum()\n",
    "    sorted_df[index_col + \" %\"] = sorted_df[count_col].apply(lambda x: (round(x / total_counts, 10)) * 100)\n",
    "    # sorted_df = sorted_df[count_col].astype(int)\n",
    "    \n",
    "    return sorted_df"
   ],
   "id": "e3621cbeb22af6cd",
   "outputs": [],
   "execution_count": 31
  },
  {
   "metadata": {
    "ExecuteTime": {
     "end_time": "2024-05-29T02:42:10.311235Z",
     "start_time": "2024-05-29T02:42:10.279709Z"
    }
   },
   "cell_type": "code",
   "source": [
    "emp_df = pd.DataFrame(\n",
    "    {\n",
    "        'logid' : [],\n",
    "        'logid Counts' : []\n",
    "    }\n",
    ")\n",
    "\n",
    "combine_dataframe_by_set_index(\n",
    "    log_id_stats_df_27,\n",
    "    log_id_stats_df_26,\n",
    "    'logid',\n",
    "    'logid Counts'\n",
    ")"
   ],
   "id": "ab8f1a754f537a6",
   "outputs": [
    {
     "data": {
      "text/plain": [
       "            logid Counts    logid %\n",
       "logid                              \n",
       "0000000013      928456.0  72.460051\n",
       "0000000020      175241.0  13.676439\n",
       "0001000014       88743.0   6.925823\n",
       "0000000011       80311.0   6.267760\n",
       "0101039943        2893.0   0.225780\n",
       "0101039944        2410.0   0.188085\n",
       "0101039426        1972.0   0.153902\n",
       "0100026001         509.0   0.039724\n",
       "0100040704         474.0   0.036993\n",
       "0100041000          79.0   0.006165\n",
       "0100026003          78.0   0.006087\n",
       "0100022813          63.0   0.004917\n",
       "0101039946          56.0   0.004370\n",
       "0110052000          30.0   0.002341\n",
       "0100046600          10.0   0.000780\n",
       "0112053203           8.0   0.000624\n",
       "0102038012           2.0   0.000156"
      ],
      "text/html": [
       "<div>\n",
       "<style scoped>\n",
       "    .dataframe tbody tr th:only-of-type {\n",
       "        vertical-align: middle;\n",
       "    }\n",
       "\n",
       "    .dataframe tbody tr th {\n",
       "        vertical-align: top;\n",
       "    }\n",
       "\n",
       "    .dataframe thead th {\n",
       "        text-align: right;\n",
       "    }\n",
       "</style>\n",
       "<table border=\"1\" class=\"dataframe\">\n",
       "  <thead>\n",
       "    <tr style=\"text-align: right;\">\n",
       "      <th></th>\n",
       "      <th>logid Counts</th>\n",
       "      <th>logid %</th>\n",
       "    </tr>\n",
       "    <tr>\n",
       "      <th>logid</th>\n",
       "      <th></th>\n",
       "      <th></th>\n",
       "    </tr>\n",
       "  </thead>\n",
       "  <tbody>\n",
       "    <tr>\n",
       "      <th>0000000013</th>\n",
       "      <td>928456.0</td>\n",
       "      <td>72.460051</td>\n",
       "    </tr>\n",
       "    <tr>\n",
       "      <th>0000000020</th>\n",
       "      <td>175241.0</td>\n",
       "      <td>13.676439</td>\n",
       "    </tr>\n",
       "    <tr>\n",
       "      <th>0001000014</th>\n",
       "      <td>88743.0</td>\n",
       "      <td>6.925823</td>\n",
       "    </tr>\n",
       "    <tr>\n",
       "      <th>0000000011</th>\n",
       "      <td>80311.0</td>\n",
       "      <td>6.267760</td>\n",
       "    </tr>\n",
       "    <tr>\n",
       "      <th>0101039943</th>\n",
       "      <td>2893.0</td>\n",
       "      <td>0.225780</td>\n",
       "    </tr>\n",
       "    <tr>\n",
       "      <th>0101039944</th>\n",
       "      <td>2410.0</td>\n",
       "      <td>0.188085</td>\n",
       "    </tr>\n",
       "    <tr>\n",
       "      <th>0101039426</th>\n",
       "      <td>1972.0</td>\n",
       "      <td>0.153902</td>\n",
       "    </tr>\n",
       "    <tr>\n",
       "      <th>0100026001</th>\n",
       "      <td>509.0</td>\n",
       "      <td>0.039724</td>\n",
       "    </tr>\n",
       "    <tr>\n",
       "      <th>0100040704</th>\n",
       "      <td>474.0</td>\n",
       "      <td>0.036993</td>\n",
       "    </tr>\n",
       "    <tr>\n",
       "      <th>0100041000</th>\n",
       "      <td>79.0</td>\n",
       "      <td>0.006165</td>\n",
       "    </tr>\n",
       "    <tr>\n",
       "      <th>0100026003</th>\n",
       "      <td>78.0</td>\n",
       "      <td>0.006087</td>\n",
       "    </tr>\n",
       "    <tr>\n",
       "      <th>0100022813</th>\n",
       "      <td>63.0</td>\n",
       "      <td>0.004917</td>\n",
       "    </tr>\n",
       "    <tr>\n",
       "      <th>0101039946</th>\n",
       "      <td>56.0</td>\n",
       "      <td>0.004370</td>\n",
       "    </tr>\n",
       "    <tr>\n",
       "      <th>0110052000</th>\n",
       "      <td>30.0</td>\n",
       "      <td>0.002341</td>\n",
       "    </tr>\n",
       "    <tr>\n",
       "      <th>0100046600</th>\n",
       "      <td>10.0</td>\n",
       "      <td>0.000780</td>\n",
       "    </tr>\n",
       "    <tr>\n",
       "      <th>0112053203</th>\n",
       "      <td>8.0</td>\n",
       "      <td>0.000624</td>\n",
       "    </tr>\n",
       "    <tr>\n",
       "      <th>0102038012</th>\n",
       "      <td>2.0</td>\n",
       "      <td>0.000156</td>\n",
       "    </tr>\n",
       "  </tbody>\n",
       "</table>\n",
       "</div>"
      ]
     },
     "execution_count": 32,
     "metadata": {},
     "output_type": "execute_result"
    }
   ],
   "execution_count": 32
  },
  {
   "metadata": {
    "ExecuteTime": {
     "end_time": "2024-05-29T02:45:11.006766Z",
     "start_time": "2024-05-29T02:45:10.989965Z"
    }
   },
   "cell_type": "code",
   "source": [
    "combine_dataframe_by_set_index(\n",
    "    log_level_df_27,\n",
    "    log_level_df_26,\n",
    "    'level',\n",
    "    'level Counts'\n",
    ")"
   ],
   "id": "9cb5da4930579bfc",
   "outputs": [
    {
     "data": {
      "text/plain": [
       "               level Counts    level %\n",
       "level                                 \n",
       "\"notice\"            1193098  93.113667\n",
       "\"warning\"             80311   6.267760\n",
       "\"information\"          3488   0.272216\n",
       "\"error\"                2466   0.192456\n",
       "\"alert\"                1972   0.153902"
      ],
      "text/html": [
       "<div>\n",
       "<style scoped>\n",
       "    .dataframe tbody tr th:only-of-type {\n",
       "        vertical-align: middle;\n",
       "    }\n",
       "\n",
       "    .dataframe tbody tr th {\n",
       "        vertical-align: top;\n",
       "    }\n",
       "\n",
       "    .dataframe thead th {\n",
       "        text-align: right;\n",
       "    }\n",
       "</style>\n",
       "<table border=\"1\" class=\"dataframe\">\n",
       "  <thead>\n",
       "    <tr style=\"text-align: right;\">\n",
       "      <th></th>\n",
       "      <th>level Counts</th>\n",
       "      <th>level %</th>\n",
       "    </tr>\n",
       "    <tr>\n",
       "      <th>level</th>\n",
       "      <th></th>\n",
       "      <th></th>\n",
       "    </tr>\n",
       "  </thead>\n",
       "  <tbody>\n",
       "    <tr>\n",
       "      <th>\"notice\"</th>\n",
       "      <td>1193098</td>\n",
       "      <td>93.113667</td>\n",
       "    </tr>\n",
       "    <tr>\n",
       "      <th>\"warning\"</th>\n",
       "      <td>80311</td>\n",
       "      <td>6.267760</td>\n",
       "    </tr>\n",
       "    <tr>\n",
       "      <th>\"information\"</th>\n",
       "      <td>3488</td>\n",
       "      <td>0.272216</td>\n",
       "    </tr>\n",
       "    <tr>\n",
       "      <th>\"error\"</th>\n",
       "      <td>2466</td>\n",
       "      <td>0.192456</td>\n",
       "    </tr>\n",
       "    <tr>\n",
       "      <th>\"alert\"</th>\n",
       "      <td>1972</td>\n",
       "      <td>0.153902</td>\n",
       "    </tr>\n",
       "  </tbody>\n",
       "</table>\n",
       "</div>"
      ]
     },
     "execution_count": 35,
     "metadata": {},
     "output_type": "execute_result"
    }
   ],
   "execution_count": 35
  },
  {
   "metadata": {
    "ExecuteTime": {
     "end_time": "2024-05-29T02:44:40.290246Z",
     "start_time": "2024-05-29T02:44:40.266664Z"
    }
   },
   "cell_type": "code",
   "source": "log_level_df_26",
   "id": "e7453c0e7872d79e",
   "outputs": [
    {
     "data": {
      "text/plain": [
       "           level  level Counts  level %\n",
       "3       \"notice\"        321972    94.08\n",
       "4      \"warning\"         14436     4.22\n",
       "2  \"information\"          2501     0.73\n",
       "1        \"error\"          1967     0.57\n",
       "0        \"alert\"          1343     0.39"
      ],
      "text/html": [
       "<div>\n",
       "<style scoped>\n",
       "    .dataframe tbody tr th:only-of-type {\n",
       "        vertical-align: middle;\n",
       "    }\n",
       "\n",
       "    .dataframe tbody tr th {\n",
       "        vertical-align: top;\n",
       "    }\n",
       "\n",
       "    .dataframe thead th {\n",
       "        text-align: right;\n",
       "    }\n",
       "</style>\n",
       "<table border=\"1\" class=\"dataframe\">\n",
       "  <thead>\n",
       "    <tr style=\"text-align: right;\">\n",
       "      <th></th>\n",
       "      <th>level</th>\n",
       "      <th>level Counts</th>\n",
       "      <th>level %</th>\n",
       "    </tr>\n",
       "  </thead>\n",
       "  <tbody>\n",
       "    <tr>\n",
       "      <th>3</th>\n",
       "      <td>\"notice\"</td>\n",
       "      <td>321972</td>\n",
       "      <td>94.08</td>\n",
       "    </tr>\n",
       "    <tr>\n",
       "      <th>4</th>\n",
       "      <td>\"warning\"</td>\n",
       "      <td>14436</td>\n",
       "      <td>4.22</td>\n",
       "    </tr>\n",
       "    <tr>\n",
       "      <th>2</th>\n",
       "      <td>\"information\"</td>\n",
       "      <td>2501</td>\n",
       "      <td>0.73</td>\n",
       "    </tr>\n",
       "    <tr>\n",
       "      <th>1</th>\n",
       "      <td>\"error\"</td>\n",
       "      <td>1967</td>\n",
       "      <td>0.57</td>\n",
       "    </tr>\n",
       "    <tr>\n",
       "      <th>0</th>\n",
       "      <td>\"alert\"</td>\n",
       "      <td>1343</td>\n",
       "      <td>0.39</td>\n",
       "    </tr>\n",
       "  </tbody>\n",
       "</table>\n",
       "</div>"
      ]
     },
     "execution_count": 33,
     "metadata": {},
     "output_type": "execute_result"
    }
   ],
   "execution_count": 33
  },
  {
   "metadata": {
    "ExecuteTime": {
     "end_time": "2024-05-29T02:44:45.522244Z",
     "start_time": "2024-05-29T02:44:45.500376Z"
    }
   },
   "cell_type": "code",
   "source": "log_level_df_27",
   "id": "8109f7c2b45a556d",
   "outputs": [
    {
     "data": {
      "text/plain": [
       "           level  level Counts  level %\n",
       "3       \"notice\"        871126    92.76\n",
       "4      \"warning\"         65875     7.01\n",
       "2  \"information\"           987     0.11\n",
       "0        \"alert\"           629     0.07\n",
       "1        \"error\"           499     0.05"
      ],
      "text/html": [
       "<div>\n",
       "<style scoped>\n",
       "    .dataframe tbody tr th:only-of-type {\n",
       "        vertical-align: middle;\n",
       "    }\n",
       "\n",
       "    .dataframe tbody tr th {\n",
       "        vertical-align: top;\n",
       "    }\n",
       "\n",
       "    .dataframe thead th {\n",
       "        text-align: right;\n",
       "    }\n",
       "</style>\n",
       "<table border=\"1\" class=\"dataframe\">\n",
       "  <thead>\n",
       "    <tr style=\"text-align: right;\">\n",
       "      <th></th>\n",
       "      <th>level</th>\n",
       "      <th>level Counts</th>\n",
       "      <th>level %</th>\n",
       "    </tr>\n",
       "  </thead>\n",
       "  <tbody>\n",
       "    <tr>\n",
       "      <th>3</th>\n",
       "      <td>\"notice\"</td>\n",
       "      <td>871126</td>\n",
       "      <td>92.76</td>\n",
       "    </tr>\n",
       "    <tr>\n",
       "      <th>4</th>\n",
       "      <td>\"warning\"</td>\n",
       "      <td>65875</td>\n",
       "      <td>7.01</td>\n",
       "    </tr>\n",
       "    <tr>\n",
       "      <th>2</th>\n",
       "      <td>\"information\"</td>\n",
       "      <td>987</td>\n",
       "      <td>0.11</td>\n",
       "    </tr>\n",
       "    <tr>\n",
       "      <th>0</th>\n",
       "      <td>\"alert\"</td>\n",
       "      <td>629</td>\n",
       "      <td>0.07</td>\n",
       "    </tr>\n",
       "    <tr>\n",
       "      <th>1</th>\n",
       "      <td>\"error\"</td>\n",
       "      <td>499</td>\n",
       "      <td>0.05</td>\n",
       "    </tr>\n",
       "  </tbody>\n",
       "</table>\n",
       "</div>"
      ]
     },
     "execution_count": 34,
     "metadata": {},
     "output_type": "execute_result"
    }
   ],
   "execution_count": 34
  },
  {
   "metadata": {},
   "cell_type": "code",
   "outputs": [],
   "execution_count": null,
   "source": "",
   "id": "4c669ce40a44a21e"
  },
  {
   "metadata": {},
   "cell_type": "code",
   "outputs": [],
   "execution_count": null,
   "source": "",
   "id": "59e8e983f5742791"
  },
  {
   "metadata": {},
   "cell_type": "code",
   "outputs": [],
   "execution_count": null,
   "source": "",
   "id": "2c6faa7920026c09"
  },
  {
   "metadata": {},
   "cell_type": "code",
   "outputs": [],
   "execution_count": null,
   "source": "",
   "id": "e7f107034c231a6a"
  },
  {
   "metadata": {},
   "cell_type": "code",
   "outputs": [],
   "execution_count": null,
   "source": "",
   "id": "400b50d060eae32b"
  },
  {
   "metadata": {},
   "cell_type": "code",
   "outputs": [],
   "execution_count": null,
   "source": "",
   "id": "42bf1499ac81e014"
  },
  {
   "metadata": {},
   "cell_type": "code",
   "outputs": [],
   "execution_count": null,
   "source": "",
   "id": "bdac31ae306c4692"
  },
  {
   "metadata": {},
   "cell_type": "code",
   "outputs": [],
   "execution_count": null,
   "source": "",
   "id": "95f7518646d87d94"
  },
  {
   "metadata": {},
   "cell_type": "code",
   "outputs": [],
   "execution_count": null,
   "source": "",
   "id": "a26b351c8388a952"
  },
  {
   "metadata": {},
   "cell_type": "code",
   "outputs": [],
   "execution_count": null,
   "source": "",
   "id": "184bf24ae70bb651"
  },
  {
   "metadata": {},
   "cell_type": "code",
   "outputs": [],
   "execution_count": null,
   "source": "",
   "id": "4bdccfacd12ed6bc"
  },
  {
   "metadata": {},
   "cell_type": "code",
   "outputs": [],
   "execution_count": null,
   "source": "",
   "id": "7963ed330da2b8cb"
  },
  {
   "metadata": {
    "ExecuteTime": {
     "end_time": "2024-05-29T00:52:04.892576Z",
     "start_time": "2024-05-29T00:51:35.651627Z"
    }
   },
   "cell_type": "code",
   "source": [
    "the_log_name = \"LogPlainTxt\\\\message_179.170.130.210.bn.2iij.net_20240527.log\"\n",
    "log_date = \"LogAnalysis_\" + the_log_name.split('_')[-1].split('.')[0]\n",
    "\n",
    "all_logs_df = LogAnalysis.log_reader(the_log_name)\n",
    "# hundred_one_df = all_logs_df.sample(frac=0.01, random_state=42)\n",
    "# hundred_one_df.to_csv(log_date + '_Samples.csv')\n",
    "\n",
    "# log_id = hundred_one_df.iloc[200]['logid']\n",
    "# print(log_id)\n",
    "\n",
    "all_df_mem = all_logs_df.memory_usage(deep=True).sum()\n",
    "# hundred_one_df_mem = hundred_one_df.memory_usage(deep=True).sum()\n",
    "\n",
    "print(f\"all_logs_df memory usage: {all_df_mem} bytes\")\n",
    "# print(f\"hundred_one_df memory usage: {hundred_one_df_mem} bytes\")"
   ],
   "id": "8c88932fdfa14c32",
   "outputs": [
    {
     "name": "stderr",
     "output_type": "stream",
     "text": [
      "Reading logs by lines:: 100%|██████████| 939117/939117 [00:15<00:00, 59483.88it/s]\n",
      "2024-05-29 09:51:56,984\tINFO worker.py:1749 -- Started a local Ray instance.\n",
      "UserWarning: Distributing <class 'list'> object. This may take some time.\n"
     ]
    },
    {
     "name": "stdout",
     "output_type": "stream",
     "text": [
      "all_logs_df memory usage: 614929961 bytes\n"
     ]
    }
   ],
   "execution_count": 2
  },
  {
   "metadata": {
    "ExecuteTime": {
     "end_time": "2024-05-29T00:52:04.913265Z",
     "start_time": "2024-05-29T00:52:04.893324Z"
    }
   },
   "cell_type": "code",
   "source": "all_logs_df.columns",
   "id": "349f38f6408ab67b",
   "outputs": [
    {
     "data": {
      "text/plain": [
       "Index(['date', 'time', 'logid', 'level', 'srcip', 'srcport', 'dstip',\n",
       "       'dstport', 'srccountry', 'dstcountry'],\n",
       "      dtype='object')"
      ]
     },
     "execution_count": 3,
     "metadata": {},
     "output_type": "execute_result"
    }
   ],
   "execution_count": 3
  },
  {
   "metadata": {
    "ExecuteTime": {
     "end_time": "2024-05-29T00:52:12.348286Z",
     "start_time": "2024-05-29T00:52:04.913265Z"
    }
   },
   "cell_type": "code",
   "source": [
    "the_log_name_25 = \"LogPlainTxt\\\\message_179.170.130.210.bn.2iij.net_20240525.log\"\n",
    "log_date_25 = \"LogAnalysis_\" + the_log_name.split('_')[-1].split('.')[0]\n",
    "\n",
    "all_logs_df_25 = LogAnalysis.log_reader(the_log_name_25)\n",
    "all_df_mem_25 = all_logs_df_25.memory_usage(deep=True).sum()\n",
    "\n",
    "print(f\"all_logs_df memory usage: {all_df_mem_25} bytes\")"
   ],
   "id": "86822f45ee1278a0",
   "outputs": [
    {
     "name": "stderr",
     "output_type": "stream",
     "text": [
      "Reading logs by lines:: 100%|██████████| 310997/310997 [00:04<00:00, 63151.91it/s]\n",
      "UserWarning: Distributing <class 'list'> object. This may take some time.\n"
     ]
    },
    {
     "name": "stdout",
     "output_type": "stream",
     "text": [
      "all_logs_df memory usage: 202692815 bytes\n"
     ]
    }
   ],
   "execution_count": 4
  },
  {
   "metadata": {
    "ExecuteTime": {
     "end_time": "2024-05-29T00:52:14.603501Z",
     "start_time": "2024-05-29T00:52:12.348286Z"
    }
   },
   "cell_type": "code",
   "source": [
    "import modin.pandas as pd\n",
    "df_concatenated = pd.concat([all_logs_df, all_logs_df_25], axis=0, ignore_index=True)\n",
    "df_concatenated_mem = df_concatenated.memory_usage(deep=True).sum()\n",
    "df_concatenated_mem"
   ],
   "id": "23b18878c18c12f",
   "outputs": [
    {
     "data": {
      "text/plain": [
       "817622648"
      ]
     },
     "execution_count": 5,
     "metadata": {},
     "output_type": "execute_result"
    }
   ],
   "execution_count": 5
  },
  {
   "metadata": {
    "ExecuteTime": {
     "end_time": "2024-05-29T00:54:24.242879Z",
     "start_time": "2024-05-29T00:54:24.229259Z"
    }
   },
   "cell_type": "code",
   "source": "(all_df_mem) / (1024**3) * 30",
   "id": "5d52ee9aa92432e9",
   "outputs": [
    {
     "data": {
      "text/plain": [
       "17.180944634601474"
      ]
     },
     "execution_count": 9,
     "metadata": {},
     "output_type": "execute_result"
    }
   ],
   "execution_count": 9
  },
  {
   "metadata": {
    "ExecuteTime": {
     "end_time": "2024-05-29T01:37:03.414204Z",
     "start_time": "2024-05-29T01:37:03.385473Z"
    }
   },
   "cell_type": "code",
   "source": "100 /28.5",
   "id": "2de1cfd79bc3ec31",
   "outputs": [
    {
     "data": {
      "text/plain": [
       "3.508771929824561"
      ]
     },
     "execution_count": 3,
     "metadata": {},
     "output_type": "execute_result"
    }
   ],
   "execution_count": 3
  },
  {
   "metadata": {},
   "cell_type": "code",
   "outputs": [],
   "execution_count": null,
   "source": "",
   "id": "8c23c3a8b85c304b"
  }
 ],
 "metadata": {
  "kernelspec": {
   "display_name": "Python 3",
   "language": "python",
   "name": "python3"
  },
  "language_info": {
   "codemirror_mode": {
    "name": "ipython",
    "version": 2
   },
   "file_extension": ".py",
   "mimetype": "text/x-python",
   "name": "python",
   "nbconvert_exporter": "python",
   "pygments_lexer": "ipython2",
   "version": "2.7.6"
  }
 },
 "nbformat": 4,
 "nbformat_minor": 5
}
