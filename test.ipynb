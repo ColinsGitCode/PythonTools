{
 "cells": [
  {
   "cell_type": "code",
   "execution_count": 1,
   "id": "initial_id",
   "metadata": {
    "collapsed": true,
    "ExecuteTime": {
     "end_time": "2023-12-11T08:12:30.616606200Z",
     "start_time": "2023-12-11T08:12:27.245246Z"
    }
   },
   "outputs": [
    {
     "name": "stderr",
     "output_type": "stream",
     "text": [
      "Reading logs by lines:: 100%|██████████| 119366/119366 [00:01<00:00, 71494.72it/s]\n"
     ]
    }
   ],
   "source": [
    "import pandas as pd\n",
    "from tqdm import tqdm\n",
    "import numpy as np\n",
    "\n",
    "\n",
    "def log_reader(log_name: str) -> pd.DataFrame:\n",
    "    \"\"\"\n",
    "    逐行读取日志，分割并提取，最后保存为 pandas dataframe\n",
    "    \"\"\"\n",
    "    with open(log_name, 'r', encoding='cp1252') as file:\n",
    "        # Get the total number of lines in the file\n",
    "        total_lines = sum(1 for _ in file)\n",
    "\n",
    "    with open(log_name, 'r', encoding='cp1252') as file:\n",
    "        split_results = []\n",
    "        # for line in file:\n",
    "        for line in tqdm(file, total=total_lines, desc=\"Reading logs by lines:\"):\n",
    "            words = line.split()[4:]\n",
    "            word_pair_dict = {}\n",
    "            for pairs in words:\n",
    "                try:\n",
    "                    ls_pairs = pairs.split(\"=\")\n",
    "                    word_pair_dict[ls_pairs[0]] = ls_pairs[1]\n",
    "                except IndexError:\n",
    "                    # ls_pairs = pairs.split(\"=\")\n",
    "                    # word_pair_dict[ls_pairs[0]] = \"\"\n",
    "                    pass\n",
    "            split_results.append(word_pair_dict)\n",
    "\n",
    "    results_df = pd.DataFrame(split_results)\n",
    "    return results_df\n",
    "\n",
    "\n",
    "def count_column_with_ratios(df_name: pd.DataFrame, col_name: str) -> pd.DataFrame:\n",
    "    \"\"\"\n",
    "    根据列名分组，分组后计数，计数后进行降序排序\n",
    "    \"\"\"\n",
    "    count_col_name = col_name + \"计数\"\n",
    "    col_counts_df = df_name.groupby(col_name).size().reset_index(name=count_col_name)\n",
    "    sorted_df = col_counts_df.sort_values(by=count_col_name, ascending=False)\n",
    "    total_counts = sorted_df[count_col_name].sum()\n",
    "    sorted_df[col_name + \"%比\"] = sorted_df[count_col_name].apply(lambda x: (round(x / total_counts, 4)) * 100)\n",
    "    return sorted_df\n",
    "\n",
    "\n",
    "def select_by_column_name_and_value(df_name: pd.DataFrame, col_name: str, col_value) -> pd.DataFrame:\n",
    "    \"\"\"\n",
    "    选取某行是某值的所有数据\n",
    "    :param df_name:\n",
    "    :param col_name:\n",
    "    :param col_value:\n",
    "    :return:\n",
    "    \"\"\"\n",
    "    filter_df = df_name.loc[df_name[col_name] == col_value]\n",
    "    return filter_df\n",
    "\n",
    "\n",
    "def analysis_selected_dataframe(selected_df: pd.DataFrame) -> pd.DataFrame:\n",
    "    \"\"\"\n",
    "    解析Dataframe表格中的 \"service\", \"srcport\", \"dstport\", \"srcip\", \"dstip\" 中的五项指标的计数排名及百分比\n",
    "    :param selected_df:\n",
    "    :return:\n",
    "    \"\"\"\n",
    "    # ls_cols=[\"service\", \"srcport\", \"dstport\", \"srcip\", \"dstip\", \"dstcountry\"]:\n",
    "    ls_cols = [\"service\", \"srcport\", \"dstport\", \"srcip\", \"dstip\"]\n",
    "    total_column_list = ['default_1', 'default_2', 'default_3']\n",
    "    total_ndarray = np.empty((20, 3))\n",
    "    for col in ls_cols:\n",
    "        selected_df_col_counts = count_column_with_ratios(selected_df, col).head(20)\n",
    "        selected_df_col_counts_columns = selected_df_col_counts.columns.tolist()\n",
    "        selected_df_col_counts_ndarray = selected_df_col_counts.to_numpy()\n",
    "        total_column_list = total_column_list + selected_df_col_counts_columns\n",
    "        total_ndarray = np.concatenate((total_ndarray, selected_df_col_counts_ndarray), axis=1)  # 注意指定axis=1以进行横向拼接\n",
    "    total_dataframe = pd.DataFrame(total_ndarray, columns=total_column_list)\n",
    "    total_dataframe = total_dataframe.drop(['default_1', 'default_2', 'default_3'], axis=1)\n",
    "    return total_dataframe\n",
    "\n",
    "\n",
    "def detail_analysis_by_column_and_value(total_logs_df: pd.DataFrame, col_name: str, col_value):\n",
    "    \"\"\"\n",
    "    解析Dataframe表格中的 \"service\", \"srcport\", \"dstport\", \"srcip\", \"dstip\" 中的五项指标的计数排名及百分比\n",
    "    以及 srccountry 和 dstcountry 2项指标的计数排名及百分比\n",
    "    并存储为 execl表格\n",
    "    :param total_logs_df:\n",
    "    :param col_name:\n",
    "    :param col_value:\n",
    "    :return:\n",
    "    \"\"\"\n",
    "    selected_df_by_column_name_and_value = select_by_column_name_and_value(total_logs_df, col_name, col_value)\n",
    "    detail_result_total_df = analysis_selected_dataframe(selected_df_by_column_name_and_value)\n",
    "    output_execl_name = (\"LongLogsAnalysisResultsTables\\\\\" + col_name + col_value.strip(\"\\\"\") + \"DetailAnalysisResults.xlsx\")\n",
    "    detail_result_total_df.to_excel(output_execl_name, index=False)\n",
    "    print(\"DataFrame saved to \" + output_execl_name)\n",
    "\n",
    "    srccountry_col_counts_df = (count_column_with_ratios(selected_df_by_column_name_and_value, 'srccountry').head(20))\n",
    "    output_execl_name = \"LongLogsAnalysisResultsTables\\\\\" + col_name + col_value.strip(\"\\\"\") + \"srccountryResults.xlsx\"\n",
    "    srccountry_col_counts_df.to_excel(output_execl_name, index=False)\n",
    "    print(\"DataFrame saved to \" + output_execl_name)\n",
    "\n",
    "    dstcountry_col_counts_df = (count_column_with_ratios(selected_df_by_column_name_and_value, 'dstcountry').head(20))\n",
    "    output_execl_name = \"LongLogsAnalysisResultsTables\\\\\" + col_name + col_value.strip(\"\\\"\") + \"dstcountryResults.xlsx\"\n",
    "    dstcountry_col_counts_df.to_excel(output_execl_name, index=False)\n",
    "    print(\"DataFrame saved to \" + output_execl_name)\n",
    "\n",
    "    return detail_result_total_df, srccountry_col_counts_df, dstcountry_col_counts_df\n",
    "\n",
    "\n",
    "if __name__ == '__main__':\n",
    "    the_log_short = \"message_179.170.130.210.bn.2iij.net_20230930.log\"\n",
    "    the_log_long = \"message_179.170.130.210.bn.2iij.net_20231002.log\"\n",
    "    the_log_long_1031 = \"message_179.170.130.210.bn.2iij.net_20231031.log\"\n",
    "    the_log_long_1208 = \"message_179.170.130.210.bn.2iij.net_20231210.log\"\n",
    "    all_logs_df = log_reader(the_log_long_1208)"
   ]
  },
  {
   "cell_type": "code",
   "execution_count": 7,
   "outputs": [
    {
     "name": "stdout",
     "output_type": "stream",
     "text": [
      "index = 0 value = \"0000000013\"\n",
      "index = 1 value = \"0001000014\"\n",
      "index = 131 value = \"0000000011\"\n",
      "index = 220 value = \"0000000020\"\n"
     ]
    },
    {
     "data": {
      "text/plain": "           logid  logid计数  logid%比\n3   \"0001000014\"    51688    43.30\n1   \"0000000013\"    49771    41.70\n2   \"0000000020\"    14447    12.10\n0   \"0000000011\"     2736     2.29\n8   \"0100040704\"      288     0.24\n13  \"0101039946\"      164     0.14\n10  \"0101039426\"      138     0.12\n7   \"0100026003\"       48     0.04\n5   \"0100026001\"       26     0.02\n12  \"0101039944\"       22     0.02\n4   \"0100022813\"       12     0.01\n9   \"0100041000\"       12     0.01\n11  \"0101039943\"        6     0.01\n15  \"0110052000\"        6     0.01\n6   \"0100026002\"        1     0.00\n14  \"0102038012\"        1     0.00",
      "text/html": "<div>\n<style scoped>\n    .dataframe tbody tr th:only-of-type {\n        vertical-align: middle;\n    }\n\n    .dataframe tbody tr th {\n        vertical-align: top;\n    }\n\n    .dataframe thead th {\n        text-align: right;\n    }\n</style>\n<table border=\"1\" class=\"dataframe\">\n  <thead>\n    <tr style=\"text-align: right;\">\n      <th></th>\n      <th>logid</th>\n      <th>logid计数</th>\n      <th>logid%比</th>\n    </tr>\n  </thead>\n  <tbody>\n    <tr>\n      <th>3</th>\n      <td>\"0001000014\"</td>\n      <td>51688</td>\n      <td>43.30</td>\n    </tr>\n    <tr>\n      <th>1</th>\n      <td>\"0000000013\"</td>\n      <td>49771</td>\n      <td>41.70</td>\n    </tr>\n    <tr>\n      <th>2</th>\n      <td>\"0000000020\"</td>\n      <td>14447</td>\n      <td>12.10</td>\n    </tr>\n    <tr>\n      <th>0</th>\n      <td>\"0000000011\"</td>\n      <td>2736</td>\n      <td>2.29</td>\n    </tr>\n    <tr>\n      <th>8</th>\n      <td>\"0100040704\"</td>\n      <td>288</td>\n      <td>0.24</td>\n    </tr>\n    <tr>\n      <th>13</th>\n      <td>\"0101039946\"</td>\n      <td>164</td>\n      <td>0.14</td>\n    </tr>\n    <tr>\n      <th>10</th>\n      <td>\"0101039426\"</td>\n      <td>138</td>\n      <td>0.12</td>\n    </tr>\n    <tr>\n      <th>7</th>\n      <td>\"0100026003\"</td>\n      <td>48</td>\n      <td>0.04</td>\n    </tr>\n    <tr>\n      <th>5</th>\n      <td>\"0100026001\"</td>\n      <td>26</td>\n      <td>0.02</td>\n    </tr>\n    <tr>\n      <th>12</th>\n      <td>\"0101039944\"</td>\n      <td>22</td>\n      <td>0.02</td>\n    </tr>\n    <tr>\n      <th>4</th>\n      <td>\"0100022813\"</td>\n      <td>12</td>\n      <td>0.01</td>\n    </tr>\n    <tr>\n      <th>9</th>\n      <td>\"0100041000\"</td>\n      <td>12</td>\n      <td>0.01</td>\n    </tr>\n    <tr>\n      <th>11</th>\n      <td>\"0101039943\"</td>\n      <td>6</td>\n      <td>0.01</td>\n    </tr>\n    <tr>\n      <th>15</th>\n      <td>\"0110052000\"</td>\n      <td>6</td>\n      <td>0.01</td>\n    </tr>\n    <tr>\n      <th>6</th>\n      <td>\"0100026002\"</td>\n      <td>1</td>\n      <td>0.00</td>\n    </tr>\n    <tr>\n      <th>14</th>\n      <td>\"0102038012\"</td>\n      <td>1</td>\n      <td>0.00</td>\n    </tr>\n  </tbody>\n</table>\n</div>"
     },
     "execution_count": 7,
     "metadata": {},
     "output_type": "execute_result"
    }
   ],
   "source": [
    "# important\n",
    "# AllLogidRatios: Logid, Logid计数， Logid百分比\n",
    "selected_df_col_counts = count_column_with_ratios(all_logs_df,\"logid\")\n",
    "print(\"index = 0 value = \" + all_logs_df.iloc[0]['logid'])\n",
    "print(\"index = 1 value = \" + all_logs_df.iloc[1]['logid'])\n",
    "print(\"index = 131 value = \" + all_logs_df.iloc[131]['logid'])\n",
    "print(\"index = 220 value = \" + all_logs_df.iloc[220]['logid'])\n",
    "selected_df_col_counts"
   ],
   "metadata": {
    "collapsed": false,
    "ExecuteTime": {
     "end_time": "2023-12-11T02:31:16.624687400Z",
     "start_time": "2023-12-11T02:31:16.563128400Z"
    }
   },
   "id": "f446d18395306b73"
  },
  {
   "cell_type": "code",
   "execution_count": 23,
   "outputs": [
    {
     "name": "stdout",
     "output_type": "stream",
     "text": [
      "      action  action计数  action%比\n",
      "1  \"ip-conn\"     32896      79.1\n",
      "0      \"dns\"      8694      20.9\n"
     ]
    }
   ],
   "source": [
    "# important\n",
    "# AllLogidRatios: action, action计数， action百分比\n",
    "df_logid_xxx = select_by_column_name_and_value(all_logs_df, 'logid', all_logs_df.iloc[220]['logid']) \n",
    "print(count_column_with_ratios(df_logid_xxx, \"action\").head(20))"
   ],
   "metadata": {
    "collapsed": false,
    "ExecuteTime": {
     "end_time": "2023-12-11T01:53:28.798514900Z",
     "start_time": "2023-12-11T01:53:28.620856600Z"
    }
   },
   "id": "381763f8affd0c3e"
  },
  {
   "cell_type": "code",
   "execution_count": 19,
   "outputs": [
    {
     "data": {
      "text/plain": "           level  level计数  level%比\n2       \"notice\"   711302    94.39\n3      \"warning\"    41590     5.52\n1  \"information\"      597     0.08\n0        \"alert\"       85     0.01",
      "text/html": "<div>\n<style scoped>\n    .dataframe tbody tr th:only-of-type {\n        vertical-align: middle;\n    }\n\n    .dataframe tbody tr th {\n        vertical-align: top;\n    }\n\n    .dataframe thead th {\n        text-align: right;\n    }\n</style>\n<table border=\"1\" class=\"dataframe\">\n  <thead>\n    <tr style=\"text-align: right;\">\n      <th></th>\n      <th>level</th>\n      <th>level计数</th>\n      <th>level%比</th>\n    </tr>\n  </thead>\n  <tbody>\n    <tr>\n      <th>2</th>\n      <td>\"notice\"</td>\n      <td>711302</td>\n      <td>94.39</td>\n    </tr>\n    <tr>\n      <th>3</th>\n      <td>\"warning\"</td>\n      <td>41590</td>\n      <td>5.52</td>\n    </tr>\n    <tr>\n      <th>1</th>\n      <td>\"information\"</td>\n      <td>597</td>\n      <td>0.08</td>\n    </tr>\n    <tr>\n      <th>0</th>\n      <td>\"alert\"</td>\n      <td>85</td>\n      <td>0.01</td>\n    </tr>\n  </tbody>\n</table>\n</div>"
     },
     "execution_count": 19,
     "metadata": {},
     "output_type": "execute_result"
    }
   ],
   "source": [
    "# Importances\n",
    "# LogLevelRatios\n",
    "df_col_service_counts = count_column_with_ratios(all_logs_df, \"level\").head(20)\n",
    "df_col_service_counts"
   ],
   "metadata": {
    "collapsed": false,
    "ExecuteTime": {
     "end_time": "2023-12-11T01:42:03.955411100Z",
     "start_time": "2023-12-11T01:42:03.765352700Z"
    }
   },
   "id": "20c1e3086dc40205"
  },
  {
   "cell_type": "code",
   "execution_count": 14,
   "outputs": [
    {
     "name": "stdout",
     "output_type": "stream",
     "text": [
      "        type  type计数  type%比\n",
      "0  \"traffic\"  104194   100.0\n",
      "     subtype  subtype计数  subtype%比\n",
      "0  \"forward\"     104194      100.0\n",
      "      level  level计数  level%比\n",
      "0  \"notice\"   104194    100.0\n",
      "Empty DataFrame\n",
      "Columns: [msg, msg计数, msg%比]\n",
      "Index: []\n",
      "Empty DataFrame\n",
      "Columns: [logdesc, logdesc计数, logdesc%比]\n",
      "Index: []\n",
      "Empty DataFrame\n",
      "Columns: [desc, desc计数, desc%比]\n",
      "Index: []\n",
      "Empty DataFrame\n",
      "Columns: [reason, reason计数, reason%比]\n",
      "Index: []\n"
     ]
    }
   ],
   "source": [
    "df_logid_xxx = select_by_column_name_and_value(all_logs_df, 'logid', all_logs_df.iloc[0]['logid']) \n",
    "print(count_column_with_ratios(df_logid_xxx, \"type\").head(20))\n",
    "print(count_column_with_ratios(df_logid_xxx, \"subtype\").head(20))\n",
    "print(count_column_with_ratios(df_logid_xxx, \"level\").head(20))\n",
    "print(count_column_with_ratios(df_logid_xxx, \"msg\").head(20))\n",
    "print(count_column_with_ratios(df_logid_xxx, \"logdesc\").head(20))\n",
    "print(count_column_with_ratios(df_logid_xxx, \"desc\").head(20))\n",
    "print(count_column_with_ratios(df_logid_xxx, \"reason\").head(20))"
   ],
   "metadata": {
    "collapsed": false,
    "ExecuteTime": {
     "end_time": "2023-12-11T01:28:04.233130Z",
     "start_time": "2023-12-11T01:28:03.803321500Z"
    }
   },
   "id": "6d93d0d64eb18f48"
  },
  {
   "cell_type": "code",
   "execution_count": 18,
   "outputs": [
    {
     "name": "stdout",
     "output_type": "stream",
     "text": [
      "DataFrame saved to LongLogsAnalysisResultsTables\\logid0000000011DetailAnalysisResults.xlsx\n",
      "DataFrame saved to LongLogsAnalysisResultsTables\\logid0000000011srccountryResults.xlsx\n",
      "DataFrame saved to LongLogsAnalysisResultsTables\\logid0000000011dstcountryResults.xlsx\n"
     ]
    },
    {
     "data": {
      "text/plain": "(        service service计数 service%比 srcport srcport计数 srcport%比 dstport  \\\n 0       \"HTTPS\"     29965     72.05   16403        37      0.09     443   \n 1         \"DNS\"      9575     23.02   56166        11      0.03      53   \n 2     \"udp/443\"       928      2.23   50640        10      0.02      80   \n 3        \"HTTP\"       477      1.15   60781        10      0.02    5223   \n 4    \"icmp/0/8\"       259      0.62   55511        10      0.02   17472   \n 5    \"tcp/5223\"        64      0.15   51965         9      0.02    8740   \n 6   \"tcp/17472\"        62      0.15   52147         9      0.02   10001   \n 7    \"tcp/8740\"        18      0.04   55471         9      0.02    8081   \n 8   \"tcp/10001\"        17      0.04   54222         9      0.02     853   \n 9    \"tcp/8081\"        16      0.04   55429         9      0.02    3478   \n 10    \"tcp/853\"        15      0.04   50427         9      0.02    8080   \n 11   \"udp/3478\"        12      0.03   55102         9      0.02      22   \n 12   \"tcp/8080\"        11      0.03   52590         9      0.02    3480   \n 13     \"udp/80\"        10      0.02   54884         9      0.02    8000   \n 14        \"SSH\"         9      0.02   51296         9      0.02      81   \n 15   \"udp/3480\"         9      0.02   49847         9      0.02    8883   \n 16   \"tcp/8883\"         8      0.02   51234         9      0.02    7826   \n 17     \"tcp/81\"         8      0.02   49828         9      0.02    8443   \n 18   \"udp/8000\"         8      0.02   54182         9      0.02     993   \n 19   \"tcp/8443\"         6      0.01   55316         9      0.02   19000   \n \n    dstport计数 dstport%比            srcip srcip计数 srcip%比           dstip  \\\n 0      30893     74.75   192.168.100.54    6440   15.48     202.232.2.3   \n 1       9575     23.17  192.168.100.180    3066    7.37     202.232.2.2   \n 2        487      1.18  192.168.100.175    2422    5.82    13.107.6.158   \n 3         64      0.15   192.168.100.57    2018    4.85   52.109.52.169   \n 4         62      0.15   192.168.100.91    1999    4.81   13.107.136.10   \n 5         18      0.04  192.168.100.161    1906    4.58   13.107.138.10   \n 6         17      0.04  192.168.100.104    1605    3.86   52.123.128.14   \n 7         16      0.04  192.168.100.139    1601    3.85   52.123.129.14   \n 8         15      0.04  192.168.100.144    1541    3.71   52.105.216.25   \n 9         12      0.03   192.168.100.65    1307    3.14   52.109.44.111   \n 10        11      0.03  192.168.100.111    1224    2.94  204.79.197.203   \n 11         9      0.02  192.168.100.154    1202    2.89  204.79.197.239   \n 12         9      0.02   192.168.100.78    1186    2.85   40.126.38.160   \n 13         8      0.02  192.168.100.156    1106    2.66   13.107.21.239   \n 14         8      0.02  192.168.100.146     933    2.24   40.126.38.161   \n 15         8      0.02   192.168.100.33     915     2.2    40.126.38.36   \n 16         6      0.01   192.168.100.67     913     2.2    20.78.29.188   \n 17         6      0.01  192.168.100.116     911    2.19    52.111.232.7   \n 18         6      0.01  192.168.100.141     866    2.08   40.65.170.106   \n 19         5      0.01  192.168.100.170     819    1.97     52.109.52.2   \n \n    dstip计数 dstip%比  \n 0     8024   19.29  \n 1     1565    3.76  \n 2      451    1.08  \n 3      445    1.07  \n 4      440    1.06  \n 5      428    1.03  \n 6      383    0.92  \n 7      380    0.91  \n 8      363    0.87  \n 9      333     0.8  \n 10     323    0.78  \n 11     283    0.68  \n 12     277    0.67  \n 13     270    0.65  \n 14     264    0.63  \n 15     237    0.57  \n 16     232    0.56  \n 17     226    0.54  \n 18     213    0.51  \n 19     195    0.47  ,\n    srccountry  srccountry计数  srccountry%比\n 0  \"Reserved\"         41590         100.0,\n        dstcountry  dstcountry计数  dstcountry%比\n 13        \"Japan\"         23848         57.34\n 25        \"United         11999         28.85\n 19    \"Singapore\"          2274          5.47\n 14        \"Korea,           856          2.06\n 0     \"Australia\"           622          1.50\n 7           \"Hong           567          1.36\n 16  \"Netherlands\"           327          0.79\n 10      \"Ireland\"           285          0.69\n 5        \"France\"           224          0.54\n 3         \"China\"           193          0.46\n 8         \"India\"           128          0.31\n 9     \"Indonesia\"           105          0.25\n 6       \"Germany\"            37          0.09\n 4       \"Denmark\"            33          0.08\n 18     \"Reserved\"            26          0.06\n 24       \"Taiwan\"            24          0.06\n 15       \"Mexico\"            14          0.03\n 21        \"Spain\"            10          0.02\n 22       \"Sweden\"             6          0.01\n 23  \"Switzerland\"             3          0.01)"
     },
     "execution_count": 18,
     "metadata": {},
     "output_type": "execute_result"
    }
   ],
   "source": [
    "detail_analysis_by_column_and_value(all_logs_df, 'logid', all_logs_df.iloc[220]['logid'])"
   ],
   "metadata": {
    "collapsed": false,
    "ExecuteTime": {
     "end_time": "2023-12-11T01:36:09.601755400Z",
     "start_time": "2023-12-11T01:36:08.577531900Z"
    }
   },
   "id": "d978891fef4cb7f6"
  },
  {
   "cell_type": "code",
   "execution_count": null,
   "outputs": [],
   "source": [],
   "metadata": {
    "collapsed": false
   },
   "id": "b36374e98917b35a"
  },
  {
   "cell_type": "code",
   "execution_count": null,
   "outputs": [],
   "source": [],
   "metadata": {
    "collapsed": false
   },
   "id": "e4c1b51190f38bca"
  },
  {
   "cell_type": "code",
   "execution_count": null,
   "outputs": [],
   "source": [],
   "metadata": {
    "collapsed": false
   },
   "id": "57b4621b9f3f33c4"
  },
  {
   "cell_type": "markdown",
   "source": [
    "分割线"
   ],
   "metadata": {
    "collapsed": false
   },
   "id": "e18dd7e444dc758f"
  },
  {
   "cell_type": "markdown",
   "source": [],
   "metadata": {
    "collapsed": false
   },
   "id": "7206c377ea1f9e36"
  },
  {
   "cell_type": "code",
   "execution_count": null,
   "outputs": [],
   "source": [
    "df_col_level_val_notice = select_by_column_name_and_value(all_logs_df, \"level\", \"\\\"notice\\\"\")\n",
    "df_col_level_val_notice_count_service = count_column_with_ratios(df_col_level_val_notice, \"service\").head(20)\n",
    "df_col_level_val_notice_count_service.head(20)"
   ],
   "metadata": {
    "collapsed": false
   },
   "id": "1d368b5b6cc22c81"
  },
  {
   "cell_type": "code",
   "execution_count": null,
   "outputs": [],
   "source": [
    "df_col_service_val_https = select_by_column_name_and_value(all_logs_df, \"service\", \"\\\"HTTPS\\\"\")\n",
    "df_col_service_val_https.head(20)"
   ],
   "metadata": {
    "collapsed": false
   },
   "id": "70ff740bbaad5828"
  },
  {
   "cell_type": "code",
   "execution_count": null,
   "outputs": [],
   "source": [
    "df_col_service_val_https_counts_service = count_column_with_ratios(df_col_service_val_https, \"dstcountry\").head(20)\n",
    "df_col_service_val_https_counts_service"
   ],
   "metadata": {
    "collapsed": false
   },
   "id": "3b90266469b45cab"
  },
  {
   "cell_type": "code",
   "execution_count": null,
   "outputs": [],
   "source": [
    "df_col_type_val_traffic_counts_service = count_column_with_ratios(df_col_type_val_traffic, \"reason\").head(20)\n",
    "df_col_type_val_traffic_counts_service"
   ],
   "metadata": {
    "collapsed": false
   },
   "id": "93b08c0a6ddba1f"
  },
  {
   "cell_type": "code",
   "execution_count": null,
   "outputs": [],
   "source": [
    "df_col_service_counts = count_column_with_ratios(all_logs_df, \"level\").head(20)\n",
    "df_col_service_counts"
   ],
   "metadata": {
    "collapsed": false
   },
   "id": "7331280a9ee06e7"
  },
  {
   "cell_type": "code",
   "execution_count": null,
   "outputs": [],
   "source": [
    "df_col_service_counts = count_column_with_ratios(all_logs_df, \"service\").head(20)\n",
    "df_col_service_counts"
   ],
   "metadata": {
    "collapsed": false
   },
   "id": "6b9d27c4b7ccb907"
  },
  {
   "cell_type": "code",
   "execution_count": null,
   "outputs": [],
   "source": [
    "df_col_service_counts = count_column_with_ratios(all_logs_df, \"srcintf\").head(20)\n",
    "df_col_service_counts"
   ],
   "metadata": {
    "collapsed": false
   },
   "id": "ff688f3ce2bcd3f8"
  },
  {
   "cell_type": "code",
   "execution_count": null,
   "outputs": [],
   "source": [
    "df_col_service_counts = count_column_with_ratios(all_logs_df, \"srcintfrole\").head(20)\n",
    "df_col_service_counts"
   ],
   "metadata": {
    "collapsed": false
   },
   "id": "dbc60aeb57a4c5c9"
  },
  {
   "cell_type": "code",
   "execution_count": null,
   "outputs": [],
   "source": [
    "df_col_service_counts = count_column_with_ratios(all_logs_df, \"dstintf\").head(20)\n",
    "df_col_service_counts"
   ],
   "metadata": {
    "collapsed": false
   },
   "id": "e7a4f4f864bfa689"
  },
  {
   "cell_type": "code",
   "execution_count": null,
   "outputs": [],
   "source": [
    "df_col_service_counts = count_column_with_ratios(all_logs_df, \"appcat\").head(20)\n",
    "df_col_service_counts"
   ],
   "metadata": {
    "collapsed": false
   },
   "id": "600c1ee67ee3bdb6"
  },
  {
   "cell_type": "code",
   "execution_count": null,
   "outputs": [],
   "source": [
    "df_logid_13 = select_by_column_name_and_value(all_logs_df, 'logid', all_logs_df.iloc[0]['logid']) \n",
    "df_col_service_counts = count_column_with_ratios(df_logid_13, \"subtype\").head(20)\n",
    "df_col_service_counts"
   ],
   "metadata": {
    "collapsed": false
   },
   "id": "318fe4bfb2900eea"
  },
  {
   "cell_type": "code",
   "execution_count": null,
   "outputs": [],
   "source": [
    "df_logid_20 = select_by_column_name_and_value(all_logs_df, 'logid', all_logs_df.iloc[1]['logid']) \n",
    "df_col_service_counts = count_column_with_ratios(df_logid_20, \"subtype\").head(20)\n",
    "df_col_service_counts"
   ],
   "metadata": {
    "collapsed": false
   },
   "id": "8197774ec9982a6f"
  },
  {
   "cell_type": "code",
   "execution_count": null,
   "outputs": [],
   "source": [
    "df_logid_14 = select_by_column_name_and_value(all_logs_df, 'logid', all_logs_df.iloc[53]['logid']) \n",
    "df_col_service_counts = count_column_with_ratios(df_logid_14, \"subtype\").head(20)\n",
    "df_col_service_counts"
   ],
   "metadata": {
    "collapsed": false
   },
   "id": "d9af0bb4378f0cb7"
  },
  {
   "cell_type": "code",
   "execution_count": null,
   "outputs": [],
   "source": [
    "df_logid_11 = select_by_column_name_and_value(all_logs_df, 'logid', all_logs_df.iloc[12]['logid']) \n",
    "df_col_service_counts = count_column_with_ratios(df_logid_11, \"subtype\").head(20)\n",
    "df_col_service_counts"
   ],
   "metadata": {
    "collapsed": false
   },
   "id": "c3945d626df7ce82"
  },
  {
   "cell_type": "code",
   "execution_count": null,
   "outputs": [],
   "source": [
    "detail_analysis_by_column_and_value(all_logs_df, 'logid', all_logs_df.iloc[12]['logid'])"
   ],
   "metadata": {
    "collapsed": false
   },
   "id": "de02dc84dc34c188"
  },
  {
   "cell_type": "code",
   "execution_count": null,
   "outputs": [],
   "source": [
    "print(all_logs_df.columns)\n",
    "print(\"index = 0 value = \" + all_logs_df.iloc[0]['logid'])\n",
    "print(\"index = 1 value = \" + all_logs_df.iloc[1]['logid'])\n",
    "print(\"index = 12 value = \" + all_logs_df.iloc[12]['logid'])\n",
    "print(\"index = 53 value = \" + all_logs_df.iloc[53]['logid'])\n",
    "print(\"index = 827 value = \" + all_logs_df.iloc[827]['logid'])\n",
    "print(\"index = 1399 value = \" + all_logs_df.iloc[1399]['logid'])\n",
    "print(\"index = 3611 value = \" + all_logs_df.iloc[3611]['logid'])\n",
    "print(\"index = 15150 value = \" + all_logs_df.iloc[15150]['logid'])\n",
    "print(\"index = 100068 value = \" + all_logs_df.iloc[100068]['logid'])\n",
    "print(\"index = 612439 value = \" + all_logs_df.iloc[612439]['logid'])\n",
    "print(\"index = 613245 value = \" + all_logs_df.iloc[613245]['logid'])\n",
    "print(\"index = 756415 value = \" + all_logs_df.iloc[756415]['logid'])\n",
    "print(\"index = 913468 value = \" + all_logs_df.iloc[913468]['logid'])\n",
    "print(\"index = 921527 value = \" + all_logs_df.iloc[921527]['logid'])\n",
    "print(\"index = 804075 value = \" + all_logs_df.iloc[804075]['logid'])\n",
    "print(\"index = 984182 value = \" + all_logs_df.iloc[984182]['logid'])"
   ],
   "metadata": {
    "collapsed": false
   },
   "id": "891a2d9508fa20dc"
  },
  {
   "cell_type": "code",
   "execution_count": null,
   "outputs": [],
   "source": [
    "df_logid_xxx = select_by_column_name_and_value(all_logs_df, 'logid', all_logs_df.iloc[984182]['logid']) \n",
    "print(count_column_with_ratios(df_logid_xxx, \"type\").head(20))\n",
    "print(count_column_with_ratios(df_logid_xxx, \"subtype\").head(20))\n",
    "print(count_column_with_ratios(df_logid_xxx, \"level\").head(20))\n",
    "print(count_column_with_ratios(df_logid_xxx, \"msg\").head(20))\n",
    "print(count_column_with_ratios(df_logid_xxx, \"logdesc\").head(20))\n",
    "print(count_column_with_ratios(df_logid_xxx, \"desc\").head(20))\n",
    "print(count_column_with_ratios(df_logid_xxx, \"reason\").head(20))"
   ],
   "metadata": {
    "collapsed": false
   },
   "id": "5ddc377a839cd4fd"
  },
  {
   "cell_type": "code",
   "execution_count": 8,
   "outputs": [
    {
     "name": "stdout",
     "output_type": "stream",
     "text": [
      "原始数据:\n",
      "[[1 2 3]\n",
      " [4 5 6]\n",
      " [7 8 9]]\n",
      "\n",
      "填充后的数据:\n",
      "[[1 2 3 0]\n",
      " [4 5 6 0]\n",
      " [7 8 9 0]]\n"
     ]
    }
   ],
   "source": [
    "import numpy as np\n",
    "\n",
    "# 指定期望的形状\n",
    "desired_shape = (3, 4)\n",
    "\n",
    "# 创建一个包含数据的2D NumPy数组\n",
    "data = np.array([[1, 2, 3], [4, 5, 6], [7, 8, 9]])\n",
    "\n",
    "# 使用np.pad函数进行填充，以确保形状匹配\n",
    "padded_data = np.pad(data, ((0, max(0, desired_shape[0] - data.shape[0])), (0, max(0, desired_shape[1] - data.shape[1]))), mode='constant', constant_values=0)\n",
    "\n",
    "# 打印结果\n",
    "print(\"原始数据:\")\n",
    "print(data)\n",
    "print(\"\\n填充后的数据:\")\n",
    "print(padded_data)"
   ],
   "metadata": {
    "collapsed": false,
    "ExecuteTime": {
     "end_time": "2023-12-11T02:48:43.280668400Z",
     "start_time": "2023-12-11T02:48:43.249291Z"
    }
   },
   "id": "12852ea5ea63edaf"
  },
  {
   "cell_type": "code",
   "execution_count": 9,
   "outputs": [
    {
     "name": "stdout",
     "output_type": "stream",
     "text": [
      "原始数据:\n",
      "[[1 2 3]\n",
      " [4 5 6]\n",
      " [7 8 9]]\n",
      "\n",
      "填充后的数据:\n",
      "[[1 2 3]\n",
      " [4 5 6]\n",
      " [7 8 9]\n",
      " [1 2 3]]\n"
     ]
    }
   ],
   "source": [
    "import numpy as np\n",
    "\n",
    "# 期望的行数\n",
    "desired_rows = 4\n",
    "\n",
    "# 原始数据\n",
    "data = np.array([[1, 2, 3], [4, 5, 6], [7, 8, 9]])\n",
    "\n",
    "# 如果当前行数小于期望的行数，使用resize函数填充零行\n",
    "if data.shape[0] < desired_rows:\n",
    "    padded_data = np.resize(data, (desired_rows, data.shape[1]))\n",
    "else:\n",
    "    padded_data = data.copy()\n",
    "\n",
    "# 打印结果\n",
    "print(\"原始数据:\")\n",
    "print(data)\n",
    "print(\"\\n填充后的数据:\")\n",
    "print(padded_data)\n"
   ],
   "metadata": {
    "collapsed": false,
    "ExecuteTime": {
     "end_time": "2023-12-11T02:50:52.172822900Z",
     "start_time": "2023-12-11T02:50:52.141429500Z"
    }
   },
   "id": "4e637135f5ca0d05"
  },
  {
   "cell_type": "code",
   "execution_count": 10,
   "outputs": [
    {
     "name": "stdout",
     "output_type": "stream",
     "text": [
      "原始数据:\n",
      "[[1 2 3]\n",
      " [4 5 6]\n",
      " [7 8 9]]\n",
      "\n",
      "填充后的数据:\n",
      "[[1 2 3]\n",
      " [4 5 6]\n",
      " [7 8 9]\n",
      " [0 0 0]]\n"
     ]
    }
   ],
   "source": [
    "import numpy as np\n",
    "\n",
    "# 期望的行数\n",
    "desired_rows = 4\n",
    "\n",
    "# 原始数据\n",
    "data = np.array([[1, 2, 3], [4, 5, 6], [7, 8, 9]])\n",
    "\n",
    "# 计算需要填充的行数\n",
    "padding_rows = max(0, desired_rows - data.shape[0])\n",
    "\n",
    "# 使用pad函数在底部填充零行\n",
    "padded_data = np.pad(data, ((0, padding_rows), (0, 0)), mode='constant', constant_values=0)\n",
    "\n",
    "# 打印结果\n",
    "print(\"原始数据:\")\n",
    "print(data)\n",
    "print(\"\\n填充后的数据:\")\n",
    "print(padded_data)"
   ],
   "metadata": {
    "collapsed": false,
    "ExecuteTime": {
     "end_time": "2023-12-11T02:51:58.734485400Z",
     "start_time": "2023-12-11T02:51:58.704032700Z"
    }
   },
   "id": "7ddd12873b784966"
  },
  {
   "cell_type": "code",
   "execution_count": null,
   "outputs": [],
   "source": [],
   "metadata": {
    "collapsed": false
   },
   "id": "167714f1600b880d"
  }
 ],
 "metadata": {
  "kernelspec": {
   "display_name": "Python 3",
   "language": "python",
   "name": "python3"
  },
  "language_info": {
   "codemirror_mode": {
    "name": "ipython",
    "version": 2
   },
   "file_extension": ".py",
   "mimetype": "text/x-python",
   "name": "python",
   "nbconvert_exporter": "python",
   "pygments_lexer": "ipython2",
   "version": "2.7.6"
  }
 },
 "nbformat": 4,
 "nbformat_minor": 5
}
