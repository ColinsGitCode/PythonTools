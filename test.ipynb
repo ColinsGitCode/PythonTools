{
 "cells": [
  {
   "cell_type": "code",
   "execution_count": 1,
   "id": "initial_id",
   "metadata": {
    "collapsed": true,
    "ExecuteTime": {
     "end_time": "2023-10-07T04:27:53.621458500Z",
     "start_time": "2023-10-07T04:27:52.886948700Z"
    }
   },
   "outputs": [],
   "source": [
    "import pandas as pd\n",
    "from tqdm import tqdm\n",
    "import numpy as np\n",
    "\n",
    "\n",
    "def log_reader(log_name: str) -> pd.DataFrame:\n",
    "    \"\"\"\n",
    "    逐行读取日志，分割并提取，最后保存为 pandas dataframe\n",
    "    \"\"\"\n",
    "    with open(log_name, 'r', encoding='cp1252') as file:\n",
    "        # Get the total number of lines in the file\n",
    "        total_lines = sum(1 for _ in file)\n",
    "\n",
    "    with open(log_name, 'r', encoding='cp1252') as file:\n",
    "        split_results = []\n",
    "        # for line in file:\n",
    "        for line in tqdm(file, total=total_lines, desc=\"Reading logs by lines:\"):\n",
    "            words = line.split()[4:]\n",
    "            word_pair_dict = {}\n",
    "            for pairs in words:\n",
    "                try:\n",
    "                    ls_pairs = pairs.split(\"=\")\n",
    "                    word_pair_dict[ls_pairs[0]] = ls_pairs[1]\n",
    "                except IndexError:\n",
    "                    # ls_pairs = pairs.split(\"=\")\n",
    "                    # word_pair_dict[ls_pairs[0]] = \"\"\n",
    "                    pass\n",
    "            split_results.append(word_pair_dict)\n",
    "\n",
    "    results_df = pd.DataFrame(split_results)\n",
    "    return results_df\n",
    "\n",
    "\n",
    "def count_column_with_ratios(df_name: pd.DataFrame, col_name: str) -> pd.DataFrame:\n",
    "    \"\"\"\n",
    "    根据列名分组，分组后计数，计数后进行降序排序\n",
    "    \"\"\"\n",
    "    count_col_name = col_name + \"计数\"\n",
    "    col_counts_df = df_name.groupby(col_name).size().reset_index(name=count_col_name)\n",
    "    sorted_df = col_counts_df.sort_values(by=count_col_name, ascending=False)\n",
    "    total_counts = sorted_df[count_col_name].sum()\n",
    "    sorted_df[col_name + \"%比\"] = sorted_df[count_col_name].apply(lambda x: (round(x / total_counts, 4)) * 100)\n",
    "    return sorted_df\n",
    "\n",
    "\n",
    "def select_by_column_name_and_value(df_name: pd.DataFrame, col_name: str, col_value) -> pd.DataFrame:\n",
    "    \"\"\"\n",
    "    选取某行是某值的所有数据\n",
    "    :param df_name:\n",
    "    :param col_name:\n",
    "    :param col_value:\n",
    "    :return:\n",
    "    \"\"\"\n",
    "    filter_df = df_name.loc[df_name[col_name] == col_value]\n",
    "    return filter_df\n",
    "\n",
    "\n",
    "def analysis_selected_dataframe(selected_df: pd.DataFrame) -> pd.DataFrame:\n",
    "    \"\"\"\n",
    "    解析Dataframe表格中的 \"service\", \"srcport\", \"dstport\", \"srcip\", \"dstip\" 中的五项指标的计数排名及百分比\n",
    "    :param selected_df:\n",
    "    :return:\n",
    "    \"\"\"\n",
    "    # ls_cols=[\"service\", \"srcport\", \"dstport\", \"srcip\", \"dstip\", \"dstcountry\"]:\n",
    "    ls_cols = [\"service\", \"srcport\", \"dstport\", \"srcip\", \"dstip\"]\n",
    "    total_column_list = ['default_1', 'default_2', 'default_3']\n",
    "    total_ndarray = np.empty((20, 3))\n",
    "    for col in ls_cols:\n",
    "        selected_df_col_counts = count_column_with_ratios(selected_df, col).head(20)\n",
    "        selected_df_col_counts_columns = selected_df_col_counts.columns.tolist()\n",
    "        selected_df_col_counts_ndarray = selected_df_col_counts.to_numpy()\n",
    "        total_column_list = total_column_list + selected_df_col_counts_columns\n",
    "        total_ndarray = np.concatenate((total_ndarray, selected_df_col_counts_ndarray), axis=1)  # 注意指定axis=1以进行横向拼接\n",
    "    total_dataframe = pd.DataFrame(total_ndarray, columns=total_column_list)\n",
    "    total_dataframe = total_dataframe.drop(['default_1', 'default_2', 'default_3'], axis=1)\n",
    "    return total_dataframe\n",
    "\n",
    "\n",
    "def detail_analysis_by_column_and_value(total_logs_df: pd.DataFrame, col_name: str, col_value):\n",
    "    \"\"\"\n",
    "    解析Dataframe表格中的 \"service\", \"srcport\", \"dstport\", \"srcip\", \"dstip\" 中的五项指标的计数排名及百分比\n",
    "    以及 srccountry 和 dstcountry 2项指标的计数排名及百分比\n",
    "    并存储为 execl表格\n",
    "    :param total_logs_df: \n",
    "    :param col_name: \n",
    "    :param col_value: \n",
    "    :return: \n",
    "    \"\"\"\n",
    "    selected_df_by_column_name_and_value = select_by_column_name_and_value(total_logs_df, col_name, col_value)\n",
    "    detail_result_total_df = analysis_selected_dataframe(selected_df_by_column_name_and_value)\n",
    "    output_execl_name = (\"LongLogsAnalysisResultsTables\\\\\" + col_name + col_value.strip(\"\\\"\") + \"DetailAnalysisResults.xlsx\")\n",
    "    detail_result_total_df.to_excel(output_execl_name, index=False)\n",
    "    print(\"DataFrame saved to \" + output_execl_name)\n",
    "\n",
    "    srccountry_col_counts_df = (count_column_with_ratios(selected_df_by_column_name_and_value, 'srccountry').head(20))\n",
    "    output_execl_name = \"LongLogsAnalysisResultsTables\\\\\" + col_name + col_value.strip(\"\\\"\") + \"srccountryResults.xlsx\"\n",
    "    srccountry_col_counts_df.to_excel(output_execl_name, index=False)\n",
    "    print(\"DataFrame saved to \" + output_execl_name)\n",
    "\n",
    "    dstcountry_col_counts_df = (count_column_with_ratios(selected_df_by_column_name_and_value, 'dstcountry').head(20))\n",
    "    output_execl_name = \"LongLogsAnalysisResultsTables\\\\\" + col_name + col_value.strip(\"\\\"\") + \"dstcountryResults.xlsx\"\n",
    "    dstcountry_col_counts_df.to_excel(output_execl_name, index=False)\n",
    "    print(\"DataFrame saved to \" + output_execl_name)\n",
    "\n",
    "    return detail_result_total_df, srccountry_col_counts_df, dstcountry_col_counts_df\n",
    "\n",
    "\n",
    "if __name__ == '__main__':\n",
    "    the_log_short = \"message_179.170.130.210.bn.2iij.net_20230930.log\"\n",
    "    the_log_long = \"message_179.170.130.210.bn.2iij.net_20231002.log\""
   ]
  },
  {
   "cell_type": "code",
   "execution_count": 2,
   "outputs": [
    {
     "name": "stderr",
     "output_type": "stream",
     "text": [
      "Reading logs by lines:: 100%|██████████| 1090953/1090953 [00:17<00:00, 62056.22it/s]\n"
     ]
    }
   ],
   "source": [
    "all_logs_df = log_reader(the_log_long)"
   ],
   "metadata": {
    "collapsed": false,
    "ExecuteTime": {
     "end_time": "2023-10-07T04:29:22.936357800Z",
     "start_time": "2023-10-07T04:28:05.001723900Z"
    }
   },
   "id": "c9237804daf5a9aa"
  },
  {
   "cell_type": "code",
   "execution_count": 3,
   "outputs": [
    {
     "data": {
      "text/plain": "           logid  logid计数  logid%比\n1   \"0000000013\"   665663    61.02\n2   \"0000000020\"   217206    19.91\n3   \"0001000014\"   146339    13.41\n0   \"0000000011\"    59644     5.47\n5   \"0100026001\"      854     0.08\n10  \"0101039426\"      736     0.07\n8   \"0100040704\"      288     0.03\n11  \"0101039943\"       87     0.01\n6   \"0100026003\"       48     0.00\n13  \"0101039946\"       36     0.00\n12  \"0101039944\"       20     0.00\n4   \"0100022813\"       12     0.00\n9   \"0100041000\"       12     0.00\n15  \"0110052000\"        6     0.00\n7   \"0100032023\"        1     0.00\n14  \"0102038012\"        1     0.00",
      "text/html": "<div>\n<style scoped>\n    .dataframe tbody tr th:only-of-type {\n        vertical-align: middle;\n    }\n\n    .dataframe tbody tr th {\n        vertical-align: top;\n    }\n\n    .dataframe thead th {\n        text-align: right;\n    }\n</style>\n<table border=\"1\" class=\"dataframe\">\n  <thead>\n    <tr style=\"text-align: right;\">\n      <th></th>\n      <th>logid</th>\n      <th>logid计数</th>\n      <th>logid%比</th>\n    </tr>\n  </thead>\n  <tbody>\n    <tr>\n      <th>1</th>\n      <td>\"0000000013\"</td>\n      <td>665663</td>\n      <td>61.02</td>\n    </tr>\n    <tr>\n      <th>2</th>\n      <td>\"0000000020\"</td>\n      <td>217206</td>\n      <td>19.91</td>\n    </tr>\n    <tr>\n      <th>3</th>\n      <td>\"0001000014\"</td>\n      <td>146339</td>\n      <td>13.41</td>\n    </tr>\n    <tr>\n      <th>0</th>\n      <td>\"0000000011\"</td>\n      <td>59644</td>\n      <td>5.47</td>\n    </tr>\n    <tr>\n      <th>5</th>\n      <td>\"0100026001\"</td>\n      <td>854</td>\n      <td>0.08</td>\n    </tr>\n    <tr>\n      <th>10</th>\n      <td>\"0101039426\"</td>\n      <td>736</td>\n      <td>0.07</td>\n    </tr>\n    <tr>\n      <th>8</th>\n      <td>\"0100040704\"</td>\n      <td>288</td>\n      <td>0.03</td>\n    </tr>\n    <tr>\n      <th>11</th>\n      <td>\"0101039943\"</td>\n      <td>87</td>\n      <td>0.01</td>\n    </tr>\n    <tr>\n      <th>6</th>\n      <td>\"0100026003\"</td>\n      <td>48</td>\n      <td>0.00</td>\n    </tr>\n    <tr>\n      <th>13</th>\n      <td>\"0101039946\"</td>\n      <td>36</td>\n      <td>0.00</td>\n    </tr>\n    <tr>\n      <th>12</th>\n      <td>\"0101039944\"</td>\n      <td>20</td>\n      <td>0.00</td>\n    </tr>\n    <tr>\n      <th>4</th>\n      <td>\"0100022813\"</td>\n      <td>12</td>\n      <td>0.00</td>\n    </tr>\n    <tr>\n      <th>9</th>\n      <td>\"0100041000\"</td>\n      <td>12</td>\n      <td>0.00</td>\n    </tr>\n    <tr>\n      <th>15</th>\n      <td>\"0110052000\"</td>\n      <td>6</td>\n      <td>0.00</td>\n    </tr>\n    <tr>\n      <th>7</th>\n      <td>\"0100032023\"</td>\n      <td>1</td>\n      <td>0.00</td>\n    </tr>\n    <tr>\n      <th>14</th>\n      <td>\"0102038012\"</td>\n      <td>1</td>\n      <td>0.00</td>\n    </tr>\n  </tbody>\n</table>\n</div>"
     },
     "execution_count": 3,
     "metadata": {},
     "output_type": "execute_result"
    }
   ],
   "source": [
    "df_logid_column_counts = count_column_with_ratios(all_logs_df, 'logid').head(20)\n",
    "df_logid_column_counts"
   ],
   "metadata": {
    "collapsed": false,
    "ExecuteTime": {
     "end_time": "2023-10-07T04:30:06.353412600Z",
     "start_time": "2023-10-07T04:30:05.689863900Z"
    }
   },
   "id": "a592a37abc04c98"
  },
  {
   "cell_type": "code",
   "execution_count": 5,
   "outputs": [
    {
     "name": "stdout",
     "output_type": "stream",
     "text": [
      "DataFrame saved to LongLogsAnalysisResultsTables\\logid0001000014DetailAnalysisResults.xlsx\n",
      "DataFrame saved to LongLogsAnalysisResultsTables\\logid0001000014srccountryResults.xlsx\n",
      "DataFrame saved to LongLogsAnalysisResultsTables\\logid0001000014dstcountryResults.xlsx\n"
     ]
    }
   ],
   "source": [
    "logid14_detail_result_total_df, logid14_srccountry_col_counts_df, logid14_dstcountry_col_counts_df = detail_analysis_by_column_and_value(all_logs_df, \"logid\", all_logs_df.iloc[53]['logid'])"
   ],
   "metadata": {
    "collapsed": false,
    "ExecuteTime": {
     "end_time": "2023-10-07T04:30:41.116801Z",
     "start_time": "2023-10-07T04:30:40.140745600Z"
    }
   },
   "id": "261ac2594d0ed4d"
  },
  {
   "cell_type": "code",
   "execution_count": 1,
   "outputs": [
    {
     "ename": "NameError",
     "evalue": "name 'count_column_with_ratios' is not defined",
     "output_type": "error",
     "traceback": [
      "\u001B[1;31m---------------------------------------------------------------------------\u001B[0m",
      "\u001B[1;31mNameError\u001B[0m                                 Traceback (most recent call last)",
      "Cell \u001B[1;32mIn[1], line 1\u001B[0m\n\u001B[1;32m----> 1\u001B[0m df_logid_column_counts \u001B[38;5;241m=\u001B[39m \u001B[43mcount_column_with_ratios\u001B[49m(all_logs_df, \u001B[38;5;124m'\u001B[39m\u001B[38;5;124mlogid\u001B[39m\u001B[38;5;124m'\u001B[39m)\u001B[38;5;241m.\u001B[39mhead(\u001B[38;5;241m20\u001B[39m)\n\u001B[0;32m      2\u001B[0m df_logid_column_counts\n",
      "\u001B[1;31mNameError\u001B[0m: name 'count_column_with_ratios' is not defined"
     ]
    }
   ],
   "source": [],
   "metadata": {
    "collapsed": false,
    "ExecuteTime": {
     "end_time": "2023-10-07T05:07:44.476200100Z",
     "start_time": "2023-10-07T05:07:44.208087400Z"
    }
   },
   "id": "6a371ef87ce9e9c2"
  },
  {
   "cell_type": "code",
   "execution_count": null,
   "outputs": [],
   "source": [],
   "metadata": {
    "collapsed": false
   },
   "id": "6baf6be332e1bd6d"
  }
 ],
 "metadata": {
  "kernelspec": {
   "display_name": "Python 3",
   "language": "python",
   "name": "python3"
  },
  "language_info": {
   "codemirror_mode": {
    "name": "ipython",
    "version": 2
   },
   "file_extension": ".py",
   "mimetype": "text/x-python",
   "name": "python",
   "nbconvert_exporter": "python",
   "pygments_lexer": "ipython2",
   "version": "2.7.6"
  }
 },
 "nbformat": 4,
 "nbformat_minor": 5
}
