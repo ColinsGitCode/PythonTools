{
 "cells": [
  {
   "cell_type": "code",
   "execution_count": 1,
   "id": "initial_id",
   "metadata": {
    "collapsed": true,
    "ExecuteTime": {
     "end_time": "2023-10-09T13:18:50.509340500Z",
     "start_time": "2023-10-09T13:18:49.921346100Z"
    }
   },
   "outputs": [],
   "source": [
    "import pandas as pd\n",
    "from tqdm import tqdm\n",
    "import numpy as np\n",
    "\n",
    "\n",
    "def log_reader(log_name: str) -> pd.DataFrame:\n",
    "    \"\"\"\n",
    "    逐行读取日志，分割并提取，最后保存为 pandas dataframe\n",
    "    \"\"\"\n",
    "    with open(log_name, 'r', encoding='cp1252') as file:\n",
    "        # Get the total number of lines in the file\n",
    "        total_lines = sum(1 for _ in file)\n",
    "\n",
    "    with open(log_name, 'r', encoding='cp1252') as file:\n",
    "        split_results = []\n",
    "        # for line in file:\n",
    "        for line in tqdm(file, total=total_lines, desc=\"Reading logs by lines:\"):\n",
    "            words = line.split()[4:]\n",
    "            word_pair_dict = {}\n",
    "            for pairs in words:\n",
    "                try:\n",
    "                    ls_pairs = pairs.split(\"=\")\n",
    "                    word_pair_dict[ls_pairs[0]] = ls_pairs[1]\n",
    "                except IndexError:\n",
    "                    # ls_pairs = pairs.split(\"=\")\n",
    "                    # word_pair_dict[ls_pairs[0]] = \"\"\n",
    "                    pass\n",
    "            split_results.append(word_pair_dict)\n",
    "\n",
    "    results_df = pd.DataFrame(split_results)\n",
    "    return results_df\n",
    "\n",
    "\n",
    "def count_column_with_ratios(df_name: pd.DataFrame, col_name: str) -> pd.DataFrame:\n",
    "    \"\"\"\n",
    "    根据列名分组，分组后计数，计数后进行降序排序\n",
    "    \"\"\"\n",
    "    count_col_name = col_name + \"计数\"\n",
    "    col_counts_df = df_name.groupby(col_name).size().reset_index(name=count_col_name)\n",
    "    sorted_df = col_counts_df.sort_values(by=count_col_name, ascending=False)\n",
    "    total_counts = sorted_df[count_col_name].sum()\n",
    "    sorted_df[col_name + \"%比\"] = sorted_df[count_col_name].apply(lambda x: (round(x / total_counts, 4)) * 100)\n",
    "    return sorted_df\n",
    "\n",
    "\n",
    "def select_by_column_name_and_value(df_name: pd.DataFrame, col_name: str, col_value) -> pd.DataFrame:\n",
    "    \"\"\"\n",
    "    选取某行是某值的所有数据\n",
    "    :param df_name:\n",
    "    :param col_name:\n",
    "    :param col_value:\n",
    "    :return:\n",
    "    \"\"\"\n",
    "    filter_df = df_name.loc[df_name[col_name] == col_value]\n",
    "    return filter_df\n",
    "\n",
    "\n",
    "def analysis_selected_dataframe(selected_df: pd.DataFrame) -> pd.DataFrame:\n",
    "    \"\"\"\n",
    "    解析Dataframe表格中的 \"service\", \"srcport\", \"dstport\", \"srcip\", \"dstip\" 中的五项指标的计数排名及百分比\n",
    "    :param selected_df:\n",
    "    :return:\n",
    "    \"\"\"\n",
    "    # ls_cols=[\"service\", \"srcport\", \"dstport\", \"srcip\", \"dstip\", \"dstcountry\"]:\n",
    "    ls_cols = [\"service\", \"srcport\", \"dstport\", \"srcip\", \"dstip\"]\n",
    "    total_column_list = ['default_1', 'default_2', 'default_3']\n",
    "    total_ndarray = np.empty((20, 3))\n",
    "    for col in ls_cols:\n",
    "        selected_df_col_counts = count_column_with_ratios(selected_df, col).head(20)\n",
    "        selected_df_col_counts_columns = selected_df_col_counts.columns.tolist()\n",
    "        selected_df_col_counts_ndarray = selected_df_col_counts.to_numpy()\n",
    "        total_column_list = total_column_list + selected_df_col_counts_columns\n",
    "        total_ndarray = np.concatenate((total_ndarray, selected_df_col_counts_ndarray), axis=1)  # 注意指定axis=1以进行横向拼接\n",
    "    total_dataframe = pd.DataFrame(total_ndarray, columns=total_column_list)\n",
    "    total_dataframe = total_dataframe.drop(['default_1', 'default_2', 'default_3'], axis=1)\n",
    "    return total_dataframe\n",
    "\n",
    "\n",
    "def detail_analysis_by_column_and_value(total_logs_df: pd.DataFrame, col_name: str, col_value):\n",
    "    \"\"\"\n",
    "    解析Dataframe表格中的 \"service\", \"srcport\", \"dstport\", \"srcip\", \"dstip\" 中的五项指标的计数排名及百分比\n",
    "    以及 srccountry 和 dstcountry 2项指标的计数排名及百分比\n",
    "    并存储为 execl表格\n",
    "    :param total_logs_df:\n",
    "    :param col_name:\n",
    "    :param col_value:\n",
    "    :return:\n",
    "    \"\"\"\n",
    "    selected_df_by_column_name_and_value = select_by_column_name_and_value(total_logs_df, col_name, col_value)\n",
    "    detail_result_total_df = analysis_selected_dataframe(selected_df_by_column_name_and_value)\n",
    "    output_execl_name = (\"LongLogsAnalysisResultsTables\\\\\" + col_name + col_value.strip(\"\\\"\") + \"DetailAnalysisResults.xlsx\")\n",
    "    detail_result_total_df.to_excel(output_execl_name, index=False)\n",
    "    print(\"DataFrame saved to \" + output_execl_name)\n",
    "\n",
    "    srccountry_col_counts_df = (count_column_with_ratios(selected_df_by_column_name_and_value, 'srccountry').head(20))\n",
    "    output_execl_name = \"LongLogsAnalysisResultsTables\\\\\" + col_name + col_value.strip(\"\\\"\") + \"srccountryResults.xlsx\"\n",
    "    srccountry_col_counts_df.to_excel(output_execl_name, index=False)\n",
    "    print(\"DataFrame saved to \" + output_execl_name)\n",
    "\n",
    "    dstcountry_col_counts_df = (count_column_with_ratios(selected_df_by_column_name_and_value, 'dstcountry').head(20))\n",
    "    output_execl_name = \"LongLogsAnalysisResultsTables\\\\\" + col_name + col_value.strip(\"\\\"\") + \"dstcountryResults.xlsx\"\n",
    "    dstcountry_col_counts_df.to_excel(output_execl_name, index=False)\n",
    "    print(\"DataFrame saved to \" + output_execl_name)\n",
    "\n",
    "    return detail_result_total_df, srccountry_col_counts_df, dstcountry_col_counts_df\n",
    "\n",
    "\n",
    "if __name__ == '__main__':\n",
    "    the_log_short = \"message_179.170.130.210.bn.2iij.net_20230930.log\"\n",
    "    the_log_long = \"message_179.170.130.210.bn.2iij.net_20231002.log\"\n",
    "    # log_df = log_reader(the_log_short)\n",
    "    # log_df = log_reader(the_log_long)\n",
    "    # select_df = select_by_value(log_df, 'logid', log_df.iloc[0]['logid']) # logid = \"13\"\n",
    "\n",
    "\n"
   ]
  },
  {
   "cell_type": "code",
   "execution_count": 2,
   "outputs": [
    {
     "name": "stderr",
     "output_type": "stream",
     "text": [
      "Reading logs by lines:: 100%|██████████| 1090953/1090953 [00:16<00:00, 66741.37it/s]\n"
     ]
    }
   ],
   "source": [
    "# all_logs_df = log_reader(the_log_short)\n",
    "all_logs_df = log_reader(the_log_long)"
   ],
   "metadata": {
    "collapsed": false,
    "ExecuteTime": {
     "end_time": "2023-10-09T13:20:08.378769800Z",
     "start_time": "2023-10-09T13:18:55.732627200Z"
    }
   },
   "id": "c9237804daf5a9aa"
  },
  {
   "cell_type": "code",
   "execution_count": 4,
   "outputs": [
    {
     "data": {
      "text/plain": "Index(['date', 'time', 'devname', 'devid', 'logid', 'type', 'subtype', 'level',\n       'vd', 'eventtime', 'tz', 'srcip', 'srcport', 'srcintf', 'srcintfrole',\n       'dstip', 'dstport', 'dstintf', 'dstintfrole', 'sessionid', 'proto',\n       'action', 'policyid', 'policytype', 'poluuid', 'service', 'dstcountry',\n       'srccountry', 'trandisp', 'transip', 'transport', 'duration',\n       'sentbyte', 'rcvdbyte', 'sentpkt', 'rcvdpkt', 'appcat', 'sentdelta',\n       'rcvddelta', 'app', 'crscore', 'craction', 'crlevel', 'identifier',\n       'logdesc', 'cpu', 'mem', 'totalsession', 'disk', 'bandwidth',\n       'setuprate', 'disklograte', 'fazlograte', 'freediskstorage',\n       'sysuptime', 'msg', 'tunneltype', 'tunnelid', 'remip', 'user', 'group',\n       'dst_host', 'reason', 'interface', 'total', 'used', 'desc', 'status',\n       'fcni', 'fdni', 'fsci', 'pid', 'cause', 'auditid', 'audittime',\n       'auditscore', 'criticalcount', 'highcount', 'mediumcount', 'lowcount',\n       'passedcount', 'dhcp_msg', 'mac', 'ip', 'lease', 'hostname'],\n      dtype='object')"
     },
     "execution_count": 4,
     "metadata": {},
     "output_type": "execute_result"
    }
   ],
   "source": [
    "all_logs_df.columns"
   ],
   "metadata": {
    "collapsed": false,
    "ExecuteTime": {
     "end_time": "2023-10-09T10:20:59.914200100Z",
     "start_time": "2023-10-09T10:20:59.861065300Z"
    }
   },
   "id": "a592a37abc04c98"
  },
  {
   "cell_type": "code",
   "execution_count": 4,
   "outputs": [
    {
     "data": {
      "text/plain": "        type   type计数  type%比\n1  \"traffic\"  1088852   99.81\n0    \"event\"     2101    0.19",
      "text/html": "<div>\n<style scoped>\n    .dataframe tbody tr th:only-of-type {\n        vertical-align: middle;\n    }\n\n    .dataframe tbody tr th {\n        vertical-align: top;\n    }\n\n    .dataframe thead th {\n        text-align: right;\n    }\n</style>\n<table border=\"1\" class=\"dataframe\">\n  <thead>\n    <tr style=\"text-align: right;\">\n      <th></th>\n      <th>type</th>\n      <th>type计数</th>\n      <th>type%比</th>\n    </tr>\n  </thead>\n  <tbody>\n    <tr>\n      <th>1</th>\n      <td>\"traffic\"</td>\n      <td>1088852</td>\n      <td>99.81</td>\n    </tr>\n    <tr>\n      <th>0</th>\n      <td>\"event\"</td>\n      <td>2101</td>\n      <td>0.19</td>\n    </tr>\n  </tbody>\n</table>\n</div>"
     },
     "execution_count": 4,
     "metadata": {},
     "output_type": "execute_result"
    }
   ],
   "source": [
    "selected_df_col_counts = count_column_with_ratios(all_logs_df, \"type\").head(20)\n",
    "selected_df_col_counts"
   ],
   "metadata": {
    "collapsed": false,
    "ExecuteTime": {
     "end_time": "2023-10-09T13:20:34.019314300Z",
     "start_time": "2023-10-09T13:20:33.703754300Z"
    }
   },
   "id": "61a7a03942616846"
  },
  {
   "cell_type": "code",
   "execution_count": 57,
   "outputs": [
    {
     "data": {
      "text/plain": "           logid  logid计数  logid%比\n1   \"0000000013\"   665663    61.02\n2   \"0000000020\"   217206    19.91\n3   \"0001000014\"   146339    13.41\n0   \"0000000011\"    59644     5.47\n5   \"0100026001\"      854     0.08\n10  \"0101039426\"      736     0.07\n8   \"0100040704\"      288     0.03\n11  \"0101039943\"       87     0.01\n6   \"0100026003\"       48     0.00\n13  \"0101039946\"       36     0.00\n12  \"0101039944\"       20     0.00\n4   \"0100022813\"       12     0.00\n9   \"0100041000\"       12     0.00\n15  \"0110052000\"        6     0.00\n7   \"0100032023\"        1     0.00\n14  \"0102038012\"        1     0.00",
      "text/html": "<div>\n<style scoped>\n    .dataframe tbody tr th:only-of-type {\n        vertical-align: middle;\n    }\n\n    .dataframe tbody tr th {\n        vertical-align: top;\n    }\n\n    .dataframe thead th {\n        text-align: right;\n    }\n</style>\n<table border=\"1\" class=\"dataframe\">\n  <thead>\n    <tr style=\"text-align: right;\">\n      <th></th>\n      <th>logid</th>\n      <th>logid计数</th>\n      <th>logid%比</th>\n    </tr>\n  </thead>\n  <tbody>\n    <tr>\n      <th>1</th>\n      <td>\"0000000013\"</td>\n      <td>665663</td>\n      <td>61.02</td>\n    </tr>\n    <tr>\n      <th>2</th>\n      <td>\"0000000020\"</td>\n      <td>217206</td>\n      <td>19.91</td>\n    </tr>\n    <tr>\n      <th>3</th>\n      <td>\"0001000014\"</td>\n      <td>146339</td>\n      <td>13.41</td>\n    </tr>\n    <tr>\n      <th>0</th>\n      <td>\"0000000011\"</td>\n      <td>59644</td>\n      <td>5.47</td>\n    </tr>\n    <tr>\n      <th>5</th>\n      <td>\"0100026001\"</td>\n      <td>854</td>\n      <td>0.08</td>\n    </tr>\n    <tr>\n      <th>10</th>\n      <td>\"0101039426\"</td>\n      <td>736</td>\n      <td>0.07</td>\n    </tr>\n    <tr>\n      <th>8</th>\n      <td>\"0100040704\"</td>\n      <td>288</td>\n      <td>0.03</td>\n    </tr>\n    <tr>\n      <th>11</th>\n      <td>\"0101039943\"</td>\n      <td>87</td>\n      <td>0.01</td>\n    </tr>\n    <tr>\n      <th>6</th>\n      <td>\"0100026003\"</td>\n      <td>48</td>\n      <td>0.00</td>\n    </tr>\n    <tr>\n      <th>13</th>\n      <td>\"0101039946\"</td>\n      <td>36</td>\n      <td>0.00</td>\n    </tr>\n    <tr>\n      <th>12</th>\n      <td>\"0101039944\"</td>\n      <td>20</td>\n      <td>0.00</td>\n    </tr>\n    <tr>\n      <th>4</th>\n      <td>\"0100022813\"</td>\n      <td>12</td>\n      <td>0.00</td>\n    </tr>\n    <tr>\n      <th>9</th>\n      <td>\"0100041000\"</td>\n      <td>12</td>\n      <td>0.00</td>\n    </tr>\n    <tr>\n      <th>15</th>\n      <td>\"0110052000\"</td>\n      <td>6</td>\n      <td>0.00</td>\n    </tr>\n    <tr>\n      <th>7</th>\n      <td>\"0100032023\"</td>\n      <td>1</td>\n      <td>0.00</td>\n    </tr>\n    <tr>\n      <th>14</th>\n      <td>\"0102038012\"</td>\n      <td>1</td>\n      <td>0.00</td>\n    </tr>\n  </tbody>\n</table>\n</div>"
     },
     "execution_count": 57,
     "metadata": {},
     "output_type": "execute_result"
    }
   ],
   "source": [
    "selected_df_col_counts = count_column_with_ratios(all_logs_df, \"logid\")\n",
    "selected_df_col_counts"
   ],
   "metadata": {
    "collapsed": false,
    "ExecuteTime": {
     "end_time": "2023-10-09T17:34:40.889080800Z",
     "start_time": "2023-10-09T17:34:40.715637500Z"
    }
   },
   "id": "f446d18395306b73"
  },
  {
   "cell_type": "markdown",
   "source": [],
   "metadata": {
    "collapsed": false
   },
   "id": "7206c377ea1f9e36"
  },
  {
   "cell_type": "code",
   "execution_count": 35,
   "outputs": [
    {
     "data": {
      "text/plain": "            service  service计数  service%比\n9           \"HTTPS\"     427748      41.56\n4             \"DNS\"     312476      30.36\n5487      \"udp/443\"      50665       4.92\n8            \"HTTP\"      35381       3.44\n5522     \"udp/5353\"      34786       3.38\n46         \"SYSLOG\"      33979       3.30\n5594     \"udp/8612\"      26112       2.54\n5542    \"udp/59870\"      23315       2.27\n5367      \"udp/137\"      16478       1.60\n5523     \"udp/5355\"       7670       0.75\n1915    \"tcp/38003\"       6297       0.61\n5457     \"udp/3702\"       4085       0.40\n2934     \"tcp/5228\"       3337       0.32\n5368      \"udp/138\"       3093       0.30\n5008     \"tcp/8740\"       2694       0.26\n4848     \"tcp/8080\"       2082       0.20\n5048     \"tcp/8883\"       2076       0.20\n57    \"icmp6/143/0\"       2046       0.20\n5389     \"udp/1900\"       1870       0.18\n25           \"PING\"       1826       0.18",
      "text/html": "<div>\n<style scoped>\n    .dataframe tbody tr th:only-of-type {\n        vertical-align: middle;\n    }\n\n    .dataframe tbody tr th {\n        vertical-align: top;\n    }\n\n    .dataframe thead th {\n        text-align: right;\n    }\n</style>\n<table border=\"1\" class=\"dataframe\">\n  <thead>\n    <tr style=\"text-align: right;\">\n      <th></th>\n      <th>service</th>\n      <th>service计数</th>\n      <th>service%比</th>\n    </tr>\n  </thead>\n  <tbody>\n    <tr>\n      <th>9</th>\n      <td>\"HTTPS\"</td>\n      <td>427748</td>\n      <td>41.56</td>\n    </tr>\n    <tr>\n      <th>4</th>\n      <td>\"DNS\"</td>\n      <td>312476</td>\n      <td>30.36</td>\n    </tr>\n    <tr>\n      <th>5487</th>\n      <td>\"udp/443\"</td>\n      <td>50665</td>\n      <td>4.92</td>\n    </tr>\n    <tr>\n      <th>8</th>\n      <td>\"HTTP\"</td>\n      <td>35381</td>\n      <td>3.44</td>\n    </tr>\n    <tr>\n      <th>5522</th>\n      <td>\"udp/5353\"</td>\n      <td>34786</td>\n      <td>3.38</td>\n    </tr>\n    <tr>\n      <th>46</th>\n      <td>\"SYSLOG\"</td>\n      <td>33979</td>\n      <td>3.30</td>\n    </tr>\n    <tr>\n      <th>5594</th>\n      <td>\"udp/8612\"</td>\n      <td>26112</td>\n      <td>2.54</td>\n    </tr>\n    <tr>\n      <th>5542</th>\n      <td>\"udp/59870\"</td>\n      <td>23315</td>\n      <td>2.27</td>\n    </tr>\n    <tr>\n      <th>5367</th>\n      <td>\"udp/137\"</td>\n      <td>16478</td>\n      <td>1.60</td>\n    </tr>\n    <tr>\n      <th>5523</th>\n      <td>\"udp/5355\"</td>\n      <td>7670</td>\n      <td>0.75</td>\n    </tr>\n    <tr>\n      <th>1915</th>\n      <td>\"tcp/38003\"</td>\n      <td>6297</td>\n      <td>0.61</td>\n    </tr>\n    <tr>\n      <th>5457</th>\n      <td>\"udp/3702\"</td>\n      <td>4085</td>\n      <td>0.40</td>\n    </tr>\n    <tr>\n      <th>2934</th>\n      <td>\"tcp/5228\"</td>\n      <td>3337</td>\n      <td>0.32</td>\n    </tr>\n    <tr>\n      <th>5368</th>\n      <td>\"udp/138\"</td>\n      <td>3093</td>\n      <td>0.30</td>\n    </tr>\n    <tr>\n      <th>5008</th>\n      <td>\"tcp/8740\"</td>\n      <td>2694</td>\n      <td>0.26</td>\n    </tr>\n    <tr>\n      <th>4848</th>\n      <td>\"tcp/8080\"</td>\n      <td>2082</td>\n      <td>0.20</td>\n    </tr>\n    <tr>\n      <th>5048</th>\n      <td>\"tcp/8883\"</td>\n      <td>2076</td>\n      <td>0.20</td>\n    </tr>\n    <tr>\n      <th>57</th>\n      <td>\"icmp6/143/0\"</td>\n      <td>2046</td>\n      <td>0.20</td>\n    </tr>\n    <tr>\n      <th>5389</th>\n      <td>\"udp/1900\"</td>\n      <td>1870</td>\n      <td>0.18</td>\n    </tr>\n    <tr>\n      <th>25</th>\n      <td>\"PING\"</td>\n      <td>1826</td>\n      <td>0.18</td>\n    </tr>\n  </tbody>\n</table>\n</div>"
     },
     "execution_count": 35,
     "metadata": {},
     "output_type": "execute_result"
    }
   ],
   "source": [
    "df_col_level_val_notice = select_by_column_name_and_value(all_logs_df, \"level\", \"\\\"notice\\\"\")\n",
    "df_col_level_val_notice_count_service = count_column_with_ratios(df_col_level_val_notice, \"service\").head(20)\n",
    "df_col_level_val_notice_count_service.head(20)"
   ],
   "metadata": {
    "collapsed": false,
    "ExecuteTime": {
     "end_time": "2023-10-09T13:43:25.809869100Z",
     "start_time": "2023-10-09T13:43:21.791341500Z"
    }
   },
   "id": "1d368b5b6cc22c81"
  },
  {
   "cell_type": "code",
   "execution_count": 22,
   "outputs": [
    {
     "data": {
      "text/plain": "          date      time       devname               devid         logid  \\\n0   2023-10-02  08:59:59  \"msd-fw_001\"  \"FGT60FTK20049338\"  \"0000000013\"   \n1   2023-10-02  08:59:59  \"msd-fw_001\"  \"FGT60FTK20049338\"  \"0000000020\"   \n2   2023-10-02  08:59:59  \"msd-fw_001\"  \"FGT60FTK20049338\"  \"0000000013\"   \n3   2023-10-02  08:59:59  \"msd-fw_001\"  \"FGT60FTK20049338\"  \"0000000013\"   \n5   2023-10-02  08:59:59  \"msd-fw_001\"  \"FGT60FTK20049338\"  \"0000000020\"   \n6   2023-10-02  08:59:59  \"msd-fw_001\"  \"FGT60FTK20049338\"  \"0000000020\"   \n7   2023-10-02  08:59:59  \"msd-fw_001\"  \"FGT60FTK20049338\"  \"0000000020\"   \n8   2023-10-02  08:59:59  \"msd-fw_001\"  \"FGT60FTK20049338\"  \"0000000020\"   \n9   2023-10-02  08:59:59  \"msd-fw_001\"  \"FGT60FTK20049338\"  \"0000000020\"   \n10  2023-10-02  08:59:59  \"msd-fw_001\"  \"FGT60FTK20049338\"  \"0000000020\"   \n11  2023-10-02  08:59:59  \"msd-fw_001\"  \"FGT60FTK20049338\"  \"0000000013\"   \n16  2023-10-02  09:00:00  \"msd-fw_001\"  \"FGT60FTK20049338\"  \"0000000020\"   \n17  2023-10-02  09:00:00  \"msd-fw_001\"  \"FGT60FTK20049338\"  \"0000000013\"   \n19  2023-10-02  09:00:00  \"msd-fw_001\"  \"FGT60FTK20049338\"  \"0000000013\"   \n20  2023-10-02  09:00:00  \"msd-fw_001\"  \"FGT60FTK20049338\"  \"0000000011\"   \n21  2023-10-02  09:00:00  \"msd-fw_001\"  \"FGT60FTK20049338\"  \"0000000013\"   \n22  2023-10-02  09:00:00  \"msd-fw_001\"  \"FGT60FTK20049338\"  \"0000000020\"   \n23  2023-10-02  09:00:00  \"msd-fw_001\"  \"FGT60FTK20049338\"  \"0000000011\"   \n24  2023-10-02  09:00:00  \"msd-fw_001\"  \"FGT60FTK20049338\"  \"0000000013\"   \n26  2023-10-02  09:00:01  \"msd-fw_001\"  \"FGT60FTK20049338\"  \"0000000013\"   \n\n         type    subtype      level      vd            eventtime  ...  \\\n0   \"traffic\"  \"forward\"   \"notice\"  \"root\"  1696204800039993091  ...   \n1   \"traffic\"  \"forward\"   \"notice\"  \"root\"  1696204800074757171  ...   \n2   \"traffic\"  \"forward\"   \"notice\"  \"root\"  1696204800239986611  ...   \n3   \"traffic\"  \"forward\"   \"notice\"  \"root\"  1696204800309987391  ...   \n5   \"traffic\"  \"forward\"   \"notice\"  \"root\"  1696204800605421010  ...   \n6   \"traffic\"  \"forward\"   \"notice\"  \"root\"  1696204800605030391  ...   \n7   \"traffic\"  \"forward\"   \"notice\"  \"root\"  1696204800605419090  ...   \n8   \"traffic\"  \"forward\"   \"notice\"  \"root\"  1696204800605422070  ...   \n9   \"traffic\"  \"forward\"   \"notice\"  \"root\"  1696204800605415510  ...   \n10  \"traffic\"  \"forward\"   \"notice\"  \"root\"  1696204800605441930  ...   \n11  \"traffic\"  \"forward\"   \"notice\"  \"root\"  1696204800729990271  ...   \n16  \"traffic\"  \"forward\"   \"notice\"  \"root\"  1696204801145973850  ...   \n17  \"traffic\"  \"forward\"   \"notice\"  \"root\"  1696204801149991731  ...   \n19  \"traffic\"  \"forward\"   \"notice\"  \"root\"  1696204801309988491  ...   \n20  \"traffic\"  \"forward\"  \"warning\"  \"root\"  1696204801369986991  ...   \n21  \"traffic\"  \"forward\"   \"notice\"  \"root\"  1696204801369994151  ...   \n22  \"traffic\"  \"forward\"   \"notice\"  \"root\"  1696204801397772170  ...   \n23  \"traffic\"  \"forward\"  \"warning\"  \"root\"  1696204801459985431  ...   \n24  \"traffic\"  \"forward\"   \"notice\"  \"root\"  1696204801459990271  ...   \n26  \"traffic\"  \"forward\"   \"notice\"  \"root\"  1696204801579993451  ...   \n\n   mediumcount lowcount passedcount status fcni fdni fsci  pid cause desc  \n0          NaN      NaN         NaN    NaN  NaN  NaN  NaN  NaN   NaN  NaN  \n1          NaN      NaN         NaN    NaN  NaN  NaN  NaN  NaN   NaN  NaN  \n2          NaN      NaN         NaN    NaN  NaN  NaN  NaN  NaN   NaN  NaN  \n3          NaN      NaN         NaN    NaN  NaN  NaN  NaN  NaN   NaN  NaN  \n5          NaN      NaN         NaN    NaN  NaN  NaN  NaN  NaN   NaN  NaN  \n6          NaN      NaN         NaN    NaN  NaN  NaN  NaN  NaN   NaN  NaN  \n7          NaN      NaN         NaN    NaN  NaN  NaN  NaN  NaN   NaN  NaN  \n8          NaN      NaN         NaN    NaN  NaN  NaN  NaN  NaN   NaN  NaN  \n9          NaN      NaN         NaN    NaN  NaN  NaN  NaN  NaN   NaN  NaN  \n10         NaN      NaN         NaN    NaN  NaN  NaN  NaN  NaN   NaN  NaN  \n11         NaN      NaN         NaN    NaN  NaN  NaN  NaN  NaN   NaN  NaN  \n16         NaN      NaN         NaN    NaN  NaN  NaN  NaN  NaN   NaN  NaN  \n17         NaN      NaN         NaN    NaN  NaN  NaN  NaN  NaN   NaN  NaN  \n19         NaN      NaN         NaN    NaN  NaN  NaN  NaN  NaN   NaN  NaN  \n20         NaN      NaN         NaN    NaN  NaN  NaN  NaN  NaN   NaN  NaN  \n21         NaN      NaN         NaN    NaN  NaN  NaN  NaN  NaN   NaN  NaN  \n22         NaN      NaN         NaN    NaN  NaN  NaN  NaN  NaN   NaN  NaN  \n23         NaN      NaN         NaN    NaN  NaN  NaN  NaN  NaN   NaN  NaN  \n24         NaN      NaN         NaN    NaN  NaN  NaN  NaN  NaN   NaN  NaN  \n26         NaN      NaN         NaN    NaN  NaN  NaN  NaN  NaN   NaN  NaN  \n\n[20 rows x 86 columns]",
      "text/html": "<div>\n<style scoped>\n    .dataframe tbody tr th:only-of-type {\n        vertical-align: middle;\n    }\n\n    .dataframe tbody tr th {\n        vertical-align: top;\n    }\n\n    .dataframe thead th {\n        text-align: right;\n    }\n</style>\n<table border=\"1\" class=\"dataframe\">\n  <thead>\n    <tr style=\"text-align: right;\">\n      <th></th>\n      <th>date</th>\n      <th>time</th>\n      <th>devname</th>\n      <th>devid</th>\n      <th>logid</th>\n      <th>type</th>\n      <th>subtype</th>\n      <th>level</th>\n      <th>vd</th>\n      <th>eventtime</th>\n      <th>...</th>\n      <th>mediumcount</th>\n      <th>lowcount</th>\n      <th>passedcount</th>\n      <th>status</th>\n      <th>fcni</th>\n      <th>fdni</th>\n      <th>fsci</th>\n      <th>pid</th>\n      <th>cause</th>\n      <th>desc</th>\n    </tr>\n  </thead>\n  <tbody>\n    <tr>\n      <th>0</th>\n      <td>2023-10-02</td>\n      <td>08:59:59</td>\n      <td>\"msd-fw_001\"</td>\n      <td>\"FGT60FTK20049338\"</td>\n      <td>\"0000000013\"</td>\n      <td>\"traffic\"</td>\n      <td>\"forward\"</td>\n      <td>\"notice\"</td>\n      <td>\"root\"</td>\n      <td>1696204800039993091</td>\n      <td>...</td>\n      <td>NaN</td>\n      <td>NaN</td>\n      <td>NaN</td>\n      <td>NaN</td>\n      <td>NaN</td>\n      <td>NaN</td>\n      <td>NaN</td>\n      <td>NaN</td>\n      <td>NaN</td>\n      <td>NaN</td>\n    </tr>\n    <tr>\n      <th>1</th>\n      <td>2023-10-02</td>\n      <td>08:59:59</td>\n      <td>\"msd-fw_001\"</td>\n      <td>\"FGT60FTK20049338\"</td>\n      <td>\"0000000020\"</td>\n      <td>\"traffic\"</td>\n      <td>\"forward\"</td>\n      <td>\"notice\"</td>\n      <td>\"root\"</td>\n      <td>1696204800074757171</td>\n      <td>...</td>\n      <td>NaN</td>\n      <td>NaN</td>\n      <td>NaN</td>\n      <td>NaN</td>\n      <td>NaN</td>\n      <td>NaN</td>\n      <td>NaN</td>\n      <td>NaN</td>\n      <td>NaN</td>\n      <td>NaN</td>\n    </tr>\n    <tr>\n      <th>2</th>\n      <td>2023-10-02</td>\n      <td>08:59:59</td>\n      <td>\"msd-fw_001\"</td>\n      <td>\"FGT60FTK20049338\"</td>\n      <td>\"0000000013\"</td>\n      <td>\"traffic\"</td>\n      <td>\"forward\"</td>\n      <td>\"notice\"</td>\n      <td>\"root\"</td>\n      <td>1696204800239986611</td>\n      <td>...</td>\n      <td>NaN</td>\n      <td>NaN</td>\n      <td>NaN</td>\n      <td>NaN</td>\n      <td>NaN</td>\n      <td>NaN</td>\n      <td>NaN</td>\n      <td>NaN</td>\n      <td>NaN</td>\n      <td>NaN</td>\n    </tr>\n    <tr>\n      <th>3</th>\n      <td>2023-10-02</td>\n      <td>08:59:59</td>\n      <td>\"msd-fw_001\"</td>\n      <td>\"FGT60FTK20049338\"</td>\n      <td>\"0000000013\"</td>\n      <td>\"traffic\"</td>\n      <td>\"forward\"</td>\n      <td>\"notice\"</td>\n      <td>\"root\"</td>\n      <td>1696204800309987391</td>\n      <td>...</td>\n      <td>NaN</td>\n      <td>NaN</td>\n      <td>NaN</td>\n      <td>NaN</td>\n      <td>NaN</td>\n      <td>NaN</td>\n      <td>NaN</td>\n      <td>NaN</td>\n      <td>NaN</td>\n      <td>NaN</td>\n    </tr>\n    <tr>\n      <th>5</th>\n      <td>2023-10-02</td>\n      <td>08:59:59</td>\n      <td>\"msd-fw_001\"</td>\n      <td>\"FGT60FTK20049338\"</td>\n      <td>\"0000000020\"</td>\n      <td>\"traffic\"</td>\n      <td>\"forward\"</td>\n      <td>\"notice\"</td>\n      <td>\"root\"</td>\n      <td>1696204800605421010</td>\n      <td>...</td>\n      <td>NaN</td>\n      <td>NaN</td>\n      <td>NaN</td>\n      <td>NaN</td>\n      <td>NaN</td>\n      <td>NaN</td>\n      <td>NaN</td>\n      <td>NaN</td>\n      <td>NaN</td>\n      <td>NaN</td>\n    </tr>\n    <tr>\n      <th>6</th>\n      <td>2023-10-02</td>\n      <td>08:59:59</td>\n      <td>\"msd-fw_001\"</td>\n      <td>\"FGT60FTK20049338\"</td>\n      <td>\"0000000020\"</td>\n      <td>\"traffic\"</td>\n      <td>\"forward\"</td>\n      <td>\"notice\"</td>\n      <td>\"root\"</td>\n      <td>1696204800605030391</td>\n      <td>...</td>\n      <td>NaN</td>\n      <td>NaN</td>\n      <td>NaN</td>\n      <td>NaN</td>\n      <td>NaN</td>\n      <td>NaN</td>\n      <td>NaN</td>\n      <td>NaN</td>\n      <td>NaN</td>\n      <td>NaN</td>\n    </tr>\n    <tr>\n      <th>7</th>\n      <td>2023-10-02</td>\n      <td>08:59:59</td>\n      <td>\"msd-fw_001\"</td>\n      <td>\"FGT60FTK20049338\"</td>\n      <td>\"0000000020\"</td>\n      <td>\"traffic\"</td>\n      <td>\"forward\"</td>\n      <td>\"notice\"</td>\n      <td>\"root\"</td>\n      <td>1696204800605419090</td>\n      <td>...</td>\n      <td>NaN</td>\n      <td>NaN</td>\n      <td>NaN</td>\n      <td>NaN</td>\n      <td>NaN</td>\n      <td>NaN</td>\n      <td>NaN</td>\n      <td>NaN</td>\n      <td>NaN</td>\n      <td>NaN</td>\n    </tr>\n    <tr>\n      <th>8</th>\n      <td>2023-10-02</td>\n      <td>08:59:59</td>\n      <td>\"msd-fw_001\"</td>\n      <td>\"FGT60FTK20049338\"</td>\n      <td>\"0000000020\"</td>\n      <td>\"traffic\"</td>\n      <td>\"forward\"</td>\n      <td>\"notice\"</td>\n      <td>\"root\"</td>\n      <td>1696204800605422070</td>\n      <td>...</td>\n      <td>NaN</td>\n      <td>NaN</td>\n      <td>NaN</td>\n      <td>NaN</td>\n      <td>NaN</td>\n      <td>NaN</td>\n      <td>NaN</td>\n      <td>NaN</td>\n      <td>NaN</td>\n      <td>NaN</td>\n    </tr>\n    <tr>\n      <th>9</th>\n      <td>2023-10-02</td>\n      <td>08:59:59</td>\n      <td>\"msd-fw_001\"</td>\n      <td>\"FGT60FTK20049338\"</td>\n      <td>\"0000000020\"</td>\n      <td>\"traffic\"</td>\n      <td>\"forward\"</td>\n      <td>\"notice\"</td>\n      <td>\"root\"</td>\n      <td>1696204800605415510</td>\n      <td>...</td>\n      <td>NaN</td>\n      <td>NaN</td>\n      <td>NaN</td>\n      <td>NaN</td>\n      <td>NaN</td>\n      <td>NaN</td>\n      <td>NaN</td>\n      <td>NaN</td>\n      <td>NaN</td>\n      <td>NaN</td>\n    </tr>\n    <tr>\n      <th>10</th>\n      <td>2023-10-02</td>\n      <td>08:59:59</td>\n      <td>\"msd-fw_001\"</td>\n      <td>\"FGT60FTK20049338\"</td>\n      <td>\"0000000020\"</td>\n      <td>\"traffic\"</td>\n      <td>\"forward\"</td>\n      <td>\"notice\"</td>\n      <td>\"root\"</td>\n      <td>1696204800605441930</td>\n      <td>...</td>\n      <td>NaN</td>\n      <td>NaN</td>\n      <td>NaN</td>\n      <td>NaN</td>\n      <td>NaN</td>\n      <td>NaN</td>\n      <td>NaN</td>\n      <td>NaN</td>\n      <td>NaN</td>\n      <td>NaN</td>\n    </tr>\n    <tr>\n      <th>11</th>\n      <td>2023-10-02</td>\n      <td>08:59:59</td>\n      <td>\"msd-fw_001\"</td>\n      <td>\"FGT60FTK20049338\"</td>\n      <td>\"0000000013\"</td>\n      <td>\"traffic\"</td>\n      <td>\"forward\"</td>\n      <td>\"notice\"</td>\n      <td>\"root\"</td>\n      <td>1696204800729990271</td>\n      <td>...</td>\n      <td>NaN</td>\n      <td>NaN</td>\n      <td>NaN</td>\n      <td>NaN</td>\n      <td>NaN</td>\n      <td>NaN</td>\n      <td>NaN</td>\n      <td>NaN</td>\n      <td>NaN</td>\n      <td>NaN</td>\n    </tr>\n    <tr>\n      <th>16</th>\n      <td>2023-10-02</td>\n      <td>09:00:00</td>\n      <td>\"msd-fw_001\"</td>\n      <td>\"FGT60FTK20049338\"</td>\n      <td>\"0000000020\"</td>\n      <td>\"traffic\"</td>\n      <td>\"forward\"</td>\n      <td>\"notice\"</td>\n      <td>\"root\"</td>\n      <td>1696204801145973850</td>\n      <td>...</td>\n      <td>NaN</td>\n      <td>NaN</td>\n      <td>NaN</td>\n      <td>NaN</td>\n      <td>NaN</td>\n      <td>NaN</td>\n      <td>NaN</td>\n      <td>NaN</td>\n      <td>NaN</td>\n      <td>NaN</td>\n    </tr>\n    <tr>\n      <th>17</th>\n      <td>2023-10-02</td>\n      <td>09:00:00</td>\n      <td>\"msd-fw_001\"</td>\n      <td>\"FGT60FTK20049338\"</td>\n      <td>\"0000000013\"</td>\n      <td>\"traffic\"</td>\n      <td>\"forward\"</td>\n      <td>\"notice\"</td>\n      <td>\"root\"</td>\n      <td>1696204801149991731</td>\n      <td>...</td>\n      <td>NaN</td>\n      <td>NaN</td>\n      <td>NaN</td>\n      <td>NaN</td>\n      <td>NaN</td>\n      <td>NaN</td>\n      <td>NaN</td>\n      <td>NaN</td>\n      <td>NaN</td>\n      <td>NaN</td>\n    </tr>\n    <tr>\n      <th>19</th>\n      <td>2023-10-02</td>\n      <td>09:00:00</td>\n      <td>\"msd-fw_001\"</td>\n      <td>\"FGT60FTK20049338\"</td>\n      <td>\"0000000013\"</td>\n      <td>\"traffic\"</td>\n      <td>\"forward\"</td>\n      <td>\"notice\"</td>\n      <td>\"root\"</td>\n      <td>1696204801309988491</td>\n      <td>...</td>\n      <td>NaN</td>\n      <td>NaN</td>\n      <td>NaN</td>\n      <td>NaN</td>\n      <td>NaN</td>\n      <td>NaN</td>\n      <td>NaN</td>\n      <td>NaN</td>\n      <td>NaN</td>\n      <td>NaN</td>\n    </tr>\n    <tr>\n      <th>20</th>\n      <td>2023-10-02</td>\n      <td>09:00:00</td>\n      <td>\"msd-fw_001\"</td>\n      <td>\"FGT60FTK20049338\"</td>\n      <td>\"0000000011\"</td>\n      <td>\"traffic\"</td>\n      <td>\"forward\"</td>\n      <td>\"warning\"</td>\n      <td>\"root\"</td>\n      <td>1696204801369986991</td>\n      <td>...</td>\n      <td>NaN</td>\n      <td>NaN</td>\n      <td>NaN</td>\n      <td>NaN</td>\n      <td>NaN</td>\n      <td>NaN</td>\n      <td>NaN</td>\n      <td>NaN</td>\n      <td>NaN</td>\n      <td>NaN</td>\n    </tr>\n    <tr>\n      <th>21</th>\n      <td>2023-10-02</td>\n      <td>09:00:00</td>\n      <td>\"msd-fw_001\"</td>\n      <td>\"FGT60FTK20049338\"</td>\n      <td>\"0000000013\"</td>\n      <td>\"traffic\"</td>\n      <td>\"forward\"</td>\n      <td>\"notice\"</td>\n      <td>\"root\"</td>\n      <td>1696204801369994151</td>\n      <td>...</td>\n      <td>NaN</td>\n      <td>NaN</td>\n      <td>NaN</td>\n      <td>NaN</td>\n      <td>NaN</td>\n      <td>NaN</td>\n      <td>NaN</td>\n      <td>NaN</td>\n      <td>NaN</td>\n      <td>NaN</td>\n    </tr>\n    <tr>\n      <th>22</th>\n      <td>2023-10-02</td>\n      <td>09:00:00</td>\n      <td>\"msd-fw_001\"</td>\n      <td>\"FGT60FTK20049338\"</td>\n      <td>\"0000000020\"</td>\n      <td>\"traffic\"</td>\n      <td>\"forward\"</td>\n      <td>\"notice\"</td>\n      <td>\"root\"</td>\n      <td>1696204801397772170</td>\n      <td>...</td>\n      <td>NaN</td>\n      <td>NaN</td>\n      <td>NaN</td>\n      <td>NaN</td>\n      <td>NaN</td>\n      <td>NaN</td>\n      <td>NaN</td>\n      <td>NaN</td>\n      <td>NaN</td>\n      <td>NaN</td>\n    </tr>\n    <tr>\n      <th>23</th>\n      <td>2023-10-02</td>\n      <td>09:00:00</td>\n      <td>\"msd-fw_001\"</td>\n      <td>\"FGT60FTK20049338\"</td>\n      <td>\"0000000011\"</td>\n      <td>\"traffic\"</td>\n      <td>\"forward\"</td>\n      <td>\"warning\"</td>\n      <td>\"root\"</td>\n      <td>1696204801459985431</td>\n      <td>...</td>\n      <td>NaN</td>\n      <td>NaN</td>\n      <td>NaN</td>\n      <td>NaN</td>\n      <td>NaN</td>\n      <td>NaN</td>\n      <td>NaN</td>\n      <td>NaN</td>\n      <td>NaN</td>\n      <td>NaN</td>\n    </tr>\n    <tr>\n      <th>24</th>\n      <td>2023-10-02</td>\n      <td>09:00:00</td>\n      <td>\"msd-fw_001\"</td>\n      <td>\"FGT60FTK20049338\"</td>\n      <td>\"0000000013\"</td>\n      <td>\"traffic\"</td>\n      <td>\"forward\"</td>\n      <td>\"notice\"</td>\n      <td>\"root\"</td>\n      <td>1696204801459990271</td>\n      <td>...</td>\n      <td>NaN</td>\n      <td>NaN</td>\n      <td>NaN</td>\n      <td>NaN</td>\n      <td>NaN</td>\n      <td>NaN</td>\n      <td>NaN</td>\n      <td>NaN</td>\n      <td>NaN</td>\n      <td>NaN</td>\n    </tr>\n    <tr>\n      <th>26</th>\n      <td>2023-10-02</td>\n      <td>09:00:01</td>\n      <td>\"msd-fw_001\"</td>\n      <td>\"FGT60FTK20049338\"</td>\n      <td>\"0000000013\"</td>\n      <td>\"traffic\"</td>\n      <td>\"forward\"</td>\n      <td>\"notice\"</td>\n      <td>\"root\"</td>\n      <td>1696204801579993451</td>\n      <td>...</td>\n      <td>NaN</td>\n      <td>NaN</td>\n      <td>NaN</td>\n      <td>NaN</td>\n      <td>NaN</td>\n      <td>NaN</td>\n      <td>NaN</td>\n      <td>NaN</td>\n      <td>NaN</td>\n      <td>NaN</td>\n    </tr>\n  </tbody>\n</table>\n<p>20 rows × 86 columns</p>\n</div>"
     },
     "execution_count": 22,
     "metadata": {},
     "output_type": "execute_result"
    }
   ],
   "source": [
    "df_col_service_val_https = select_by_column_name_and_value(all_logs_df, \"service\", \"\\\"HTTPS\\\"\")\n",
    "df_col_service_val_https.head(20)"
   ],
   "metadata": {
    "collapsed": false,
    "ExecuteTime": {
     "end_time": "2023-10-09T13:31:52.918946300Z",
     "start_time": "2023-10-09T13:31:51.867947200Z"
    }
   },
   "id": "70ff740bbaad5828"
  },
  {
   "cell_type": "code",
   "execution_count": 31,
   "outputs": [
    {
     "data": {
      "text/plain": "       dstcountry  dstcountry计数  dstcountry%比\n20        \"Japan\"        284130         60.40\n39        \"United        109482         23.28\n31    \"Singapore\"         18323          3.90\n15        \"India\"         17501          3.72\n0     \"Australia\"          8075          1.72\n6         \"China\"          7181          1.53\n21        \"Korea,          6756          1.44\n12          \"Hong          5929          1.26\n17      \"Ireland\"          5037          1.07\n24  \"Netherlands\"          2492          0.53\n10       \"France\"          1857          0.39\n11      \"Germany\"          1696          0.36\n36       \"Taiwan\"           742          0.16\n30     \"Reserved\"           273          0.06\n34       \"Sweden\"           273          0.06\n8       \"Denmark\"           129          0.03\n33        \"Spain\"           102          0.02\n4        \"Canada\"            81          0.02\n9       \"Finland\"            75          0.02\n37     \"Thailand\"            33          0.01",
      "text/html": "<div>\n<style scoped>\n    .dataframe tbody tr th:only-of-type {\n        vertical-align: middle;\n    }\n\n    .dataframe tbody tr th {\n        vertical-align: top;\n    }\n\n    .dataframe thead th {\n        text-align: right;\n    }\n</style>\n<table border=\"1\" class=\"dataframe\">\n  <thead>\n    <tr style=\"text-align: right;\">\n      <th></th>\n      <th>dstcountry</th>\n      <th>dstcountry计数</th>\n      <th>dstcountry%比</th>\n    </tr>\n  </thead>\n  <tbody>\n    <tr>\n      <th>20</th>\n      <td>\"Japan\"</td>\n      <td>284130</td>\n      <td>60.40</td>\n    </tr>\n    <tr>\n      <th>39</th>\n      <td>\"United</td>\n      <td>109482</td>\n      <td>23.28</td>\n    </tr>\n    <tr>\n      <th>31</th>\n      <td>\"Singapore\"</td>\n      <td>18323</td>\n      <td>3.90</td>\n    </tr>\n    <tr>\n      <th>15</th>\n      <td>\"India\"</td>\n      <td>17501</td>\n      <td>3.72</td>\n    </tr>\n    <tr>\n      <th>0</th>\n      <td>\"Australia\"</td>\n      <td>8075</td>\n      <td>1.72</td>\n    </tr>\n    <tr>\n      <th>6</th>\n      <td>\"China\"</td>\n      <td>7181</td>\n      <td>1.53</td>\n    </tr>\n    <tr>\n      <th>21</th>\n      <td>\"Korea,</td>\n      <td>6756</td>\n      <td>1.44</td>\n    </tr>\n    <tr>\n      <th>12</th>\n      <td>\"Hong</td>\n      <td>5929</td>\n      <td>1.26</td>\n    </tr>\n    <tr>\n      <th>17</th>\n      <td>\"Ireland\"</td>\n      <td>5037</td>\n      <td>1.07</td>\n    </tr>\n    <tr>\n      <th>24</th>\n      <td>\"Netherlands\"</td>\n      <td>2492</td>\n      <td>0.53</td>\n    </tr>\n    <tr>\n      <th>10</th>\n      <td>\"France\"</td>\n      <td>1857</td>\n      <td>0.39</td>\n    </tr>\n    <tr>\n      <th>11</th>\n      <td>\"Germany\"</td>\n      <td>1696</td>\n      <td>0.36</td>\n    </tr>\n    <tr>\n      <th>36</th>\n      <td>\"Taiwan\"</td>\n      <td>742</td>\n      <td>0.16</td>\n    </tr>\n    <tr>\n      <th>30</th>\n      <td>\"Reserved\"</td>\n      <td>273</td>\n      <td>0.06</td>\n    </tr>\n    <tr>\n      <th>34</th>\n      <td>\"Sweden\"</td>\n      <td>273</td>\n      <td>0.06</td>\n    </tr>\n    <tr>\n      <th>8</th>\n      <td>\"Denmark\"</td>\n      <td>129</td>\n      <td>0.03</td>\n    </tr>\n    <tr>\n      <th>33</th>\n      <td>\"Spain\"</td>\n      <td>102</td>\n      <td>0.02</td>\n    </tr>\n    <tr>\n      <th>4</th>\n      <td>\"Canada\"</td>\n      <td>81</td>\n      <td>0.02</td>\n    </tr>\n    <tr>\n      <th>9</th>\n      <td>\"Finland\"</td>\n      <td>75</td>\n      <td>0.02</td>\n    </tr>\n    <tr>\n      <th>37</th>\n      <td>\"Thailand\"</td>\n      <td>33</td>\n      <td>0.01</td>\n    </tr>\n  </tbody>\n</table>\n</div>"
     },
     "execution_count": 31,
     "metadata": {},
     "output_type": "execute_result"
    }
   ],
   "source": [
    "df_col_service_val_https_counts_service = count_column_with_ratios(df_col_service_val_https, \"dstcountry\").head(20)\n",
    "df_col_service_val_https_counts_service"
   ],
   "metadata": {
    "collapsed": false,
    "ExecuteTime": {
     "end_time": "2023-10-09T13:33:59.460953400Z",
     "start_time": "2023-10-09T13:33:59.373366700Z"
    }
   },
   "id": "3b90266469b45cab"
  },
  {
   "cell_type": "code",
   "execution_count": 21,
   "outputs": [
    {
     "data": {
      "text/plain": "Empty DataFrame\nColumns: [reason, reason计数, reason%比]\nIndex: []",
      "text/html": "<div>\n<style scoped>\n    .dataframe tbody tr th:only-of-type {\n        vertical-align: middle;\n    }\n\n    .dataframe tbody tr th {\n        vertical-align: top;\n    }\n\n    .dataframe thead th {\n        text-align: right;\n    }\n</style>\n<table border=\"1\" class=\"dataframe\">\n  <thead>\n    <tr style=\"text-align: right;\">\n      <th></th>\n      <th>reason</th>\n      <th>reason计数</th>\n      <th>reason%比</th>\n    </tr>\n  </thead>\n  <tbody>\n  </tbody>\n</table>\n</div>"
     },
     "execution_count": 21,
     "metadata": {},
     "output_type": "execute_result"
    }
   ],
   "source": [
    "df_col_type_val_traffic_counts_service = count_column_with_ratios(df_col_type_val_traffic, \"reason\").head(20)\n",
    "df_col_type_val_traffic_counts_service"
   ],
   "metadata": {
    "collapsed": false,
    "ExecuteTime": {
     "end_time": "2023-10-09T10:42:07.411126300Z",
     "start_time": "2023-10-09T10:42:07.348207300Z"
    }
   },
   "id": "93b08c0a6ddba1f"
  },
  {
   "cell_type": "code",
   "execution_count": 33,
   "outputs": [
    {
     "data": {
      "text/plain": "           level  level计数  level%比\n2       \"notice\"  1029527    94.37\n3      \"warning\"    59644     5.47\n1  \"information\"     1046     0.10\n0        \"alert\"      736     0.07",
      "text/html": "<div>\n<style scoped>\n    .dataframe tbody tr th:only-of-type {\n        vertical-align: middle;\n    }\n\n    .dataframe tbody tr th {\n        vertical-align: top;\n    }\n\n    .dataframe thead th {\n        text-align: right;\n    }\n</style>\n<table border=\"1\" class=\"dataframe\">\n  <thead>\n    <tr style=\"text-align: right;\">\n      <th></th>\n      <th>level</th>\n      <th>level计数</th>\n      <th>level%比</th>\n    </tr>\n  </thead>\n  <tbody>\n    <tr>\n      <th>2</th>\n      <td>\"notice\"</td>\n      <td>1029527</td>\n      <td>94.37</td>\n    </tr>\n    <tr>\n      <th>3</th>\n      <td>\"warning\"</td>\n      <td>59644</td>\n      <td>5.47</td>\n    </tr>\n    <tr>\n      <th>1</th>\n      <td>\"information\"</td>\n      <td>1046</td>\n      <td>0.10</td>\n    </tr>\n    <tr>\n      <th>0</th>\n      <td>\"alert\"</td>\n      <td>736</td>\n      <td>0.07</td>\n    </tr>\n  </tbody>\n</table>\n</div>"
     },
     "execution_count": 33,
     "metadata": {},
     "output_type": "execute_result"
    }
   ],
   "source": [
    "df_col_service_counts = count_column_with_ratios(all_logs_df, \"level\").head(20)\n",
    "df_col_service_counts"
   ],
   "metadata": {
    "collapsed": false,
    "ExecuteTime": {
     "end_time": "2023-10-09T13:40:32.052913300Z",
     "start_time": "2023-10-09T13:40:31.520872400Z"
    }
   },
   "id": "7331280a9ee06e7"
  },
  {
   "cell_type": "code",
   "execution_count": 21,
   "outputs": [
    {
     "data": {
      "text/plain": "            service  service计数  service%比\n9           \"HTTPS\"     470381      43.20\n4             \"DNS\"     326867      30.02\n5488      \"udp/443\"      51738       4.75\n8            \"HTTP\"      36026       3.31\n5523     \"udp/5353\"      34786       3.19\n46         \"SYSLOG\"      33979       3.12\n5595     \"udp/8612\"      26122       2.40\n5543    \"udp/59870\"      23315       2.14\n5368      \"udp/137\"      16478       1.51\n5524     \"udp/5355\"       7670       0.70\n1916    \"tcp/38003\"       6374       0.59\n5458     \"udp/3702\"       4085       0.38\n2935     \"tcp/5228\"       3345       0.31\n5369      \"udp/138\"       3093       0.28\n5009     \"tcp/8740\"       2698       0.25\n4849     \"tcp/8080\"       2109       0.19\n5049     \"tcp/8883\"       2085       0.19\n58    \"icmp6/143/0\"       2046       0.19\n5390     \"udp/1900\"       1870       0.17\n25           \"PING\"       1826       0.17",
      "text/html": "<div>\n<style scoped>\n    .dataframe tbody tr th:only-of-type {\n        vertical-align: middle;\n    }\n\n    .dataframe tbody tr th {\n        vertical-align: top;\n    }\n\n    .dataframe thead th {\n        text-align: right;\n    }\n</style>\n<table border=\"1\" class=\"dataframe\">\n  <thead>\n    <tr style=\"text-align: right;\">\n      <th></th>\n      <th>service</th>\n      <th>service计数</th>\n      <th>service%比</th>\n    </tr>\n  </thead>\n  <tbody>\n    <tr>\n      <th>9</th>\n      <td>\"HTTPS\"</td>\n      <td>470381</td>\n      <td>43.20</td>\n    </tr>\n    <tr>\n      <th>4</th>\n      <td>\"DNS\"</td>\n      <td>326867</td>\n      <td>30.02</td>\n    </tr>\n    <tr>\n      <th>5488</th>\n      <td>\"udp/443\"</td>\n      <td>51738</td>\n      <td>4.75</td>\n    </tr>\n    <tr>\n      <th>8</th>\n      <td>\"HTTP\"</td>\n      <td>36026</td>\n      <td>3.31</td>\n    </tr>\n    <tr>\n      <th>5523</th>\n      <td>\"udp/5353\"</td>\n      <td>34786</td>\n      <td>3.19</td>\n    </tr>\n    <tr>\n      <th>46</th>\n      <td>\"SYSLOG\"</td>\n      <td>33979</td>\n      <td>3.12</td>\n    </tr>\n    <tr>\n      <th>5595</th>\n      <td>\"udp/8612\"</td>\n      <td>26122</td>\n      <td>2.40</td>\n    </tr>\n    <tr>\n      <th>5543</th>\n      <td>\"udp/59870\"</td>\n      <td>23315</td>\n      <td>2.14</td>\n    </tr>\n    <tr>\n      <th>5368</th>\n      <td>\"udp/137\"</td>\n      <td>16478</td>\n      <td>1.51</td>\n    </tr>\n    <tr>\n      <th>5524</th>\n      <td>\"udp/5355\"</td>\n      <td>7670</td>\n      <td>0.70</td>\n    </tr>\n    <tr>\n      <th>1916</th>\n      <td>\"tcp/38003\"</td>\n      <td>6374</td>\n      <td>0.59</td>\n    </tr>\n    <tr>\n      <th>5458</th>\n      <td>\"udp/3702\"</td>\n      <td>4085</td>\n      <td>0.38</td>\n    </tr>\n    <tr>\n      <th>2935</th>\n      <td>\"tcp/5228\"</td>\n      <td>3345</td>\n      <td>0.31</td>\n    </tr>\n    <tr>\n      <th>5369</th>\n      <td>\"udp/138\"</td>\n      <td>3093</td>\n      <td>0.28</td>\n    </tr>\n    <tr>\n      <th>5009</th>\n      <td>\"tcp/8740\"</td>\n      <td>2698</td>\n      <td>0.25</td>\n    </tr>\n    <tr>\n      <th>4849</th>\n      <td>\"tcp/8080\"</td>\n      <td>2109</td>\n      <td>0.19</td>\n    </tr>\n    <tr>\n      <th>5049</th>\n      <td>\"tcp/8883\"</td>\n      <td>2085</td>\n      <td>0.19</td>\n    </tr>\n    <tr>\n      <th>58</th>\n      <td>\"icmp6/143/0\"</td>\n      <td>2046</td>\n      <td>0.19</td>\n    </tr>\n    <tr>\n      <th>5390</th>\n      <td>\"udp/1900\"</td>\n      <td>1870</td>\n      <td>0.17</td>\n    </tr>\n    <tr>\n      <th>25</th>\n      <td>\"PING\"</td>\n      <td>1826</td>\n      <td>0.17</td>\n    </tr>\n  </tbody>\n</table>\n</div>"
     },
     "execution_count": 21,
     "metadata": {},
     "output_type": "execute_result"
    }
   ],
   "source": [
    "df_col_service_counts = count_column_with_ratios(all_logs_df, \"service\").head(20)\n",
    "df_col_service_counts"
   ],
   "metadata": {
    "collapsed": false,
    "ExecuteTime": {
     "end_time": "2023-10-09T13:30:20.276769900Z",
     "start_time": "2023-10-09T13:30:19.662771200Z"
    }
   },
   "id": "6b9d27c4b7ccb907"
  },
  {
   "cell_type": "code",
   "execution_count": 36,
   "outputs": [
    {
     "data": {
      "text/plain": "      srcintf  srcintf计数  srcintf%比\n0  \"internal\"    1041896      95.69\n1  \"unknown0\"      34996       3.21\n2      \"wan2\"      11960       1.10",
      "text/html": "<div>\n<style scoped>\n    .dataframe tbody tr th:only-of-type {\n        vertical-align: middle;\n    }\n\n    .dataframe tbody tr th {\n        vertical-align: top;\n    }\n\n    .dataframe thead th {\n        text-align: right;\n    }\n</style>\n<table border=\"1\" class=\"dataframe\">\n  <thead>\n    <tr style=\"text-align: right;\">\n      <th></th>\n      <th>srcintf</th>\n      <th>srcintf计数</th>\n      <th>srcintf%比</th>\n    </tr>\n  </thead>\n  <tbody>\n    <tr>\n      <th>0</th>\n      <td>\"internal\"</td>\n      <td>1041896</td>\n      <td>95.69</td>\n    </tr>\n    <tr>\n      <th>1</th>\n      <td>\"unknown0\"</td>\n      <td>34996</td>\n      <td>3.21</td>\n    </tr>\n    <tr>\n      <th>2</th>\n      <td>\"wan2\"</td>\n      <td>11960</td>\n      <td>1.10</td>\n    </tr>\n  </tbody>\n</table>\n</div>"
     },
     "execution_count": 36,
     "metadata": {},
     "output_type": "execute_result"
    }
   ],
   "source": [
    "df_col_service_counts = count_column_with_ratios(all_logs_df, \"srcintf\").head(20)\n",
    "df_col_service_counts"
   ],
   "metadata": {
    "collapsed": false,
    "ExecuteTime": {
     "end_time": "2023-10-09T16:32:36.036808700Z",
     "start_time": "2023-10-09T16:32:35.721916100Z"
    }
   },
   "id": "ff688f3ce2bcd3f8"
  },
  {
   "cell_type": "code",
   "execution_count": 37,
   "outputs": [
    {
     "data": {
      "text/plain": "   srcintfrole  srcintfrole计数  srcintfrole%比\n0        \"lan\"        1041896          95.69\n1  \"undefined\"          34996           3.21\n2        \"wan\"          11960           1.10",
      "text/html": "<div>\n<style scoped>\n    .dataframe tbody tr th:only-of-type {\n        vertical-align: middle;\n    }\n\n    .dataframe tbody tr th {\n        vertical-align: top;\n    }\n\n    .dataframe thead th {\n        text-align: right;\n    }\n</style>\n<table border=\"1\" class=\"dataframe\">\n  <thead>\n    <tr style=\"text-align: right;\">\n      <th></th>\n      <th>srcintfrole</th>\n      <th>srcintfrole计数</th>\n      <th>srcintfrole%比</th>\n    </tr>\n  </thead>\n  <tbody>\n    <tr>\n      <th>0</th>\n      <td>\"lan\"</td>\n      <td>1041896</td>\n      <td>95.69</td>\n    </tr>\n    <tr>\n      <th>1</th>\n      <td>\"undefined\"</td>\n      <td>34996</td>\n      <td>3.21</td>\n    </tr>\n    <tr>\n      <th>2</th>\n      <td>\"wan\"</td>\n      <td>11960</td>\n      <td>1.10</td>\n    </tr>\n  </tbody>\n</table>\n</div>"
     },
     "execution_count": 37,
     "metadata": {},
     "output_type": "execute_result"
    }
   ],
   "source": [
    "df_col_service_counts = count_column_with_ratios(all_logs_df, \"srcintfrole\").head(20)\n",
    "df_col_service_counts"
   ],
   "metadata": {
    "collapsed": false,
    "ExecuteTime": {
     "end_time": "2023-10-09T16:33:04.164142700Z",
     "start_time": "2023-10-09T16:33:03.880295100Z"
    }
   },
   "id": "dbc60aeb57a4c5c9"
  },
  {
   "cell_type": "code",
   "execution_count": 38,
   "outputs": [
    {
     "data": {
      "text/plain": "      dstintf  dstintf计数  dstintf%比\n2      \"wan2\"     977155      89.74\n1  \"unknown0\"     111621      10.25\n0  \"internal\"         76       0.01",
      "text/html": "<div>\n<style scoped>\n    .dataframe tbody tr th:only-of-type {\n        vertical-align: middle;\n    }\n\n    .dataframe tbody tr th {\n        vertical-align: top;\n    }\n\n    .dataframe thead th {\n        text-align: right;\n    }\n</style>\n<table border=\"1\" class=\"dataframe\">\n  <thead>\n    <tr style=\"text-align: right;\">\n      <th></th>\n      <th>dstintf</th>\n      <th>dstintf计数</th>\n      <th>dstintf%比</th>\n    </tr>\n  </thead>\n  <tbody>\n    <tr>\n      <th>2</th>\n      <td>\"wan2\"</td>\n      <td>977155</td>\n      <td>89.74</td>\n    </tr>\n    <tr>\n      <th>1</th>\n      <td>\"unknown0\"</td>\n      <td>111621</td>\n      <td>10.25</td>\n    </tr>\n    <tr>\n      <th>0</th>\n      <td>\"internal\"</td>\n      <td>76</td>\n      <td>0.01</td>\n    </tr>\n  </tbody>\n</table>\n</div>"
     },
     "execution_count": 38,
     "metadata": {},
     "output_type": "execute_result"
    }
   ],
   "source": [
    "df_col_service_counts = count_column_with_ratios(all_logs_df, \"dstintf\").head(20)\n",
    "df_col_service_counts"
   ],
   "metadata": {
    "collapsed": false,
    "ExecuteTime": {
     "end_time": "2023-10-09T16:33:21.045040300Z",
     "start_time": "2023-10-09T16:33:20.747885600Z"
    }
   },
   "id": "e7a4f4f864bfa689"
  },
  {
   "cell_type": "code",
   "execution_count": 45,
   "outputs": [
    {
     "data": {
      "text/plain": "        appcat  appcat计数  appcat%比\n0  \"unscanned\"   1088852     100.0",
      "text/html": "<div>\n<style scoped>\n    .dataframe tbody tr th:only-of-type {\n        vertical-align: middle;\n    }\n\n    .dataframe tbody tr th {\n        vertical-align: top;\n    }\n\n    .dataframe thead th {\n        text-align: right;\n    }\n</style>\n<table border=\"1\" class=\"dataframe\">\n  <thead>\n    <tr style=\"text-align: right;\">\n      <th></th>\n      <th>appcat</th>\n      <th>appcat计数</th>\n      <th>appcat%比</th>\n    </tr>\n  </thead>\n  <tbody>\n    <tr>\n      <th>0</th>\n      <td>\"unscanned\"</td>\n      <td>1088852</td>\n      <td>100.0</td>\n    </tr>\n  </tbody>\n</table>\n</div>"
     },
     "execution_count": 45,
     "metadata": {},
     "output_type": "execute_result"
    }
   ],
   "source": [
    "df_col_service_counts = count_column_with_ratios(all_logs_df, \"appcat\").head(20)\n",
    "df_col_service_counts"
   ],
   "metadata": {
    "collapsed": false,
    "ExecuteTime": {
     "end_time": "2023-10-09T17:12:19.891827900Z",
     "start_time": "2023-10-09T17:12:19.663081100Z"
    }
   },
   "id": "600c1ee67ee3bdb6"
  },
  {
   "cell_type": "code",
   "execution_count": 66,
   "outputs": [
    {
     "data": {
      "text/plain": "     subtype  subtype计数  subtype%比\n0  \"forward\"     665663      100.0",
      "text/html": "<div>\n<style scoped>\n    .dataframe tbody tr th:only-of-type {\n        vertical-align: middle;\n    }\n\n    .dataframe tbody tr th {\n        vertical-align: top;\n    }\n\n    .dataframe thead th {\n        text-align: right;\n    }\n</style>\n<table border=\"1\" class=\"dataframe\">\n  <thead>\n    <tr style=\"text-align: right;\">\n      <th></th>\n      <th>subtype</th>\n      <th>subtype计数</th>\n      <th>subtype%比</th>\n    </tr>\n  </thead>\n  <tbody>\n    <tr>\n      <th>0</th>\n      <td>\"forward\"</td>\n      <td>665663</td>\n      <td>100.0</td>\n    </tr>\n  </tbody>\n</table>\n</div>"
     },
     "execution_count": 66,
     "metadata": {},
     "output_type": "execute_result"
    }
   ],
   "source": [
    "df_logid_13 = select_by_column_name_and_value(all_logs_df, 'logid', all_logs_df.iloc[0]['logid']) \n",
    "df_col_service_counts = count_column_with_ratios(df_logid_13, \"subtype\").head(20)\n",
    "df_col_service_counts"
   ],
   "metadata": {
    "collapsed": false,
    "ExecuteTime": {
     "end_time": "2023-10-10T00:23:39.979800200Z",
     "start_time": "2023-10-10T00:23:07.566464200Z"
    }
   },
   "id": "318fe4bfb2900eea"
  },
  {
   "cell_type": "code",
   "execution_count": 67,
   "outputs": [
    {
     "data": {
      "text/plain": "     subtype  subtype计数  subtype%比\n0  \"forward\"     217206      100.0",
      "text/html": "<div>\n<style scoped>\n    .dataframe tbody tr th:only-of-type {\n        vertical-align: middle;\n    }\n\n    .dataframe tbody tr th {\n        vertical-align: top;\n    }\n\n    .dataframe thead th {\n        text-align: right;\n    }\n</style>\n<table border=\"1\" class=\"dataframe\">\n  <thead>\n    <tr style=\"text-align: right;\">\n      <th></th>\n      <th>subtype</th>\n      <th>subtype计数</th>\n      <th>subtype%比</th>\n    </tr>\n  </thead>\n  <tbody>\n    <tr>\n      <th>0</th>\n      <td>\"forward\"</td>\n      <td>217206</td>\n      <td>100.0</td>\n    </tr>\n  </tbody>\n</table>\n</div>"
     },
     "execution_count": 67,
     "metadata": {},
     "output_type": "execute_result"
    }
   ],
   "source": [
    "df_logid_20 = select_by_column_name_and_value(all_logs_df, 'logid', all_logs_df.iloc[1]['logid']) \n",
    "df_col_service_counts = count_column_with_ratios(df_logid_20, \"subtype\").head(20)\n",
    "df_col_service_counts"
   ],
   "metadata": {
    "collapsed": false,
    "ExecuteTime": {
     "end_time": "2023-10-10T00:23:54.884866700Z",
     "start_time": "2023-10-10T00:23:53.080112900Z"
    }
   },
   "id": "8197774ec9982a6f"
  },
  {
   "cell_type": "code",
   "execution_count": 68,
   "outputs": [
    {
     "data": {
      "text/plain": "   subtype  subtype计数  subtype%比\n0  \"local\"     146339      100.0",
      "text/html": "<div>\n<style scoped>\n    .dataframe tbody tr th:only-of-type {\n        vertical-align: middle;\n    }\n\n    .dataframe tbody tr th {\n        vertical-align: top;\n    }\n\n    .dataframe thead th {\n        text-align: right;\n    }\n</style>\n<table border=\"1\" class=\"dataframe\">\n  <thead>\n    <tr style=\"text-align: right;\">\n      <th></th>\n      <th>subtype</th>\n      <th>subtype计数</th>\n      <th>subtype%比</th>\n    </tr>\n  </thead>\n  <tbody>\n    <tr>\n      <th>0</th>\n      <td>\"local\"</td>\n      <td>146339</td>\n      <td>100.0</td>\n    </tr>\n  </tbody>\n</table>\n</div>"
     },
     "execution_count": 68,
     "metadata": {},
     "output_type": "execute_result"
    }
   ],
   "source": [
    "df_logid_14 = select_by_column_name_and_value(all_logs_df, 'logid', all_logs_df.iloc[53]['logid']) \n",
    "df_col_service_counts = count_column_with_ratios(df_logid_14, \"subtype\").head(20)\n",
    "df_col_service_counts"
   ],
   "metadata": {
    "collapsed": false,
    "ExecuteTime": {
     "end_time": "2023-10-10T00:24:01.992703200Z",
     "start_time": "2023-10-10T00:24:00.821038300Z"
    }
   },
   "id": "d9af0bb4378f0cb7"
  },
  {
   "cell_type": "code",
   "execution_count": 69,
   "outputs": [
    {
     "data": {
      "text/plain": "     subtype  subtype计数  subtype%比\n0  \"forward\"      59644      100.0",
      "text/html": "<div>\n<style scoped>\n    .dataframe tbody tr th:only-of-type {\n        vertical-align: middle;\n    }\n\n    .dataframe tbody tr th {\n        vertical-align: top;\n    }\n\n    .dataframe thead th {\n        text-align: right;\n    }\n</style>\n<table border=\"1\" class=\"dataframe\">\n  <thead>\n    <tr style=\"text-align: right;\">\n      <th></th>\n      <th>subtype</th>\n      <th>subtype计数</th>\n      <th>subtype%比</th>\n    </tr>\n  </thead>\n  <tbody>\n    <tr>\n      <th>0</th>\n      <td>\"forward\"</td>\n      <td>59644</td>\n      <td>100.0</td>\n    </tr>\n  </tbody>\n</table>\n</div>"
     },
     "execution_count": 69,
     "metadata": {},
     "output_type": "execute_result"
    }
   ],
   "source": [
    "df_logid_11 = select_by_column_name_and_value(all_logs_df, 'logid', all_logs_df.iloc[12]['logid']) \n",
    "df_col_service_counts = count_column_with_ratios(df_logid_11, \"subtype\").head(20)\n",
    "df_col_service_counts"
   ],
   "metadata": {
    "collapsed": false,
    "ExecuteTime": {
     "end_time": "2023-10-10T00:24:06.549571800Z",
     "start_time": "2023-10-10T00:24:05.689823900Z"
    }
   },
   "id": "c3945d626df7ce82"
  },
  {
   "cell_type": "code",
   "execution_count": 65,
   "outputs": [
    {
     "name": "stdout",
     "output_type": "stream",
     "text": [
      "DataFrame saved to LongLogsAnalysisResultsTables\\logid0000000011DetailAnalysisResults.xlsx\n",
      "DataFrame saved to LongLogsAnalysisResultsTables\\logid0000000011srccountryResults.xlsx\n",
      "DataFrame saved to LongLogsAnalysisResultsTables\\logid0000000011dstcountryResults.xlsx\n"
     ]
    },
    {
     "data": {
      "text/plain": "(        service service计数 service%比 srcport srcport计数 srcport%比 dstport  \\\n 0       \"HTTPS\"     42633     71.48   16403        24      0.04     443   \n 1         \"DNS\"     14391     24.13   57672        14      0.02      53   \n 2     \"udp/443\"      1073       1.8   52772        14      0.02      80   \n 3        \"HTTP\"       645      1.08   52629        13      0.02    5223   \n 4    \"icmp/0/8\"       455      0.76   60664        13      0.02   38003   \n 5    \"tcp/5223\"       101      0.17   50249        13      0.02    8106   \n 6   \"tcp/38003\"        77      0.13   50564        12      0.02    8080   \n 7    \"tcp/8106\"        46      0.08   53083        12      0.02    8000   \n 8    \"tcp/8080\"        27      0.05   53772        12      0.02     993   \n 9    \"udp/8000\"        25      0.04   49888        12      0.02     853   \n 10      \"IMAPS\"        13      0.02   57868        12      0.02    3482   \n 11    \"tcp/853\"        12      0.02   53037        12      0.02    8612   \n 12     \"udp/80\"        12      0.02   49675        12      0.02    3480   \n 13   \"udp/3482\"        11      0.02   52563        11      0.02    8883   \n 14   \"udp/8612\"        10      0.02   50839        11      0.02    3478   \n 15   \"tcp/8883\"         9      0.02   50292        11      0.02    5228   \n 16   \"udp/3480\"         9      0.02   51724        11      0.02    8081   \n 17   \"tcp/5228\"         8      0.01   51663        11      0.02      81   \n 18   \"udp/3478\"         8      0.01   49837        11      0.02    3481   \n 19   \"tcp/5938\"         6      0.01   49745        11      0.02    5938   \n \n    dstport计数 dstport%比            srcip srcip计数 srcip%比           dstip  \\\n 0      43706     73.84   192.168.100.53    6570   11.02     202.232.2.3   \n 1      14391     24.31  192.168.100.121    3562    5.97     202.232.2.2   \n 2        657      1.11   192.168.100.38    3343     5.6    13.107.138.8   \n 3        101      0.17  192.168.100.154    2421    4.06    13.107.136.8   \n 4         77      0.13  192.168.100.180    2139    3.59   52.123.129.14   \n 5         46      0.08  192.168.100.144    1867    3.13   52.123.128.14   \n 6         27      0.05   192.168.100.57    1755    2.94    13.107.6.158   \n 7         25      0.04   192.168.100.52    1735    2.91   52.109.52.169   \n 8         13      0.02   192.168.100.91    1675    2.81   52.109.44.111   \n 9         12      0.02   192.168.100.39    1650    2.77  204.79.197.203   \n 10        11      0.02  192.168.100.161    1580    2.65   13.107.21.239   \n 11        10      0.02   192.168.100.97    1573    2.64  52.113.194.132   \n 12         9      0.02  192.168.100.139    1534    2.57  204.79.197.239   \n 13         9      0.02  192.168.100.175    1463    2.45    20.78.29.188   \n 14         8      0.01   192.168.100.76    1315     2.2   40.126.38.161   \n 15         8      0.01   192.168.100.75    1253     2.1    40.126.38.36   \n 16         6      0.01   192.168.100.93    1218    2.04   40.65.170.106   \n 17         6      0.01   192.168.100.37    1099    1.84   40.126.38.160   \n 18         6      0.01  192.168.100.166    1043    1.75   184.27.185.93   \n 19         6      0.01   192.168.100.62     944    1.58   184.27.185.72   \n \n    dstip计数 dstip%比  \n 0    11967   20.06  \n 1     2435    4.08  \n 2      650    1.09  \n 3      629    1.05  \n 4      567    0.95  \n 5      522    0.88  \n 6      518    0.87  \n 7      510    0.86  \n 8      386    0.65  \n 9      381    0.64  \n 10     374    0.63  \n 11     366    0.61  \n 12     351    0.59  \n 13     319    0.53  \n 14     294    0.49  \n 15     289    0.48  \n 16     287    0.48  \n 17     253    0.42  \n 18     232    0.39  \n 19     227    0.38  ,\n    srccountry  srccountry计数  srccountry%比\n 0  \"Reserved\"         59644         100.0,\n        dstcountry  dstcountry计数  dstcountry%比\n 14        \"Japan\"         36368         60.98\n 25        \"United         15162         25.42\n 20    \"Singapore\"          2747          4.61\n 0     \"Australia\"          1293          2.17\n 15        \"Korea,          1040          1.74\n 9           \"Hong           882          1.48\n 4         \"China\"           486          0.81\n 11      \"Ireland\"           452          0.76\n 17  \"Netherlands\"           445          0.75\n 10        \"India\"           329          0.55\n 7        \"France\"           284          0.48\n 8       \"Germany\"            59          0.10\n 19     \"Reserved\"            27          0.05\n 24       \"Taiwan\"            24          0.04\n 22        \"Spain\"            11          0.02\n 3        \"Canada\"             7          0.01\n 13        \"Italy\"             6          0.01\n 18       \"Norway\"             3          0.01\n 21         \"South             3          0.01\n 12       \"Israel\"             3          0.01)"
     },
     "execution_count": 65,
     "metadata": {},
     "output_type": "execute_result"
    }
   ],
   "source": [
    "detail_analysis_by_column_and_value(all_logs_df, 'logid', all_logs_df.iloc[12]['logid'])"
   ],
   "metadata": {
    "collapsed": false,
    "ExecuteTime": {
     "end_time": "2023-10-10T00:19:41.989813100Z",
     "start_time": "2023-10-10T00:19:40.281697600Z"
    }
   },
   "id": "de02dc84dc34c188"
  },
  {
   "cell_type": "code",
   "execution_count": 81,
   "outputs": [
    {
     "name": "stdout",
     "output_type": "stream",
     "text": [
      "Index(['date', 'time', 'devname', 'devid', 'logid', 'type', 'subtype', 'level',\n",
      "       'vd', 'eventtime', 'tz', 'srcip', 'srcport', 'srcintf', 'srcintfrole',\n",
      "       'dstip', 'dstport', 'dstintf', 'dstintfrole', 'sessionid', 'proto',\n",
      "       'action', 'policyid', 'policytype', 'poluuid', 'service', 'dstcountry',\n",
      "       'srccountry', 'trandisp', 'transip', 'transport', 'duration',\n",
      "       'sentbyte', 'rcvdbyte', 'sentpkt', 'rcvdpkt', 'appcat', 'sentdelta',\n",
      "       'rcvddelta', 'crscore', 'craction', 'crlevel', 'app', 'identifier',\n",
      "       'logdesc', 'interface', 'dhcp_msg', 'mac', 'ip', 'lease', 'hostname',\n",
      "       'msg', 'tunneltype', 'tunnelid', 'remip', 'user', 'group', 'dst_host',\n",
      "       'reason', 'cpu', 'mem', 'totalsession', 'disk', 'bandwidth',\n",
      "       'setuprate', 'disklograte', 'fazlograte', 'freediskstorage',\n",
      "       'sysuptime', 'total', 'used', 'auditid', 'audittime', 'auditscore',\n",
      "       'criticalcount', 'highcount', 'mediumcount', 'lowcount', 'passedcount',\n",
      "       'status', 'fcni', 'fdni', 'fsci', 'pid', 'cause', 'desc'],\n",
      "      dtype='object')\n",
      "index = 0 value = \"0000000013\"\n",
      "index = 1 value = \"0000000020\"\n",
      "index = 12 value = \"0000000011\"\n",
      "index = 53 value = \"0001000014\"\n",
      "index = 827 value = \"0100026001\"\n",
      "index = 1399 value = \"0101039426\"\n",
      "index = 3611 value = \"0100040704\"\n",
      "index = 15150 value = \"0101039943\"\n",
      "index = 100068 value = \"0100026003\"\n",
      "index = 612439 value = \"0101039946\"\n",
      "index = 613245 value = \"0101039944\"\n",
      "index = 756415 value = \"0100022813\"\n",
      "index = 913468 value = \"0100041000\"\n",
      "index = 921527 value = \"0110052000\"\n",
      "index = 804075 value = \"0100032023\"\n",
      "index = 984182 value = \"0102038012\"\n"
     ]
    }
   ],
   "source": [
    "print(all_logs_df.columns)\n",
    "print(\"index = 0 value = \" + all_logs_df.iloc[0]['logid'])\n",
    "print(\"index = 1 value = \" + all_logs_df.iloc[1]['logid'])\n",
    "print(\"index = 12 value = \" + all_logs_df.iloc[12]['logid'])\n",
    "print(\"index = 53 value = \" + all_logs_df.iloc[53]['logid'])\n",
    "print(\"index = 827 value = \" + all_logs_df.iloc[827]['logid'])\n",
    "print(\"index = 1399 value = \" + all_logs_df.iloc[1399]['logid'])\n",
    "print(\"index = 3611 value = \" + all_logs_df.iloc[3611]['logid'])\n",
    "print(\"index = 15150 value = \" + all_logs_df.iloc[15150]['logid'])\n",
    "print(\"index = 100068 value = \" + all_logs_df.iloc[100068]['logid'])\n",
    "print(\"index = 612439 value = \" + all_logs_df.iloc[612439]['logid'])\n",
    "print(\"index = 613245 value = \" + all_logs_df.iloc[613245]['logid'])\n",
    "print(\"index = 756415 value = \" + all_logs_df.iloc[756415]['logid'])\n",
    "print(\"index = 913468 value = \" + all_logs_df.iloc[913468]['logid'])\n",
    "print(\"index = 921527 value = \" + all_logs_df.iloc[921527]['logid'])\n",
    "print(\"index = 804075 value = \" + all_logs_df.iloc[804075]['logid'])\n",
    "print(\"index = 984182 value = \" + all_logs_df.iloc[984182]['logid'])"
   ],
   "metadata": {
    "collapsed": false,
    "ExecuteTime": {
     "end_time": "2023-10-10T01:34:55.694985900Z",
     "start_time": "2023-10-10T01:34:55.674862Z"
    }
   },
   "id": "891a2d9508fa20dc"
  },
  {
   "cell_type": "code",
   "execution_count": 90,
   "outputs": [
    {
     "name": "stdout",
     "output_type": "stream",
     "text": [
      "      type  type计数  type%比\n",
      "0  \"event\"       1   100.0\n",
      "  subtype  subtype计数  subtype%比\n",
      "0  \"user\"          1      100.0\n",
      "      level  level计数  level%比\n",
      "0  \"notice\"        1    100.0\n",
      "          msg  msg计数  msg%比\n",
      "0  \"Reseeding      1  100.0\n",
      "    logdesc  logdesc计数  logdesc%比\n",
      "0  \"Seeding          1      100.0\n",
      "Empty DataFrame\n",
      "Columns: [desc, desc计数, desc%比]\n",
      "Index: []\n",
      "Empty DataFrame\n",
      "Columns: [reason, reason计数, reason%比]\n",
      "Index: []\n"
     ]
    }
   ],
   "source": [
    "df_logid_xxx = select_by_column_name_and_value(all_logs_df, 'logid', all_logs_df.iloc[984182]['logid']) \n",
    "print(count_column_with_ratios(df_logid_xxx, \"type\").head(20))\n",
    "print(count_column_with_ratios(df_logid_xxx, \"subtype\").head(20))\n",
    "print(count_column_with_ratios(df_logid_xxx, \"level\").head(20))\n",
    "print(count_column_with_ratios(df_logid_xxx, \"msg\").head(20))\n",
    "print(count_column_with_ratios(df_logid_xxx, \"logdesc\").head(20))\n",
    "print(count_column_with_ratios(df_logid_xxx, \"desc\").head(20))\n",
    "print(count_column_with_ratios(df_logid_xxx, \"reason\").head(20))"
   ],
   "metadata": {
    "collapsed": false,
    "ExecuteTime": {
     "end_time": "2023-10-10T02:25:47.245936100Z",
     "start_time": "2023-10-10T02:25:47.191083300Z"
    }
   },
   "id": "5ddc377a839cd4fd"
  },
  {
   "cell_type": "code",
   "execution_count": 32,
   "outputs": [
    {
     "data": {
      "text/plain": "<Figure size 800x600 with 1 Axes>",
      "image/png": "[encoded data removed]"
     },
     "metadata": {},
     "output_type": "display_data"
    }
   ],
   "source": [
    "import pandas as pd\n",
    "import matplotlib.pyplot as plt\n",
    "\n",
    "data = {\n",
    "    'Country': ['United States', 'Russia', 'China', 'India', 'Brazil'],\n",
    "    'Population': [328, 144, 1400, 1380, 212],\n",
    "    'Area (millions of km²)': [9.8, 17.1, 9.6, 3.3, 8.5]\n",
    "}\n",
    "\n",
    "df = pd.DataFrame(data)\n",
    "\n",
    "plt.style.use('ggplot')\n",
    "\n",
    "df.plot(kind='bar', x='Country', y='Population', figsize=(8, 6))\n",
    "plt.savefig('population.png', format='png', dpi=300)"
   ],
   "metadata": {
    "collapsed": false,
    "ExecuteTime": {
     "end_time": "2023-10-09T13:37:46.970216500Z",
     "start_time": "2023-10-09T13:37:44.208177Z"
    }
   },
   "id": "500149523087969b"
  },
  {
   "cell_type": "code",
   "execution_count": null,
   "outputs": [],
   "source": [],
   "metadata": {
    "collapsed": false
   },
   "id": "12852ea5ea63edaf"
  }
 ],
 "metadata": {
  "kernelspec": {
   "display_name": "Python 3",
   "language": "python",
   "name": "python3"
  },
  "language_info": {
   "codemirror_mode": {
    "name": "ipython",
    "version": 2
   },
   "file_extension": ".py",
   "mimetype": "text/x-python",
   "name": "python",
   "nbconvert_exporter": "python",
   "pygments_lexer": "ipython2",
   "version": "2.7.6"
  }
 },
 "nbformat": 4,
 "nbformat_minor": 5
}
