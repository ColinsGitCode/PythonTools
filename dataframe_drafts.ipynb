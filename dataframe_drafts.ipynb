{
 "cells": [
  {
   "cell_type": "code",
   "id": "initial_id",
   "metadata": {
    "collapsed": true,
    "ExecuteTime": {
     "end_time": "2024-05-29T01:55:51.646119Z",
     "start_time": "2024-05-29T01:55:51.223183Z"
    }
   },
   "source": [
    "import pandas as pd\n",
    "\n",
    "# 创建两个示例DataFrame\n",
    "data1 = {\n",
    "    'index_col': ['A', 'B', 'C'],\n",
    "    'value1': [1, 2, 3],\n",
    "    'value2': [4, 5, 6]\n",
    "}\n",
    "\n",
    "data2 = {\n",
    "    'index_col': ['B', 'C', 'D'],\n",
    "    'value1': [7, 8, 9],\n",
    "    'value2': [10, 11, 12]\n",
    "}\n",
    "\n",
    "df1 = pd.DataFrame(data1).set_index('index_col')\n",
    "df2 = pd.DataFrame(data2).set_index('index_col')\n",
    "\n",
    "# 合并两个DataFrame，按索引列处理，缺失值填充为0\n",
    "merged_df = df1.combine_first(df2).fillna(0)\n",
    "\n",
    "# 按索引合并并将相同列相加\n",
    "result_df = df1.add(df2, fill_value=0).fillna(0)\n",
    "\n",
    "# 打印结果\n",
    "print(result_df)\n"
   ],
   "outputs": [
    {
     "name": "stdout",
     "output_type": "stream",
     "text": [
      "           value1  value2\n",
      "index_col                \n",
      "A             1.0     4.0\n",
      "B             9.0    15.0\n",
      "C            11.0    17.0\n",
      "D             9.0    12.0\n"
     ]
    }
   ],
   "execution_count": 1
  },
  {
   "metadata": {
    "ExecuteTime": {
     "end_time": "2024-05-29T01:55:59.222534Z",
     "start_time": "2024-05-29T01:55:59.192696Z"
    }
   },
   "cell_type": "code",
   "source": "df1",
   "id": "5278a03ea565011b",
   "outputs": [
    {
     "data": {
      "text/plain": [
       "           value1  value2\n",
       "index_col                \n",
       "A               1       4\n",
       "B               2       5\n",
       "C               3       6"
      ],
      "text/html": [
       "<div>\n",
       "<style scoped>\n",
       "    .dataframe tbody tr th:only-of-type {\n",
       "        vertical-align: middle;\n",
       "    }\n",
       "\n",
       "    .dataframe tbody tr th {\n",
       "        vertical-align: top;\n",
       "    }\n",
       "\n",
       "    .dataframe thead th {\n",
       "        text-align: right;\n",
       "    }\n",
       "</style>\n",
       "<table border=\"1\" class=\"dataframe\">\n",
       "  <thead>\n",
       "    <tr style=\"text-align: right;\">\n",
       "      <th></th>\n",
       "      <th>value1</th>\n",
       "      <th>value2</th>\n",
       "    </tr>\n",
       "    <tr>\n",
       "      <th>index_col</th>\n",
       "      <th></th>\n",
       "      <th></th>\n",
       "    </tr>\n",
       "  </thead>\n",
       "  <tbody>\n",
       "    <tr>\n",
       "      <th>A</th>\n",
       "      <td>1</td>\n",
       "      <td>4</td>\n",
       "    </tr>\n",
       "    <tr>\n",
       "      <th>B</th>\n",
       "      <td>2</td>\n",
       "      <td>5</td>\n",
       "    </tr>\n",
       "    <tr>\n",
       "      <th>C</th>\n",
       "      <td>3</td>\n",
       "      <td>6</td>\n",
       "    </tr>\n",
       "  </tbody>\n",
       "</table>\n",
       "</div>"
      ]
     },
     "execution_count": 2,
     "metadata": {},
     "output_type": "execute_result"
    }
   ],
   "execution_count": 2
  },
  {
   "metadata": {
    "ExecuteTime": {
     "end_time": "2024-05-29T01:56:03.630164Z",
     "start_time": "2024-05-29T01:56:03.602319Z"
    }
   },
   "cell_type": "code",
   "source": "df2",
   "id": "342f1fc1647c562b",
   "outputs": [
    {
     "data": {
      "text/plain": [
       "           value1  value2\n",
       "index_col                \n",
       "B               7      10\n",
       "C               8      11\n",
       "D               9      12"
      ],
      "text/html": [
       "<div>\n",
       "<style scoped>\n",
       "    .dataframe tbody tr th:only-of-type {\n",
       "        vertical-align: middle;\n",
       "    }\n",
       "\n",
       "    .dataframe tbody tr th {\n",
       "        vertical-align: top;\n",
       "    }\n",
       "\n",
       "    .dataframe thead th {\n",
       "        text-align: right;\n",
       "    }\n",
       "</style>\n",
       "<table border=\"1\" class=\"dataframe\">\n",
       "  <thead>\n",
       "    <tr style=\"text-align: right;\">\n",
       "      <th></th>\n",
       "      <th>value1</th>\n",
       "      <th>value2</th>\n",
       "    </tr>\n",
       "    <tr>\n",
       "      <th>index_col</th>\n",
       "      <th></th>\n",
       "      <th></th>\n",
       "    </tr>\n",
       "  </thead>\n",
       "  <tbody>\n",
       "    <tr>\n",
       "      <th>B</th>\n",
       "      <td>7</td>\n",
       "      <td>10</td>\n",
       "    </tr>\n",
       "    <tr>\n",
       "      <th>C</th>\n",
       "      <td>8</td>\n",
       "      <td>11</td>\n",
       "    </tr>\n",
       "    <tr>\n",
       "      <th>D</th>\n",
       "      <td>9</td>\n",
       "      <td>12</td>\n",
       "    </tr>\n",
       "  </tbody>\n",
       "</table>\n",
       "</div>"
      ]
     },
     "execution_count": 3,
     "metadata": {},
     "output_type": "execute_result"
    }
   ],
   "execution_count": 3
  },
  {
   "metadata": {},
   "cell_type": "code",
   "outputs": [],
   "execution_count": null,
   "source": "",
   "id": "bb33b86665222466"
  }
 ],
 "metadata": {
  "kernelspec": {
   "display_name": "Python 3",
   "language": "python",
   "name": "python3"
  },
  "language_info": {
   "codemirror_mode": {
    "name": "ipython",
    "version": 2
   },
   "file_extension": ".py",
   "mimetype": "text/x-python",
   "name": "python",
   "nbconvert_exporter": "python",
   "pygments_lexer": "ipython2",
   "version": "2.7.6"
  }
 },
 "nbformat": 4,
 "nbformat_minor": 5
}
